{
  "nbformat": 4,
  "nbformat_minor": 0,
  "metadata": {
    "colab": {
      "name": "Project7-Problem1",
      "provenance": [],
      "collapsed_sections": []
    },
    "kernelspec": {
      "name": "python3",
      "display_name": "Python 3"
    },
    "language_info": {
      "name": "python"
    }
  },
  "cells": [
    {
      "cell_type": "markdown",
      "source": [
        "# **Project 7**"
      ],
      "metadata": {
        "id": "aHxl0-o8cfhv"
      }
    },
    {
      "cell_type": "code",
      "source": [
        "#import all libraries needed:\n",
        "import pandas as pd\n",
        "import numpy as np\n",
        "import seaborn as sns\n",
        "import matplotlib.pyplot as plt"
      ],
      "metadata": {
        "id": "ERCLtPrlusj7"
      },
      "execution_count": 1,
      "outputs": []
    },
    {
      "cell_type": "markdown",
      "source": [
        "# **Load the data**"
      ],
      "metadata": {
        "id": "IyKApgKCviTB"
      }
    },
    {
      "cell_type": "code",
      "execution_count": 2,
      "metadata": {
        "colab": {
          "base_uri": "https://localhost:8080/",
          "height": 505
        },
        "id": "JsRsBYQCtvdB",
        "outputId": "ea291a37-e28a-4622-b906-93492e3dce6d"
      },
      "outputs": [
        {
          "output_type": "execute_result",
          "data": {
            "text/plain": [
              "     erythema  scaling  definite_borders  itching  koebner_phenomenon  \\\n",
              "0           2        2                 0        3                   0   \n",
              "1           3        3                 3        2                   1   \n",
              "2           2        1                 2        3                   1   \n",
              "3           2        2                 2        0                   0   \n",
              "4           2        3                 2        2                   2   \n",
              "..        ...      ...               ...      ...                 ...   \n",
              "361         2        1                 1        0                   1   \n",
              "362         3        2                 1        0                   1   \n",
              "363         3        2                 2        2                   3   \n",
              "364         2        1                 3        1                   2   \n",
              "365         3        2                 2        0                   0   \n",
              "\n",
              "     polygonal_papules  follicular_papules  oral_mucosal_involvement  \\\n",
              "0                    0                   0                         0   \n",
              "1                    0                   0                         0   \n",
              "2                    3                   0                         3   \n",
              "3                    0                   0                         0   \n",
              "4                    2                   0                         2   \n",
              "..                 ...                 ...                       ...   \n",
              "361                  0                   0                         0   \n",
              "362                  0                   0                         0   \n",
              "363                  2                   0                         2   \n",
              "364                  3                   0                         2   \n",
              "365                  0                   0                         0   \n",
              "\n",
              "     knee_and_elbow_involvement  scalp_involvement  ...  \\\n",
              "0                             1                  0  ...   \n",
              "1                             1                  1  ...   \n",
              "2                             0                  0  ...   \n",
              "3                             3                  2  ...   \n",
              "4                             0                  0  ...   \n",
              "..                          ...                ...  ...   \n",
              "361                           0                  0  ...   \n",
              "362                           0                  0  ...   \n",
              "363                           0                  0  ...   \n",
              "364                           0                  0  ...   \n",
              "365                           3                  3  ...   \n",
              "\n",
              "     disappearance_of_the_granular_layer  \\\n",
              "0                                      0   \n",
              "1                                      0   \n",
              "2                                      0   \n",
              "3                                      3   \n",
              "4                                      2   \n",
              "..                                   ...   \n",
              "361                                    0   \n",
              "362                                    1   \n",
              "363                                    0   \n",
              "364                                    0   \n",
              "365                                    2   \n",
              "\n",
              "     vacuolisation_and_damage_of_basal_layer  spongiosis  \\\n",
              "0                                          0           3   \n",
              "1                                          0           0   \n",
              "2                                          2           3   \n",
              "3                                          0           0   \n",
              "4                                          3           2   \n",
              "..                                       ...         ...   \n",
              "361                                        0           1   \n",
              "362                                        0           1   \n",
              "363                                        3           0   \n",
              "364                                        2           0   \n",
              "365                                        0           0   \n",
              "\n",
              "     saw-tooth_appearance_of_retes  follicular_horn_plug  \\\n",
              "0                                0                     0   \n",
              "1                                0                     0   \n",
              "2                                2                     0   \n",
              "3                                0                     0   \n",
              "4                                3                     0   \n",
              "..                             ...                   ...   \n",
              "361                              0                     0   \n",
              "362                              0                     0   \n",
              "363                              3                     0   \n",
              "364                              1                     0   \n",
              "365                              0                     0   \n",
              "\n",
              "     perifollicular_parakeratosis  inflammatory_monoluclear_inflitrate  \\\n",
              "0                               0                                    1   \n",
              "1                               0                                    1   \n",
              "2                               0                                    2   \n",
              "3                               0                                    3   \n",
              "4                               0                                    2   \n",
              "..                            ...                                  ...   \n",
              "361                             0                                    2   \n",
              "362                             0                                    2   \n",
              "363                             0                                    2   \n",
              "364                             0                                    2   \n",
              "365                             0                                    3   \n",
              "\n",
              "     band-like_infiltrate   age  class  \n",
              "0                       0  55.0      2  \n",
              "1                       0   8.0      1  \n",
              "2                       3  26.0      3  \n",
              "3                       0  40.0      1  \n",
              "4                       3  45.0      3  \n",
              "..                    ...   ...    ...  \n",
              "361                     0  25.0      4  \n",
              "362                     0  36.0      4  \n",
              "363                     3  28.0      3  \n",
              "364                     3  50.0      3  \n",
              "365                     0  35.0      1  \n",
              "\n",
              "[366 rows x 35 columns]"
            ],
            "text/html": [
              "\n",
              "  <div id=\"df-00c2812e-1395-4e10-850c-868b33c7245c\">\n",
              "    <div class=\"colab-df-container\">\n",
              "      <div>\n",
              "<style scoped>\n",
              "    .dataframe tbody tr th:only-of-type {\n",
              "        vertical-align: middle;\n",
              "    }\n",
              "\n",
              "    .dataframe tbody tr th {\n",
              "        vertical-align: top;\n",
              "    }\n",
              "\n",
              "    .dataframe thead th {\n",
              "        text-align: right;\n",
              "    }\n",
              "</style>\n",
              "<table border=\"1\" class=\"dataframe\">\n",
              "  <thead>\n",
              "    <tr style=\"text-align: right;\">\n",
              "      <th></th>\n",
              "      <th>erythema</th>\n",
              "      <th>scaling</th>\n",
              "      <th>definite_borders</th>\n",
              "      <th>itching</th>\n",
              "      <th>koebner_phenomenon</th>\n",
              "      <th>polygonal_papules</th>\n",
              "      <th>follicular_papules</th>\n",
              "      <th>oral_mucosal_involvement</th>\n",
              "      <th>knee_and_elbow_involvement</th>\n",
              "      <th>scalp_involvement</th>\n",
              "      <th>...</th>\n",
              "      <th>disappearance_of_the_granular_layer</th>\n",
              "      <th>vacuolisation_and_damage_of_basal_layer</th>\n",
              "      <th>spongiosis</th>\n",
              "      <th>saw-tooth_appearance_of_retes</th>\n",
              "      <th>follicular_horn_plug</th>\n",
              "      <th>perifollicular_parakeratosis</th>\n",
              "      <th>inflammatory_monoluclear_inflitrate</th>\n",
              "      <th>band-like_infiltrate</th>\n",
              "      <th>age</th>\n",
              "      <th>class</th>\n",
              "    </tr>\n",
              "  </thead>\n",
              "  <tbody>\n",
              "    <tr>\n",
              "      <th>0</th>\n",
              "      <td>2</td>\n",
              "      <td>2</td>\n",
              "      <td>0</td>\n",
              "      <td>3</td>\n",
              "      <td>0</td>\n",
              "      <td>0</td>\n",
              "      <td>0</td>\n",
              "      <td>0</td>\n",
              "      <td>1</td>\n",
              "      <td>0</td>\n",
              "      <td>...</td>\n",
              "      <td>0</td>\n",
              "      <td>0</td>\n",
              "      <td>3</td>\n",
              "      <td>0</td>\n",
              "      <td>0</td>\n",
              "      <td>0</td>\n",
              "      <td>1</td>\n",
              "      <td>0</td>\n",
              "      <td>55.0</td>\n",
              "      <td>2</td>\n",
              "    </tr>\n",
              "    <tr>\n",
              "      <th>1</th>\n",
              "      <td>3</td>\n",
              "      <td>3</td>\n",
              "      <td>3</td>\n",
              "      <td>2</td>\n",
              "      <td>1</td>\n",
              "      <td>0</td>\n",
              "      <td>0</td>\n",
              "      <td>0</td>\n",
              "      <td>1</td>\n",
              "      <td>1</td>\n",
              "      <td>...</td>\n",
              "      <td>0</td>\n",
              "      <td>0</td>\n",
              "      <td>0</td>\n",
              "      <td>0</td>\n",
              "      <td>0</td>\n",
              "      <td>0</td>\n",
              "      <td>1</td>\n",
              "      <td>0</td>\n",
              "      <td>8.0</td>\n",
              "      <td>1</td>\n",
              "    </tr>\n",
              "    <tr>\n",
              "      <th>2</th>\n",
              "      <td>2</td>\n",
              "      <td>1</td>\n",
              "      <td>2</td>\n",
              "      <td>3</td>\n",
              "      <td>1</td>\n",
              "      <td>3</td>\n",
              "      <td>0</td>\n",
              "      <td>3</td>\n",
              "      <td>0</td>\n",
              "      <td>0</td>\n",
              "      <td>...</td>\n",
              "      <td>0</td>\n",
              "      <td>2</td>\n",
              "      <td>3</td>\n",
              "      <td>2</td>\n",
              "      <td>0</td>\n",
              "      <td>0</td>\n",
              "      <td>2</td>\n",
              "      <td>3</td>\n",
              "      <td>26.0</td>\n",
              "      <td>3</td>\n",
              "    </tr>\n",
              "    <tr>\n",
              "      <th>3</th>\n",
              "      <td>2</td>\n",
              "      <td>2</td>\n",
              "      <td>2</td>\n",
              "      <td>0</td>\n",
              "      <td>0</td>\n",
              "      <td>0</td>\n",
              "      <td>0</td>\n",
              "      <td>0</td>\n",
              "      <td>3</td>\n",
              "      <td>2</td>\n",
              "      <td>...</td>\n",
              "      <td>3</td>\n",
              "      <td>0</td>\n",
              "      <td>0</td>\n",
              "      <td>0</td>\n",
              "      <td>0</td>\n",
              "      <td>0</td>\n",
              "      <td>3</td>\n",
              "      <td>0</td>\n",
              "      <td>40.0</td>\n",
              "      <td>1</td>\n",
              "    </tr>\n",
              "    <tr>\n",
              "      <th>4</th>\n",
              "      <td>2</td>\n",
              "      <td>3</td>\n",
              "      <td>2</td>\n",
              "      <td>2</td>\n",
              "      <td>2</td>\n",
              "      <td>2</td>\n",
              "      <td>0</td>\n",
              "      <td>2</td>\n",
              "      <td>0</td>\n",
              "      <td>0</td>\n",
              "      <td>...</td>\n",
              "      <td>2</td>\n",
              "      <td>3</td>\n",
              "      <td>2</td>\n",
              "      <td>3</td>\n",
              "      <td>0</td>\n",
              "      <td>0</td>\n",
              "      <td>2</td>\n",
              "      <td>3</td>\n",
              "      <td>45.0</td>\n",
              "      <td>3</td>\n",
              "    </tr>\n",
              "    <tr>\n",
              "      <th>...</th>\n",
              "      <td>...</td>\n",
              "      <td>...</td>\n",
              "      <td>...</td>\n",
              "      <td>...</td>\n",
              "      <td>...</td>\n",
              "      <td>...</td>\n",
              "      <td>...</td>\n",
              "      <td>...</td>\n",
              "      <td>...</td>\n",
              "      <td>...</td>\n",
              "      <td>...</td>\n",
              "      <td>...</td>\n",
              "      <td>...</td>\n",
              "      <td>...</td>\n",
              "      <td>...</td>\n",
              "      <td>...</td>\n",
              "      <td>...</td>\n",
              "      <td>...</td>\n",
              "      <td>...</td>\n",
              "      <td>...</td>\n",
              "      <td>...</td>\n",
              "    </tr>\n",
              "    <tr>\n",
              "      <th>361</th>\n",
              "      <td>2</td>\n",
              "      <td>1</td>\n",
              "      <td>1</td>\n",
              "      <td>0</td>\n",
              "      <td>1</td>\n",
              "      <td>0</td>\n",
              "      <td>0</td>\n",
              "      <td>0</td>\n",
              "      <td>0</td>\n",
              "      <td>0</td>\n",
              "      <td>...</td>\n",
              "      <td>0</td>\n",
              "      <td>0</td>\n",
              "      <td>1</td>\n",
              "      <td>0</td>\n",
              "      <td>0</td>\n",
              "      <td>0</td>\n",
              "      <td>2</td>\n",
              "      <td>0</td>\n",
              "      <td>25.0</td>\n",
              "      <td>4</td>\n",
              "    </tr>\n",
              "    <tr>\n",
              "      <th>362</th>\n",
              "      <td>3</td>\n",
              "      <td>2</td>\n",
              "      <td>1</td>\n",
              "      <td>0</td>\n",
              "      <td>1</td>\n",
              "      <td>0</td>\n",
              "      <td>0</td>\n",
              "      <td>0</td>\n",
              "      <td>0</td>\n",
              "      <td>0</td>\n",
              "      <td>...</td>\n",
              "      <td>1</td>\n",
              "      <td>0</td>\n",
              "      <td>1</td>\n",
              "      <td>0</td>\n",
              "      <td>0</td>\n",
              "      <td>0</td>\n",
              "      <td>2</td>\n",
              "      <td>0</td>\n",
              "      <td>36.0</td>\n",
              "      <td>4</td>\n",
              "    </tr>\n",
              "    <tr>\n",
              "      <th>363</th>\n",
              "      <td>3</td>\n",
              "      <td>2</td>\n",
              "      <td>2</td>\n",
              "      <td>2</td>\n",
              "      <td>3</td>\n",
              "      <td>2</td>\n",
              "      <td>0</td>\n",
              "      <td>2</td>\n",
              "      <td>0</td>\n",
              "      <td>0</td>\n",
              "      <td>...</td>\n",
              "      <td>0</td>\n",
              "      <td>3</td>\n",
              "      <td>0</td>\n",
              "      <td>3</td>\n",
              "      <td>0</td>\n",
              "      <td>0</td>\n",
              "      <td>2</td>\n",
              "      <td>3</td>\n",
              "      <td>28.0</td>\n",
              "      <td>3</td>\n",
              "    </tr>\n",
              "    <tr>\n",
              "      <th>364</th>\n",
              "      <td>2</td>\n",
              "      <td>1</td>\n",
              "      <td>3</td>\n",
              "      <td>1</td>\n",
              "      <td>2</td>\n",
              "      <td>3</td>\n",
              "      <td>0</td>\n",
              "      <td>2</td>\n",
              "      <td>0</td>\n",
              "      <td>0</td>\n",
              "      <td>...</td>\n",
              "      <td>0</td>\n",
              "      <td>2</td>\n",
              "      <td>0</td>\n",
              "      <td>1</td>\n",
              "      <td>0</td>\n",
              "      <td>0</td>\n",
              "      <td>2</td>\n",
              "      <td>3</td>\n",
              "      <td>50.0</td>\n",
              "      <td>3</td>\n",
              "    </tr>\n",
              "    <tr>\n",
              "      <th>365</th>\n",
              "      <td>3</td>\n",
              "      <td>2</td>\n",
              "      <td>2</td>\n",
              "      <td>0</td>\n",
              "      <td>0</td>\n",
              "      <td>0</td>\n",
              "      <td>0</td>\n",
              "      <td>0</td>\n",
              "      <td>3</td>\n",
              "      <td>3</td>\n",
              "      <td>...</td>\n",
              "      <td>2</td>\n",
              "      <td>0</td>\n",
              "      <td>0</td>\n",
              "      <td>0</td>\n",
              "      <td>0</td>\n",
              "      <td>0</td>\n",
              "      <td>3</td>\n",
              "      <td>0</td>\n",
              "      <td>35.0</td>\n",
              "      <td>1</td>\n",
              "    </tr>\n",
              "  </tbody>\n",
              "</table>\n",
              "<p>366 rows × 35 columns</p>\n",
              "</div>\n",
              "      <button class=\"colab-df-convert\" onclick=\"convertToInteractive('df-00c2812e-1395-4e10-850c-868b33c7245c')\"\n",
              "              title=\"Convert this dataframe to an interactive table.\"\n",
              "              style=\"display:none;\">\n",
              "        \n",
              "  <svg xmlns=\"http://www.w3.org/2000/svg\" height=\"24px\"viewBox=\"0 0 24 24\"\n",
              "       width=\"24px\">\n",
              "    <path d=\"M0 0h24v24H0V0z\" fill=\"none\"/>\n",
              "    <path d=\"M18.56 5.44l.94 2.06.94-2.06 2.06-.94-2.06-.94-.94-2.06-.94 2.06-2.06.94zm-11 1L8.5 8.5l.94-2.06 2.06-.94-2.06-.94L8.5 2.5l-.94 2.06-2.06.94zm10 10l.94 2.06.94-2.06 2.06-.94-2.06-.94-.94-2.06-.94 2.06-2.06.94z\"/><path d=\"M17.41 7.96l-1.37-1.37c-.4-.4-.92-.59-1.43-.59-.52 0-1.04.2-1.43.59L10.3 9.45l-7.72 7.72c-.78.78-.78 2.05 0 2.83L4 21.41c.39.39.9.59 1.41.59.51 0 1.02-.2 1.41-.59l7.78-7.78 2.81-2.81c.8-.78.8-2.07 0-2.86zM5.41 20L4 18.59l7.72-7.72 1.47 1.35L5.41 20z\"/>\n",
              "  </svg>\n",
              "      </button>\n",
              "      \n",
              "  <style>\n",
              "    .colab-df-container {\n",
              "      display:flex;\n",
              "      flex-wrap:wrap;\n",
              "      gap: 12px;\n",
              "    }\n",
              "\n",
              "    .colab-df-convert {\n",
              "      background-color: #E8F0FE;\n",
              "      border: none;\n",
              "      border-radius: 50%;\n",
              "      cursor: pointer;\n",
              "      display: none;\n",
              "      fill: #1967D2;\n",
              "      height: 32px;\n",
              "      padding: 0 0 0 0;\n",
              "      width: 32px;\n",
              "    }\n",
              "\n",
              "    .colab-df-convert:hover {\n",
              "      background-color: #E2EBFA;\n",
              "      box-shadow: 0px 1px 2px rgba(60, 64, 67, 0.3), 0px 1px 3px 1px rgba(60, 64, 67, 0.15);\n",
              "      fill: #174EA6;\n",
              "    }\n",
              "\n",
              "    [theme=dark] .colab-df-convert {\n",
              "      background-color: #3B4455;\n",
              "      fill: #D2E3FC;\n",
              "    }\n",
              "\n",
              "    [theme=dark] .colab-df-convert:hover {\n",
              "      background-color: #434B5C;\n",
              "      box-shadow: 0px 1px 3px 1px rgba(0, 0, 0, 0.15);\n",
              "      filter: drop-shadow(0px 1px 2px rgba(0, 0, 0, 0.3));\n",
              "      fill: #FFFFFF;\n",
              "    }\n",
              "  </style>\n",
              "\n",
              "      <script>\n",
              "        const buttonEl =\n",
              "          document.querySelector('#df-00c2812e-1395-4e10-850c-868b33c7245c button.colab-df-convert');\n",
              "        buttonEl.style.display =\n",
              "          google.colab.kernel.accessAllowed ? 'block' : 'none';\n",
              "\n",
              "        async function convertToInteractive(key) {\n",
              "          const element = document.querySelector('#df-00c2812e-1395-4e10-850c-868b33c7245c');\n",
              "          const dataTable =\n",
              "            await google.colab.kernel.invokeFunction('convertToInteractive',\n",
              "                                                     [key], {});\n",
              "          if (!dataTable) return;\n",
              "\n",
              "          const docLinkHtml = 'Like what you see? Visit the ' +\n",
              "            '<a target=\"_blank\" href=https://colab.research.google.com/notebooks/data_table.ipynb>data table notebook</a>'\n",
              "            + ' to learn more about interactive tables.';\n",
              "          element.innerHTML = '';\n",
              "          dataTable['output_type'] = 'display_data';\n",
              "          await google.colab.output.renderOutput(dataTable, element);\n",
              "          const docLink = document.createElement('div');\n",
              "          docLink.innerHTML = docLinkHtml;\n",
              "          element.appendChild(docLink);\n",
              "        }\n",
              "      </script>\n",
              "    </div>\n",
              "  </div>\n",
              "  "
            ]
          },
          "metadata": {},
          "execution_count": 2
        }
      ],
      "source": [
        "df = pd.read_csv(\"https://raw.githubusercontent.com/CalColistra/IDS/main/Project7/problem1/dermatology.csv\")\n",
        "df"
      ]
    },
    {
      "cell_type": "markdown",
      "source": [
        "# **Check for any missing values and impute, if necessary**"
      ],
      "metadata": {
        "id": "n_E_ZjA6vmGQ"
      }
    },
    {
      "cell_type": "code",
      "source": [
        "df.isnull().sum()"
      ],
      "metadata": {
        "colab": {
          "base_uri": "https://localhost:8080/",
          "height": 0
        },
        "id": "yjy7xYmfvjg3",
        "outputId": "81dcf82e-1185-4900-b788-f48f12bbeff1"
      },
      "execution_count": 3,
      "outputs": [
        {
          "output_type": "execute_result",
          "data": {
            "text/plain": [
              "erythema                                    0\n",
              "scaling                                     0\n",
              "definite_borders                            0\n",
              "itching                                     0\n",
              "koebner_phenomenon                          0\n",
              "polygonal_papules                           0\n",
              "follicular_papules                          0\n",
              "oral_mucosal_involvement                    0\n",
              "knee_and_elbow_involvement                  0\n",
              "scalp_involvement                           0\n",
              "family_history                              0\n",
              "melanin_incontinence                        0\n",
              "eosinophils_in_the_infiltrate               0\n",
              "pnl_infiltrate                              0\n",
              "fibrosis_of_the_papillary_dermis            0\n",
              "exocytosis                                  0\n",
              "acanthosis                                  0\n",
              "hyperkeratosis                              0\n",
              "parakeratosis                               0\n",
              "clubbing_of_the_rete_ridges                 0\n",
              "elongation_of_the_rete_ridges               0\n",
              "thinning_of_the_suprapapillary_epidermis    0\n",
              "spongiform_pustule                          0\n",
              "munro_microabcess                           0\n",
              "focal_hypergranulosis                       0\n",
              "disappearance_of_the_granular_layer         0\n",
              "vacuolisation_and_damage_of_basal_layer     0\n",
              "spongiosis                                  0\n",
              "saw-tooth_appearance_of_retes               0\n",
              "follicular_horn_plug                        0\n",
              "perifollicular_parakeratosis                0\n",
              "inflammatory_monoluclear_inflitrate         0\n",
              "band-like_infiltrate                        0\n",
              "age                                         8\n",
              "class                                       0\n",
              "dtype: int64"
            ]
          },
          "metadata": {},
          "execution_count": 3
        }
      ]
    },
    {
      "cell_type": "code",
      "source": [
        "#replace nan values in age with 0\n",
        "df['age'] = df['age'].fillna(0)\n",
        "df.isnull().sum()  #check"
      ],
      "metadata": {
        "colab": {
          "base_uri": "https://localhost:8080/",
          "height": 0
        },
        "id": "EvIjgeXDWETm",
        "outputId": "a3837883-7bac-441d-9de2-b6ddd27fbf18"
      },
      "execution_count": 4,
      "outputs": [
        {
          "output_type": "execute_result",
          "data": {
            "text/plain": [
              "erythema                                    0\n",
              "scaling                                     0\n",
              "definite_borders                            0\n",
              "itching                                     0\n",
              "koebner_phenomenon                          0\n",
              "polygonal_papules                           0\n",
              "follicular_papules                          0\n",
              "oral_mucosal_involvement                    0\n",
              "knee_and_elbow_involvement                  0\n",
              "scalp_involvement                           0\n",
              "family_history                              0\n",
              "melanin_incontinence                        0\n",
              "eosinophils_in_the_infiltrate               0\n",
              "pnl_infiltrate                              0\n",
              "fibrosis_of_the_papillary_dermis            0\n",
              "exocytosis                                  0\n",
              "acanthosis                                  0\n",
              "hyperkeratosis                              0\n",
              "parakeratosis                               0\n",
              "clubbing_of_the_rete_ridges                 0\n",
              "elongation_of_the_rete_ridges               0\n",
              "thinning_of_the_suprapapillary_epidermis    0\n",
              "spongiform_pustule                          0\n",
              "munro_microabcess                           0\n",
              "focal_hypergranulosis                       0\n",
              "disappearance_of_the_granular_layer         0\n",
              "vacuolisation_and_damage_of_basal_layer     0\n",
              "spongiosis                                  0\n",
              "saw-tooth_appearance_of_retes               0\n",
              "follicular_horn_plug                        0\n",
              "perifollicular_parakeratosis                0\n",
              "inflammatory_monoluclear_inflitrate         0\n",
              "band-like_infiltrate                        0\n",
              "age                                         0\n",
              "class                                       0\n",
              "dtype: int64"
            ]
          },
          "metadata": {},
          "execution_count": 4
        }
      ]
    },
    {
      "cell_type": "markdown",
      "source": [
        "# **Plot the distribution of disease vs. age in order to understand the relationship between the two. Is age a good indicator of disease? Fully explain your answer.**"
      ],
      "metadata": {
        "id": "uiCZX0tgwIDV"
      }
    },
    {
      "cell_type": "code",
      "source": [
        "# Create a new dataframe for the plot\n",
        "ageVsDisease = df.filter(['age','class'], axis=1)\n",
        "#plot:\n",
        "ax = sns.boxplot(x=\"class\", y=\"age\", data=ageVsDisease)"
      ],
      "metadata": {
        "colab": {
          "base_uri": "https://localhost:8080/",
          "height": 279
        },
        "id": "3J8nwP1pxI03",
        "outputId": "67394d01-9886-496c-a988-e8f8fac62560"
      },
      "execution_count": 5,
      "outputs": [
        {
          "output_type": "display_data",
          "data": {
            "text/plain": [
              "<Figure size 432x288 with 1 Axes>"
            ],
            "image/png": "[encoded data removed]"
          },
          "metadata": {
            "needs_background": "light"
          }
        }
      ]
    },
    {
      "cell_type": "markdown",
      "source": [
        "There is a similar distribution of ages for each disease seems to be similar except for 6 (pityriasis rubra pilaris).  For this reason I would say that age is not a good indicator for disease because most diseases are common for people of the same ages."
      ],
      "metadata": {
        "id": "5Nww5pD-000P"
      }
    },
    {
      "cell_type": "markdown",
      "source": [
        "# **Use contingency tables to determine which ordinal attributes have the most leverage on disease. Plot the obtained results.**"
      ],
      "metadata": {
        "id": "qDeyL8ff2sQR"
      }
    },
    {
      "cell_type": "code",
      "source": [
        "#cross tab between disease and erythema\n",
        "crosstab = pd.crosstab(df['class'], df['erythema'])\n",
        "\n",
        "print(crosstab)\n",
        "barplot = crosstab.plot.bar()"
      ],
      "metadata": {
        "colab": {
          "base_uri": "https://localhost:8080/",
          "height": 415
        },
        "id": "-a3FEXdB2rcD",
        "outputId": "36de1bde-4870-4d99-a4c8-2205047b2c22"
      },
      "execution_count": 6,
      "outputs": [
        {
          "output_type": "stream",
          "name": "stdout",
          "text": [
            "erythema  0   1   2   3\n",
            "class                  \n",
            "1         1   7  63  41\n",
            "2         0   5  34  22\n",
            "3         1   7  49  15\n",
            "4         0  11  32   6\n",
            "5         2  25  22   3\n",
            "6         0   2  15   3\n"
          ]
        },
        {
          "output_type": "display_data",
          "data": {
            "text/plain": [
              "<Figure size 432x288 with 1 Axes>"
            ],
            "image/png": "[encoded data removed]"
          },
          "metadata": {
            "needs_background": "light"
          }
        }
      ]
    },
    {
      "cell_type": "markdown",
      "source": [
        "**Leverage:** erythema of level 2 is common in disease all disease classes.  erythema of level 3 is common in diease classes, 1 2 and 3.\n",
        "\n",
        "This has decent leverage because there are sample cases where erythema is present in all disease classes."
      ],
      "metadata": {
        "id": "e32ckxVPCkc8"
      }
    },
    {
      "cell_type": "code",
      "source": [
        "#cross tab between disease and scaling\n",
        "crosstab = pd.crosstab(df['class'], df['scaling'])\n",
        "\n",
        "print(crosstab)\n",
        "barplot = crosstab.plot.bar()"
      ],
      "metadata": {
        "colab": {
          "base_uri": "https://localhost:8080/",
          "height": 415
        },
        "id": "QvzCq19d3dsX",
        "outputId": "6d718adc-136b-4312-8f1e-b3e2d2ed6e47"
      },
      "execution_count": 7,
      "outputs": [
        {
          "output_type": "stream",
          "name": "stdout",
          "text": [
            "scaling  0   1   2   3\n",
            "class                 \n",
            "1        0  13  64  35\n",
            "2        0   7  43  11\n",
            "3        2  28  37   5\n",
            "4        0  24  25   0\n",
            "5        6  34  11   1\n",
            "6        0   5  15   0\n"
          ]
        },
        {
          "output_type": "display_data",
          "data": {
            "text/plain": [
              "<Figure size 432x288 with 1 Axes>"
            ],
            "image/png": "[encoded data removed]"
          },
          "metadata": {
            "needs_background": "light"
          }
        }
      ]
    },
    {
      "cell_type": "markdown",
      "source": [
        "**Leverage:** scaling of level 2 is common in all disease classes and therefore may give decent leverage when classifying disease class.\n",
        "\n",
        "Scaling of level 3 is very present in disease class 1 so this gives some leverage indicating that people with extreme scaling are likely to have scaling."
      ],
      "metadata": {
        "id": "rnd3AR6JDurt"
      }
    },
    {
      "cell_type": "code",
      "source": [
        "#cross tab between disease and definite_borders\n",
        "crosstab = pd.crosstab(df['class'], df['definite_borders'])\n",
        "\n",
        "print(crosstab)\n",
        "barplot = crosstab.plot.bar()"
      ],
      "metadata": {
        "colab": {
          "base_uri": "https://localhost:8080/",
          "height": 415
        },
        "id": "ylDf2HaO32zI",
        "outputId": "20c9c338-c21c-4d55-dd4f-fe021a9699b7"
      },
      "execution_count": 8,
      "outputs": [
        {
          "output_type": "stream",
          "name": "stdout",
          "text": [
            "definite_borders   0   1   2   3\n",
            "class                           \n",
            "1                  0  14  73  25\n",
            "2                 21  22  18   0\n",
            "3                  1  10  42  19\n",
            "4                  9  22  18   0\n",
            "5                 23  16  11   2\n",
            "6                  5   9   6   0\n"
          ]
        },
        {
          "output_type": "display_data",
          "data": {
            "text/plain": [
              "<Figure size 432x288 with 1 Axes>"
            ],
            "image/png": "[encoded data removed]"
          },
          "metadata": {
            "needs_background": "light"
          }
        }
      ]
    },
    {
      "cell_type": "markdown",
      "source": [
        "**Leverage:** definite_borders of level 2 and 3 is common in disease class 1 and 3."
      ],
      "metadata": {
        "id": "T79P5xFBDcD1"
      }
    },
    {
      "cell_type": "code",
      "source": [
        "#cross tab between disease and itching\n",
        "crosstab = pd.crosstab(df['class'], df['itching'])\n",
        "\n",
        "print(crosstab)\n",
        "barplot = crosstab.plot.bar()"
      ],
      "metadata": {
        "colab": {
          "base_uri": "https://localhost:8080/",
          "height": 415
        },
        "id": "eJbUpO0u4QXi",
        "outputId": "dbf7e120-7541-421d-d943-2ced0d1ea636"
      },
      "execution_count": 9,
      "outputs": [
        {
          "output_type": "stream",
          "name": "stdout",
          "text": [
            "itching   0   1   2   3\n",
            "class                  \n",
            "1        55  22  21  14\n",
            "2         9  16  25  11\n",
            "3         2   9  28  33\n",
            "4        33  10   5   1\n",
            "5         8   7  20  17\n",
            "6        11   8   1   0\n"
          ]
        },
        {
          "output_type": "display_data",
          "data": {
            "text/plain": [
              "<Figure size 432x288 with 1 Axes>"
            ],
            "image/png": "[encoded data removed]"
          },
          "metadata": {
            "needs_background": "light"
          }
        }
      ]
    },
    {
      "cell_type": "markdown",
      "source": [
        "**Leverage:** itching of level 2 and 3  is very common in disease class 3 so people with high extrme itching are more common to have disease of class 3.  But ithching of level 2 is also common in disease class 1, 2 and 5 so itching has decent leverage on most disease classes."
      ],
      "metadata": {
        "id": "7ygq5uzrE6nW"
      }
    },
    {
      "cell_type": "code",
      "source": [
        "#cross tab between disease and koebner_phenomenon\n",
        "crosstab = pd.crosstab(df['class'], df['koebner_phenomenon'])\n",
        "\n",
        "print(crosstab)\n",
        "barplot = crosstab.plot.bar()"
      ],
      "metadata": {
        "colab": {
          "base_uri": "https://localhost:8080/",
          "height": 415
        },
        "id": "ve0526mB4pOE",
        "outputId": "683666e8-b96c-4fe6-8d02-ca0e344dccdd"
      },
      "execution_count": 10,
      "outputs": [
        {
          "output_type": "stream",
          "name": "stdout",
          "text": [
            "koebner_phenomenon   0   1   2   3\n",
            "class                             \n",
            "1                   63  27  18   4\n",
            "2                   60   0   1   0\n",
            "3                   20  18  23  11\n",
            "4                    9  25  12   3\n",
            "5                   52   0   0   0\n",
            "6                   20   0   0   0\n"
          ]
        },
        {
          "output_type": "display_data",
          "data": {
            "text/plain": [
              "<Figure size 432x288 with 1 Axes>"
            ],
            "image/png": "[encoded data removed]"
          },
          "metadata": {
            "needs_background": "light"
          }
        }
      ]
    },
    {
      "cell_type": "markdown",
      "source": [
        "**Leverage:** koebner phenomenon of level 0 is very common in all disease classes excpet for class 4 and 5.  \n",
        "\n",
        "Also, disease classes 1, 2, 5 and 6 have a lot of cases where people had koebner phenomenon of 0.  This tells us if someone is worried of having disease class 2, 5, or 6 but they have present features of koebner phenonmenon then they most likely don't have that disease."
      ],
      "metadata": {
        "id": "hbPCWUbAGFz3"
      }
    },
    {
      "cell_type": "code",
      "source": [
        "#cross tab between disease and polygonal_papules\n",
        "crosstab = pd.crosstab(df['class'], df['polygonal_papules'])\n",
        "\n",
        "print(crosstab)\n",
        "barplot = crosstab.plot.bar()"
      ],
      "metadata": {
        "colab": {
          "base_uri": "https://localhost:8080/",
          "height": 415
        },
        "id": "ADFvvHRw4vw3",
        "outputId": "65de0519-5a05-45b5-a889-fe6161f3f7b2"
      },
      "execution_count": 11,
      "outputs": [
        {
          "output_type": "stream",
          "name": "stdout",
          "text": [
            "polygonal_papules    0  1   2   3\n",
            "class                            \n",
            "1                  112  0   0   0\n",
            "2                   61  0   0   0\n",
            "3                    3  1  41  27\n",
            "4                   49  0   0   0\n",
            "5                   52  0   0   0\n",
            "6                   20  0   0   0\n"
          ]
        },
        {
          "output_type": "display_data",
          "data": {
            "text/plain": [
              "<Figure size 432x288 with 1 Axes>"
            ],
            "image/png": "[encoded data removed]"
          },
          "metadata": {
            "needs_background": "light"
          }
        }
      ]
    },
    {
      "cell_type": "markdown",
      "source": [
        "**Leverage:** polygonal papules has decent leverage on disease class 3 because there are no cases with present features in any other disease class.\n",
        "\n",
        "This tells us that people with present features of polygonal papules have a good chance of having disease class 3."
      ],
      "metadata": {
        "id": "uMA1TlHVHu7t"
      }
    },
    {
      "cell_type": "code",
      "source": [
        "#cross tab between disease and follicular_papules\n",
        "crosstab = pd.crosstab(df['class'], df['follicular_papules'])\n",
        "\n",
        "print(crosstab)\n",
        "barplot = crosstab.plot.bar()"
      ],
      "metadata": {
        "colab": {
          "base_uri": "https://localhost:8080/",
          "height": 415
        },
        "id": "Fr9sh2d75Gnx",
        "outputId": "7e7b9d8e-16d7-4082-9f02-bebaa56a8dce"
      },
      "execution_count": 12,
      "outputs": [
        {
          "output_type": "stream",
          "name": "stdout",
          "text": [
            "follicular_papules    0  1   2  3\n",
            "class                            \n",
            "1                   109  2   1  0\n",
            "2                    60  1   0  0\n",
            "3                    72  0   0  0\n",
            "4                    49  0   0  0\n",
            "5                    43  6   3  0\n",
            "6                     0  2  12  6\n"
          ]
        },
        {
          "output_type": "display_data",
          "data": {
            "text/plain": [
              "<Figure size 432x288 with 1 Axes>"
            ],
            "image/png": "[encoded data removed]"
          },
          "metadata": {
            "needs_background": "light"
          }
        }
      ]
    },
    {
      "cell_type": "markdown",
      "source": [
        "**Leverage:** follicular papules has poor leverage on all disease classes because it has no present features in any class other than 6 and 5 and these cases are still very rare."
      ],
      "metadata": {
        "id": "NKM0gMnOHx2F"
      }
    },
    {
      "cell_type": "code",
      "source": [
        "#cross tab between disease and oral_mucosal_involvement\n",
        "crosstab = pd.crosstab(df['class'], df['oral_mucosal_involvement'])\n",
        "\n",
        "print(crosstab)\n",
        "barplot = crosstab.plot.bar()"
      ],
      "metadata": {
        "colab": {
          "base_uri": "https://localhost:8080/",
          "height": 415
        },
        "id": "vr0Yi6J15ZH9",
        "outputId": "e5a5fc6d-6bbf-42d6-b3f8-234679b5eeab"
      },
      "execution_count": 13,
      "outputs": [
        {
          "output_type": "stream",
          "name": "stdout",
          "text": [
            "oral_mucosal_involvement    0  1   2   3\n",
            "class                                   \n",
            "1                         112  0   0   0\n",
            "2                          61  0   0   0\n",
            "3                           5  9  45  13\n",
            "4                          49  0   0   0\n",
            "5                          52  0   0   0\n",
            "6                          20  0   0   0\n"
          ]
        },
        {
          "output_type": "display_data",
          "data": {
            "text/plain": [
              "<Figure size 432x288 with 1 Axes>"
            ],
            "image/png": "[encoded data removed]"
          },
          "metadata": {
            "needs_background": "light"
          }
        }
      ]
    },
    {
      "cell_type": "markdown",
      "source": [
        "**Leverage:** oral_mucosal_involvement doesn't have much leverage on most disease classses because there are a lot of cases with no present features in all classes other than 3.  This may give some leverage on disease class 3 because it is the only disease that have cases of present features."
      ],
      "metadata": {
        "id": "zrSiVmp2HylY"
      }
    },
    {
      "cell_type": "code",
      "source": [
        "#cross tab between disease and knee_and_elbow_involvement\n",
        "crosstab = pd.crosstab(df['class'], df['knee_and_elbow_involvement'])\n",
        "\n",
        "print(crosstab)\n",
        "barplot = crosstab.plot.bar()"
      ],
      "metadata": {
        "colab": {
          "base_uri": "https://localhost:8080/",
          "height": 415
        },
        "id": "4Wp1NQMb5hCK",
        "outputId": "6b15cf52-cf89-44a0-fce6-e0cd21111b63"
      },
      "execution_count": 14,
      "outputs": [
        {
          "output_type": "stream",
          "name": "stdout",
          "text": [
            "knee_and_elbow_involvement   0   1   2   3\n",
            "class                                     \n",
            "1                           23  15  54  20\n",
            "2                           57   4   0   0\n",
            "3                           71   0   1   0\n",
            "4                           49   0   0   0\n",
            "5                           50   2   0   0\n",
            "6                            1   7   9   3\n"
          ]
        },
        {
          "output_type": "display_data",
          "data": {
            "text/plain": [
              "<Figure size 432x288 with 1 Axes>"
            ],
            "image/png": "[encoded data removed]"
          },
          "metadata": {
            "needs_background": "light"
          }
        }
      ]
    },
    {
      "cell_type": "markdown",
      "source": [
        "**Leverage:** Knee and elbow involvement does not seem to be present in people with disease class 2, 3, 4 and 5.  It is present in disease class 6 but not by much.  Disease class 1 seems to have the most elbow and knee involvment but there is also a decent amonut of cases where people had disease 1 but 0 present features of knee and elbow involvement. \n",
        "I would say it has poor leverage on disease class."
      ],
      "metadata": {
        "id": "FgYd-SFgHze7"
      }
    },
    {
      "cell_type": "code",
      "source": [
        "#cross tab between disease and scalp_involvement\n",
        "crosstab = pd.crosstab(df['class'], df['scalp_involvement'])\n",
        "\n",
        "print(crosstab)\n",
        "barplot = crosstab.plot.bar()"
      ],
      "metadata": {
        "colab": {
          "base_uri": "https://localhost:8080/",
          "height": 415
        },
        "id": "vTtejY_Y5pY7",
        "outputId": "68694b4a-0dd8-43f8-b85b-457aca91332f"
      },
      "execution_count": 15,
      "outputs": [
        {
          "output_type": "stream",
          "name": "stdout",
          "text": [
            "scalp_involvement   0   1   2   3\n",
            "class                            \n",
            "1                  23  23  50  16\n",
            "2                  56   3   2   0\n",
            "3                  70   2   0   0\n",
            "4                  49   0   0   0\n",
            "5                  52   0   0   0\n",
            "6                  14   2   4   0\n"
          ]
        },
        {
          "output_type": "display_data",
          "data": {
            "text/plain": [
              "<Figure size 432x288 with 1 Axes>"
            ],
            "image/png": "[encoded data removed]"
          },
          "metadata": {
            "needs_background": "light"
          }
        }
      ]
    },
    {
      "cell_type": "markdown",
      "source": [
        "**Leverage:** Scalp involvment seems to be about the same as knee and elbow inolvment so it has poor leverage for most disease classes other than disease class 1."
      ],
      "metadata": {
        "id": "5WRyUrFdH0Rv"
      }
    },
    {
      "cell_type": "code",
      "source": [
        "#cross tab between disease and family_history\n",
        "crosstab = pd.crosstab(df['class'], df['family_history'])\n",
        "\n",
        "print(crosstab)\n",
        "barplot = crosstab.plot.bar()"
      ],
      "metadata": {
        "colab": {
          "base_uri": "https://localhost:8080/",
          "height": 415
        },
        "id": "iUzrNzaT9kbm",
        "outputId": "9227e06c-686b-4cd7-809b-1bdffbb46214"
      },
      "execution_count": 16,
      "outputs": [
        {
          "output_type": "stream",
          "name": "stdout",
          "text": [
            "family_history   0   1\n",
            "class                 \n",
            "1               80  32\n",
            "2               58   3\n",
            "3               71   1\n",
            "4               49   0\n",
            "5               52   0\n",
            "6               10  10\n"
          ]
        },
        {
          "output_type": "display_data",
          "data": {
            "text/plain": [
              "<Figure size 432x288 with 1 Axes>"
            ],
            "image/png": "[encoded data removed]"
          },
          "metadata": {
            "needs_background": "light"
          }
        }
      ]
    },
    {
      "cell_type": "markdown",
      "source": [
        "**Leverage:** Disease 1 and 6 have a decent amount of cases where the disease has been observed in the family.  This tells us that it may be common to get these diseases if one's family members also have the disease."
      ],
      "metadata": {
        "id": "t5P3T18kH1Jq"
      }
    },
    {
      "cell_type": "code",
      "source": [
        "#cross tab between disease and melanin_incontinence\n",
        "crosstab = pd.crosstab(df['class'], df['melanin_incontinence'])\n",
        "\n",
        "print(crosstab)\n",
        "barplot = crosstab.plot.bar()"
      ],
      "metadata": {
        "colab": {
          "base_uri": "https://localhost:8080/",
          "height": 415
        },
        "id": "jXKdm01x98XL",
        "outputId": "ea8a8dfb-4053-4add-b3ac-1eb7f8152ef6"
      },
      "execution_count": 17,
      "outputs": [
        {
          "output_type": "stream",
          "name": "stdout",
          "text": [
            "melanin_incontinence    0  1   2   3\n",
            "class                               \n",
            "1                     112  0   0   0\n",
            "2                      61  0   0   0\n",
            "3                       2  8  46  16\n",
            "4                      49  0   0   0\n",
            "5                      52  0   0   0\n",
            "6                      20  0   0   0\n"
          ]
        },
        {
          "output_type": "display_data",
          "data": {
            "text/plain": [
              "<Figure size 432x288 with 1 Axes>"
            ],
            "image/png": "[encoded data removed]"
          },
          "metadata": {
            "needs_background": "light"
          }
        }
      ]
    },
    {
      "cell_type": "markdown",
      "source": [
        "**Leverage:** Features of Melanin incontinence is only present in disease class 3 therefore it has poor leverage on disease class."
      ],
      "metadata": {
        "id": "cMrLKVPyH2Bv"
      }
    },
    {
      "cell_type": "code",
      "source": [
        "#cross tab between disease and eosinophils_in_the_infiltrate\n",
        "crosstab = pd.crosstab(df['class'], df['eosinophils_in_the_infiltrate'])\n",
        "\n",
        "print(crosstab)\n",
        "barplot = crosstab.plot.bar()"
      ],
      "metadata": {
        "colab": {
          "base_uri": "https://localhost:8080/",
          "height": 415
        },
        "id": "UvSuuDk5-EDb",
        "outputId": "fb878d36-1bfb-4375-da64-3f1c8e4be7b9"
      },
      "execution_count": 18,
      "outputs": [
        {
          "output_type": "stream",
          "name": "stdout",
          "text": [
            "eosinophils_in_the_infiltrate    0   1  2\n",
            "class                                    \n",
            "1                              109   2  1\n",
            "2                               39  16  6\n",
            "3                               62   8  2\n",
            "4                               46   3  0\n",
            "5                               48   4  0\n",
            "6                               20   0  0\n"
          ]
        },
        {
          "output_type": "display_data",
          "data": {
            "text/plain": [
              "<Figure size 432x288 with 1 Axes>"
            ],
            "image/png": "[encoded data removed]"
          },
          "metadata": {
            "needs_background": "light"
          }
        }
      ]
    },
    {
      "cell_type": "markdown",
      "source": [
        "**Leverage:** not good leverage because eosinophilis in the infiltrate is not present in most diseases."
      ],
      "metadata": {
        "id": "kWd02BYdH2w8"
      }
    },
    {
      "cell_type": "code",
      "source": [
        "#cross tab between disease and pnl_infiltrate\n",
        "crosstab = pd.crosstab(df['class'], df['pnl_infiltrate'])\n",
        "\n",
        "print(crosstab)\n",
        "barplot = crosstab.plot.bar()"
      ],
      "metadata": {
        "colab": {
          "base_uri": "https://localhost:8080/",
          "height": 415
        },
        "id": "BEHhSIJr-bHL",
        "outputId": "71b6766b-ca78-4fab-a850-5b61d5396908"
      },
      "execution_count": 19,
      "outputs": [
        {
          "output_type": "stream",
          "name": "stdout",
          "text": [
            "pnl_infiltrate   0   1   2  3\n",
            "class                        \n",
            "1               34  37  35  6\n",
            "2               17  23  20  1\n",
            "3               72   0   0  0\n",
            "4               43   6   0  0\n",
            "5               52   0   0  0\n",
            "6               17   3   0  0\n"
          ]
        },
        {
          "output_type": "display_data",
          "data": {
            "text/plain": [
              "<Figure size 432x288 with 1 Axes>"
            ],
            "image/png": "[encoded data removed]"
          },
          "metadata": {
            "needs_background": "light"
          }
        }
      ]
    },
    {
      "cell_type": "markdown",
      "source": [
        "**Leverage:** good leverage on disease class 1 and 2 but not the other diseases."
      ],
      "metadata": {
        "id": "iscAcnq9H3lt"
      }
    },
    {
      "cell_type": "code",
      "source": [
        "#cross tab between disease and fibrosis_of_the_papillary_dermis\n",
        "crosstab = pd.crosstab(df['class'], df['fibrosis_of_the_papillary_dermis'])\n",
        "\n",
        "print(crosstab)\n",
        "barplot = crosstab.plot.bar()"
      ],
      "metadata": {
        "colab": {
          "base_uri": "https://localhost:8080/",
          "height": 415
        },
        "id": "8U502MnP-g96",
        "outputId": "a262667f-c735-40e3-dbe3-838d36c84c85"
      },
      "execution_count": 20,
      "outputs": [
        {
          "output_type": "stream",
          "name": "stdout",
          "text": [
            "fibrosis_of_the_papillary_dermis    0  1   2   3\n",
            "class                                           \n",
            "1                                 112  0   0   0\n",
            "2                                  61  0   0   0\n",
            "3                                  70  0   2   0\n",
            "4                                  49  0   0   0\n",
            "5                                   0  8  21  23\n",
            "6                                  20  0   0   0\n"
          ]
        },
        {
          "output_type": "display_data",
          "data": {
            "text/plain": [
              "<Figure size 432x288 with 1 Axes>"
            ],
            "image/png": "[encoded data removed]"
          },
          "metadata": {
            "needs_background": "light"
          }
        }
      ]
    },
    {
      "cell_type": "markdown",
      "source": [
        "**Leverage:** This has a good leverage on disease class 5 because in all other disease classes there are a lot of cases who don't have any present features of \"fibrosis of the papillaray dermis\" and there are some cases in disease class 5 who do have present features of  \"fibrosis of the papillaray dermis\"."
      ],
      "metadata": {
        "id": "6FZ1NJZrH4sc"
      }
    },
    {
      "cell_type": "code",
      "source": [
        "#cross tab between disease and exocytosis\n",
        "crosstab = pd.crosstab(df['class'], df['exocytosis'])\n",
        "\n",
        "print(crosstab)\n",
        "barplot = crosstab.plot.bar()"
      ],
      "metadata": {
        "colab": {
          "base_uri": "https://localhost:8080/",
          "height": 415
        },
        "id": "XQWoVZMl-tct",
        "outputId": "38ea3cd0-2911-415c-f503-f39488a04037"
      },
      "execution_count": 21,
      "outputs": [
        {
          "output_type": "stream",
          "name": "stdout",
          "text": [
            "exocytosis   0   1   2   3\n",
            "class                     \n",
            "1           93   8  11   0\n",
            "2            1   7  32  21\n",
            "3            1   6  38  27\n",
            "4            1   8  28  12\n",
            "5           20  20  12   0\n",
            "6            2   8   8   2\n"
          ]
        },
        {
          "output_type": "display_data",
          "data": {
            "text/plain": [
              "<Figure size 432x288 with 1 Axes>"
            ],
            "image/png": "[encoded data removed]"
          },
          "metadata": {
            "needs_background": "light"
          }
        }
      ]
    },
    {
      "cell_type": "markdown",
      "source": [
        "**Leverage:** Exocytosis has medium leverage on disease class because it has present features in all diseases.  But this isn't very strong because in general it has a very low presence in each disease."
      ],
      "metadata": {
        "id": "_AM_WFrCIgo4"
      }
    },
    {
      "cell_type": "code",
      "source": [
        "#cross tab between disease and acanthosis\n",
        "crosstab = pd.crosstab(df['class'], df['acanthosis'])\n",
        "\n",
        "print(crosstab)\n",
        "barplot = crosstab.plot.bar()"
      ],
      "metadata": {
        "colab": {
          "base_uri": "https://localhost:8080/",
          "height": 415
        },
        "id": "Zz91-okW-xwy",
        "outputId": "6e8b03d7-2a4e-4559-a469-f0a0bcc9a3f6"
      },
      "execution_count": 22,
      "outputs": [
        {
          "output_type": "stream",
          "name": "stdout",
          "text": [
            "acanthosis  0   1   2   3\n",
            "class                    \n",
            "1           1  14  70  27\n",
            "2           4  14  35   8\n",
            "3           1   9  43  19\n",
            "4           4  19  26   0\n",
            "5           0   7  25  20\n",
            "6           0   8  11   1\n"
          ]
        },
        {
          "output_type": "display_data",
          "data": {
            "text/plain": [
              "<Figure size 432x288 with 1 Axes>"
            ],
            "image/png": "[encoded data removed]"
          },
          "metadata": {
            "needs_background": "light"
          }
        }
      ]
    },
    {
      "cell_type": "markdown",
      "source": [
        "**Leverage:** acanthosis has decent leverage on disease classes because there are a decent amount of cases with present acanthosis features in all 6 disease classes.  This tells us that people with present features of acanthosis could be likely to have any of the 6 diseases."
      ],
      "metadata": {
        "id": "Cjt9IBI3LLrk"
      }
    },
    {
      "cell_type": "code",
      "source": [
        "#cross tab between disease and hyperkeratosis\n",
        "crosstab = pd.crosstab(df['class'], df['hyperkeratosis'])\n",
        "\n",
        "print(crosstab)\n",
        "barplot = crosstab.plot.bar()"
      ],
      "metadata": {
        "colab": {
          "base_uri": "https://localhost:8080/",
          "height": 415
        },
        "id": "x_3vRIVd-4bM",
        "outputId": "28e89878-c0dc-47e9-ccf3-286eb474818b"
      },
      "execution_count": 23,
      "outputs": [
        {
          "output_type": "stream",
          "name": "stdout",
          "text": [
            "hyperkeratosis   0   1   2  3\n",
            "class                        \n",
            "1               53  30  25  4\n",
            "2               50  10   0  1\n",
            "3               54  15   3  0\n",
            "4               37   9   3  0\n",
            "5               27  14  11  0\n",
            "6                6  12   2  0\n"
          ]
        },
        {
          "output_type": "display_data",
          "data": {
            "text/plain": [
              "<Figure size 432x288 with 1 Axes>"
            ],
            "image/png": "[encoded data removed]"
          },
          "metadata": {
            "needs_background": "light"
          }
        }
      ]
    },
    {
      "cell_type": "markdown",
      "source": [
        "**Leverage:** hyperkeratosis does not give much leverage on disease class because there are a decent amount of cases where people had no present hyperkeratosis features in all 6 disease classes."
      ],
      "metadata": {
        "id": "72lkb77XLMbg"
      }
    },
    {
      "cell_type": "code",
      "source": [
        "#cross tab between disease and parakeratosis\n",
        "crosstab = pd.crosstab(df['class'], df['parakeratosis'])\n",
        "\n",
        "print(crosstab)\n",
        "barplot = crosstab.plot.bar()"
      ],
      "metadata": {
        "colab": {
          "base_uri": "https://localhost:8080/",
          "height": 415
        },
        "id": "TnRdMHcg-9w2",
        "outputId": "cc303efb-ae36-4dfa-cb12-3f10ce0bcc0f"
      },
      "execution_count": 24,
      "outputs": [
        {
          "output_type": "stream",
          "name": "stdout",
          "text": [
            "parakeratosis   0   1   2   3\n",
            "class                        \n",
            "1               1  20  69  22\n",
            "2              24  17  17   3\n",
            "3              15  32  20   5\n",
            "4              17  27   5   0\n",
            "5              27  11  14   0\n",
            "6               2  11   7   0\n"
          ]
        },
        {
          "output_type": "display_data",
          "data": {
            "text/plain": [
              "<Figure size 432x288 with 1 Axes>"
            ],
            "image/png": "[encoded data removed]"
          },
          "metadata": {
            "needs_background": "light"
          }
        }
      ]
    },
    {
      "cell_type": "markdown",
      "source": [
        "**Leverage:** parakeratosis has decent leverage on disease class because there is a decent amount of cases of people with present features of parakeratosis in all disease classes except for class 6.  "
      ],
      "metadata": {
        "id": "oQezJ_rTLNRL"
      }
    },
    {
      "cell_type": "code",
      "source": [
        "#cross tab between disease and clubbing_of_the_rete_ridges\n",
        "crosstab = pd.crosstab(df['class'], df['clubbing_of_the_rete_ridges'])\n",
        "\n",
        "print(crosstab)\n",
        "barplot = crosstab.plot.bar()"
      ],
      "metadata": {
        "colab": {
          "base_uri": "https://localhost:8080/",
          "height": 415
        },
        "id": "2CrvZsC-_END",
        "outputId": "886e199a-0461-4b61-96cb-323c0740ba7b"
      },
      "execution_count": 25,
      "outputs": [
        {
          "output_type": "stream",
          "name": "stdout",
          "text": [
            "clubbing_of_the_rete_ridges   0   1   2   3\n",
            "class                                      \n",
            "1                             3  15  60  34\n",
            "2                            61   0   0   0\n",
            "3                            72   0   0   0\n",
            "4                            49   0   0   0\n",
            "5                            49   2   1   0\n",
            "6                            18   2   0   0\n"
          ]
        },
        {
          "output_type": "display_data",
          "data": {
            "text/plain": [
              "<Figure size 432x288 with 1 Axes>"
            ],
            "image/png": "[encoded data removed]"
          },
          "metadata": {
            "needs_background": "light"
          }
        }
      ]
    },
    {
      "cell_type": "markdown",
      "source": [
        "**Leverage:** people with present features of clubbing_of_the_rete_ridges are more likely to have disease class 1 because the rest of the classes have a lot of cases with no present features."
      ],
      "metadata": {
        "id": "1ciWuzR_LIMq"
      }
    },
    {
      "cell_type": "markdown",
      "source": [
        "# **Create a new column disease_1 by extracting only those records where the Disease=1 (psoriasis) , assigning “1” for those rows in the newly created  column, and marking “0” for the rest.**"
      ],
      "metadata": {
        "id": "JVvAoIQuNv_O"
      }
    },
    {
      "cell_type": "code",
      "source": [
        "df['disease_1'] = np.where(df['class'] == 1, 1, 0)\n",
        "df"
      ],
      "metadata": {
        "colab": {
          "base_uri": "https://localhost:8080/",
          "height": 505
        },
        "id": "p1PkHOsuNyv-",
        "outputId": "dc7e943b-f389-4ba2-b70d-aa57dfca66e2"
      },
      "execution_count": 26,
      "outputs": [
        {
          "output_type": "execute_result",
          "data": {
            "text/plain": [
              "     erythema  scaling  definite_borders  itching  koebner_phenomenon  \\\n",
              "0           2        2                 0        3                   0   \n",
              "1           3        3                 3        2                   1   \n",
              "2           2        1                 2        3                   1   \n",
              "3           2        2                 2        0                   0   \n",
              "4           2        3                 2        2                   2   \n",
              "..        ...      ...               ...      ...                 ...   \n",
              "361         2        1                 1        0                   1   \n",
              "362         3        2                 1        0                   1   \n",
              "363         3        2                 2        2                   3   \n",
              "364         2        1                 3        1                   2   \n",
              "365         3        2                 2        0                   0   \n",
              "\n",
              "     polygonal_papules  follicular_papules  oral_mucosal_involvement  \\\n",
              "0                    0                   0                         0   \n",
              "1                    0                   0                         0   \n",
              "2                    3                   0                         3   \n",
              "3                    0                   0                         0   \n",
              "4                    2                   0                         2   \n",
              "..                 ...                 ...                       ...   \n",
              "361                  0                   0                         0   \n",
              "362                  0                   0                         0   \n",
              "363                  2                   0                         2   \n",
              "364                  3                   0                         2   \n",
              "365                  0                   0                         0   \n",
              "\n",
              "     knee_and_elbow_involvement  scalp_involvement  ...  \\\n",
              "0                             1                  0  ...   \n",
              "1                             1                  1  ...   \n",
              "2                             0                  0  ...   \n",
              "3                             3                  2  ...   \n",
              "4                             0                  0  ...   \n",
              "..                          ...                ...  ...   \n",
              "361                           0                  0  ...   \n",
              "362                           0                  0  ...   \n",
              "363                           0                  0  ...   \n",
              "364                           0                  0  ...   \n",
              "365                           3                  3  ...   \n",
              "\n",
              "     vacuolisation_and_damage_of_basal_layer  spongiosis  \\\n",
              "0                                          0           3   \n",
              "1                                          0           0   \n",
              "2                                          2           3   \n",
              "3                                          0           0   \n",
              "4                                          3           2   \n",
              "..                                       ...         ...   \n",
              "361                                        0           1   \n",
              "362                                        0           1   \n",
              "363                                        3           0   \n",
              "364                                        2           0   \n",
              "365                                        0           0   \n",
              "\n",
              "     saw-tooth_appearance_of_retes  follicular_horn_plug  \\\n",
              "0                                0                     0   \n",
              "1                                0                     0   \n",
              "2                                2                     0   \n",
              "3                                0                     0   \n",
              "4                                3                     0   \n",
              "..                             ...                   ...   \n",
              "361                              0                     0   \n",
              "362                              0                     0   \n",
              "363                              3                     0   \n",
              "364                              1                     0   \n",
              "365                              0                     0   \n",
              "\n",
              "     perifollicular_parakeratosis  inflammatory_monoluclear_inflitrate  \\\n",
              "0                               0                                    1   \n",
              "1                               0                                    1   \n",
              "2                               0                                    2   \n",
              "3                               0                                    3   \n",
              "4                               0                                    2   \n",
              "..                            ...                                  ...   \n",
              "361                             0                                    2   \n",
              "362                             0                                    2   \n",
              "363                             0                                    2   \n",
              "364                             0                                    2   \n",
              "365                             0                                    3   \n",
              "\n",
              "     band-like_infiltrate   age  class  disease_1  \n",
              "0                       0  55.0      2          0  \n",
              "1                       0   8.0      1          1  \n",
              "2                       3  26.0      3          0  \n",
              "3                       0  40.0      1          1  \n",
              "4                       3  45.0      3          0  \n",
              "..                    ...   ...    ...        ...  \n",
              "361                     0  25.0      4          0  \n",
              "362                     0  36.0      4          0  \n",
              "363                     3  28.0      3          0  \n",
              "364                     3  50.0      3          0  \n",
              "365                     0  35.0      1          1  \n",
              "\n",
              "[366 rows x 36 columns]"
            ],
            "text/html": [
              "\n",
              "  <div id=\"df-7bfb16d2-2c2d-4d56-813c-b9b4243effc5\">\n",
              "    <div class=\"colab-df-container\">\n",
              "      <div>\n",
              "<style scoped>\n",
              "    .dataframe tbody tr th:only-of-type {\n",
              "        vertical-align: middle;\n",
              "    }\n",
              "\n",
              "    .dataframe tbody tr th {\n",
              "        vertical-align: top;\n",
              "    }\n",
              "\n",
              "    .dataframe thead th {\n",
              "        text-align: right;\n",
              "    }\n",
              "</style>\n",
              "<table border=\"1\" class=\"dataframe\">\n",
              "  <thead>\n",
              "    <tr style=\"text-align: right;\">\n",
              "      <th></th>\n",
              "      <th>erythema</th>\n",
              "      <th>scaling</th>\n",
              "      <th>definite_borders</th>\n",
              "      <th>itching</th>\n",
              "      <th>koebner_phenomenon</th>\n",
              "      <th>polygonal_papules</th>\n",
              "      <th>follicular_papules</th>\n",
              "      <th>oral_mucosal_involvement</th>\n",
              "      <th>knee_and_elbow_involvement</th>\n",
              "      <th>scalp_involvement</th>\n",
              "      <th>...</th>\n",
              "      <th>vacuolisation_and_damage_of_basal_layer</th>\n",
              "      <th>spongiosis</th>\n",
              "      <th>saw-tooth_appearance_of_retes</th>\n",
              "      <th>follicular_horn_plug</th>\n",
              "      <th>perifollicular_parakeratosis</th>\n",
              "      <th>inflammatory_monoluclear_inflitrate</th>\n",
              "      <th>band-like_infiltrate</th>\n",
              "      <th>age</th>\n",
              "      <th>class</th>\n",
              "      <th>disease_1</th>\n",
              "    </tr>\n",
              "  </thead>\n",
              "  <tbody>\n",
              "    <tr>\n",
              "      <th>0</th>\n",
              "      <td>2</td>\n",
              "      <td>2</td>\n",
              "      <td>0</td>\n",
              "      <td>3</td>\n",
              "      <td>0</td>\n",
              "      <td>0</td>\n",
              "      <td>0</td>\n",
              "      <td>0</td>\n",
              "      <td>1</td>\n",
              "      <td>0</td>\n",
              "      <td>...</td>\n",
              "      <td>0</td>\n",
              "      <td>3</td>\n",
              "      <td>0</td>\n",
              "      <td>0</td>\n",
              "      <td>0</td>\n",
              "      <td>1</td>\n",
              "      <td>0</td>\n",
              "      <td>55.0</td>\n",
              "      <td>2</td>\n",
              "      <td>0</td>\n",
              "    </tr>\n",
              "    <tr>\n",
              "      <th>1</th>\n",
              "      <td>3</td>\n",
              "      <td>3</td>\n",
              "      <td>3</td>\n",
              "      <td>2</td>\n",
              "      <td>1</td>\n",
              "      <td>0</td>\n",
              "      <td>0</td>\n",
              "      <td>0</td>\n",
              "      <td>1</td>\n",
              "      <td>1</td>\n",
              "      <td>...</td>\n",
              "      <td>0</td>\n",
              "      <td>0</td>\n",
              "      <td>0</td>\n",
              "      <td>0</td>\n",
              "      <td>0</td>\n",
              "      <td>1</td>\n",
              "      <td>0</td>\n",
              "      <td>8.0</td>\n",
              "      <td>1</td>\n",
              "      <td>1</td>\n",
              "    </tr>\n",
              "    <tr>\n",
              "      <th>2</th>\n",
              "      <td>2</td>\n",
              "      <td>1</td>\n",
              "      <td>2</td>\n",
              "      <td>3</td>\n",
              "      <td>1</td>\n",
              "      <td>3</td>\n",
              "      <td>0</td>\n",
              "      <td>3</td>\n",
              "      <td>0</td>\n",
              "      <td>0</td>\n",
              "      <td>...</td>\n",
              "      <td>2</td>\n",
              "      <td>3</td>\n",
              "      <td>2</td>\n",
              "      <td>0</td>\n",
              "      <td>0</td>\n",
              "      <td>2</td>\n",
              "      <td>3</td>\n",
              "      <td>26.0</td>\n",
              "      <td>3</td>\n",
              "      <td>0</td>\n",
              "    </tr>\n",
              "    <tr>\n",
              "      <th>3</th>\n",
              "      <td>2</td>\n",
              "      <td>2</td>\n",
              "      <td>2</td>\n",
              "      <td>0</td>\n",
              "      <td>0</td>\n",
              "      <td>0</td>\n",
              "      <td>0</td>\n",
              "      <td>0</td>\n",
              "      <td>3</td>\n",
              "      <td>2</td>\n",
              "      <td>...</td>\n",
              "      <td>0</td>\n",
              "      <td>0</td>\n",
              "      <td>0</td>\n",
              "      <td>0</td>\n",
              "      <td>0</td>\n",
              "      <td>3</td>\n",
              "      <td>0</td>\n",
              "      <td>40.0</td>\n",
              "      <td>1</td>\n",
              "      <td>1</td>\n",
              "    </tr>\n",
              "    <tr>\n",
              "      <th>4</th>\n",
              "      <td>2</td>\n",
              "      <td>3</td>\n",
              "      <td>2</td>\n",
              "      <td>2</td>\n",
              "      <td>2</td>\n",
              "      <td>2</td>\n",
              "      <td>0</td>\n",
              "      <td>2</td>\n",
              "      <td>0</td>\n",
              "      <td>0</td>\n",
              "      <td>...</td>\n",
              "      <td>3</td>\n",
              "      <td>2</td>\n",
              "      <td>3</td>\n",
              "      <td>0</td>\n",
              "      <td>0</td>\n",
              "      <td>2</td>\n",
              "      <td>3</td>\n",
              "      <td>45.0</td>\n",
              "      <td>3</td>\n",
              "      <td>0</td>\n",
              "    </tr>\n",
              "    <tr>\n",
              "      <th>...</th>\n",
              "      <td>...</td>\n",
              "      <td>...</td>\n",
              "      <td>...</td>\n",
              "      <td>...</td>\n",
              "      <td>...</td>\n",
              "      <td>...</td>\n",
              "      <td>...</td>\n",
              "      <td>...</td>\n",
              "      <td>...</td>\n",
              "      <td>...</td>\n",
              "      <td>...</td>\n",
              "      <td>...</td>\n",
              "      <td>...</td>\n",
              "      <td>...</td>\n",
              "      <td>...</td>\n",
              "      <td>...</td>\n",
              "      <td>...</td>\n",
              "      <td>...</td>\n",
              "      <td>...</td>\n",
              "      <td>...</td>\n",
              "      <td>...</td>\n",
              "    </tr>\n",
              "    <tr>\n",
              "      <th>361</th>\n",
              "      <td>2</td>\n",
              "      <td>1</td>\n",
              "      <td>1</td>\n",
              "      <td>0</td>\n",
              "      <td>1</td>\n",
              "      <td>0</td>\n",
              "      <td>0</td>\n",
              "      <td>0</td>\n",
              "      <td>0</td>\n",
              "      <td>0</td>\n",
              "      <td>...</td>\n",
              "      <td>0</td>\n",
              "      <td>1</td>\n",
              "      <td>0</td>\n",
              "      <td>0</td>\n",
              "      <td>0</td>\n",
              "      <td>2</td>\n",
              "      <td>0</td>\n",
              "      <td>25.0</td>\n",
              "      <td>4</td>\n",
              "      <td>0</td>\n",
              "    </tr>\n",
              "    <tr>\n",
              "      <th>362</th>\n",
              "      <td>3</td>\n",
              "      <td>2</td>\n",
              "      <td>1</td>\n",
              "      <td>0</td>\n",
              "      <td>1</td>\n",
              "      <td>0</td>\n",
              "      <td>0</td>\n",
              "      <td>0</td>\n",
              "      <td>0</td>\n",
              "      <td>0</td>\n",
              "      <td>...</td>\n",
              "      <td>0</td>\n",
              "      <td>1</td>\n",
              "      <td>0</td>\n",
              "      <td>0</td>\n",
              "      <td>0</td>\n",
              "      <td>2</td>\n",
              "      <td>0</td>\n",
              "      <td>36.0</td>\n",
              "      <td>4</td>\n",
              "      <td>0</td>\n",
              "    </tr>\n",
              "    <tr>\n",
              "      <th>363</th>\n",
              "      <td>3</td>\n",
              "      <td>2</td>\n",
              "      <td>2</td>\n",
              "      <td>2</td>\n",
              "      <td>3</td>\n",
              "      <td>2</td>\n",
              "      <td>0</td>\n",
              "      <td>2</td>\n",
              "      <td>0</td>\n",
              "      <td>0</td>\n",
              "      <td>...</td>\n",
              "      <td>3</td>\n",
              "      <td>0</td>\n",
              "      <td>3</td>\n",
              "      <td>0</td>\n",
              "      <td>0</td>\n",
              "      <td>2</td>\n",
              "      <td>3</td>\n",
              "      <td>28.0</td>\n",
              "      <td>3</td>\n",
              "      <td>0</td>\n",
              "    </tr>\n",
              "    <tr>\n",
              "      <th>364</th>\n",
              "      <td>2</td>\n",
              "      <td>1</td>\n",
              "      <td>3</td>\n",
              "      <td>1</td>\n",
              "      <td>2</td>\n",
              "      <td>3</td>\n",
              "      <td>0</td>\n",
              "      <td>2</td>\n",
              "      <td>0</td>\n",
              "      <td>0</td>\n",
              "      <td>...</td>\n",
              "      <td>2</td>\n",
              "      <td>0</td>\n",
              "      <td>1</td>\n",
              "      <td>0</td>\n",
              "      <td>0</td>\n",
              "      <td>2</td>\n",
              "      <td>3</td>\n",
              "      <td>50.0</td>\n",
              "      <td>3</td>\n",
              "      <td>0</td>\n",
              "    </tr>\n",
              "    <tr>\n",
              "      <th>365</th>\n",
              "      <td>3</td>\n",
              "      <td>2</td>\n",
              "      <td>2</td>\n",
              "      <td>0</td>\n",
              "      <td>0</td>\n",
              "      <td>0</td>\n",
              "      <td>0</td>\n",
              "      <td>0</td>\n",
              "      <td>3</td>\n",
              "      <td>3</td>\n",
              "      <td>...</td>\n",
              "      <td>0</td>\n",
              "      <td>0</td>\n",
              "      <td>0</td>\n",
              "      <td>0</td>\n",
              "      <td>0</td>\n",
              "      <td>3</td>\n",
              "      <td>0</td>\n",
              "      <td>35.0</td>\n",
              "      <td>1</td>\n",
              "      <td>1</td>\n",
              "    </tr>\n",
              "  </tbody>\n",
              "</table>\n",
              "<p>366 rows × 36 columns</p>\n",
              "</div>\n",
              "      <button class=\"colab-df-convert\" onclick=\"convertToInteractive('df-7bfb16d2-2c2d-4d56-813c-b9b4243effc5')\"\n",
              "              title=\"Convert this dataframe to an interactive table.\"\n",
              "              style=\"display:none;\">\n",
              "        \n",
              "  <svg xmlns=\"http://www.w3.org/2000/svg\" height=\"24px\"viewBox=\"0 0 24 24\"\n",
              "       width=\"24px\">\n",
              "    <path d=\"M0 0h24v24H0V0z\" fill=\"none\"/>\n",
              "    <path d=\"M18.56 5.44l.94 2.06.94-2.06 2.06-.94-2.06-.94-.94-2.06-.94 2.06-2.06.94zm-11 1L8.5 8.5l.94-2.06 2.06-.94-2.06-.94L8.5 2.5l-.94 2.06-2.06.94zm10 10l.94 2.06.94-2.06 2.06-.94-2.06-.94-.94-2.06-.94 2.06-2.06.94z\"/><path d=\"M17.41 7.96l-1.37-1.37c-.4-.4-.92-.59-1.43-.59-.52 0-1.04.2-1.43.59L10.3 9.45l-7.72 7.72c-.78.78-.78 2.05 0 2.83L4 21.41c.39.39.9.59 1.41.59.51 0 1.02-.2 1.41-.59l7.78-7.78 2.81-2.81c.8-.78.8-2.07 0-2.86zM5.41 20L4 18.59l7.72-7.72 1.47 1.35L5.41 20z\"/>\n",
              "  </svg>\n",
              "      </button>\n",
              "      \n",
              "  <style>\n",
              "    .colab-df-container {\n",
              "      display:flex;\n",
              "      flex-wrap:wrap;\n",
              "      gap: 12px;\n",
              "    }\n",
              "\n",
              "    .colab-df-convert {\n",
              "      background-color: #E8F0FE;\n",
              "      border: none;\n",
              "      border-radius: 50%;\n",
              "      cursor: pointer;\n",
              "      display: none;\n",
              "      fill: #1967D2;\n",
              "      height: 32px;\n",
              "      padding: 0 0 0 0;\n",
              "      width: 32px;\n",
              "    }\n",
              "\n",
              "    .colab-df-convert:hover {\n",
              "      background-color: #E2EBFA;\n",
              "      box-shadow: 0px 1px 2px rgba(60, 64, 67, 0.3), 0px 1px 3px 1px rgba(60, 64, 67, 0.15);\n",
              "      fill: #174EA6;\n",
              "    }\n",
              "\n",
              "    [theme=dark] .colab-df-convert {\n",
              "      background-color: #3B4455;\n",
              "      fill: #D2E3FC;\n",
              "    }\n",
              "\n",
              "    [theme=dark] .colab-df-convert:hover {\n",
              "      background-color: #434B5C;\n",
              "      box-shadow: 0px 1px 3px 1px rgba(0, 0, 0, 0.15);\n",
              "      filter: drop-shadow(0px 1px 2px rgba(0, 0, 0, 0.3));\n",
              "      fill: #FFFFFF;\n",
              "    }\n",
              "  </style>\n",
              "\n",
              "      <script>\n",
              "        const buttonEl =\n",
              "          document.querySelector('#df-7bfb16d2-2c2d-4d56-813c-b9b4243effc5 button.colab-df-convert');\n",
              "        buttonEl.style.display =\n",
              "          google.colab.kernel.accessAllowed ? 'block' : 'none';\n",
              "\n",
              "        async function convertToInteractive(key) {\n",
              "          const element = document.querySelector('#df-7bfb16d2-2c2d-4d56-813c-b9b4243effc5');\n",
              "          const dataTable =\n",
              "            await google.colab.kernel.invokeFunction('convertToInteractive',\n",
              "                                                     [key], {});\n",
              "          if (!dataTable) return;\n",
              "\n",
              "          const docLinkHtml = 'Like what you see? Visit the ' +\n",
              "            '<a target=\"_blank\" href=https://colab.research.google.com/notebooks/data_table.ipynb>data table notebook</a>'\n",
              "            + ' to learn more about interactive tables.';\n",
              "          element.innerHTML = '';\n",
              "          dataTable['output_type'] = 'display_data';\n",
              "          await google.colab.output.renderOutput(dataTable, element);\n",
              "          const docLink = document.createElement('div');\n",
              "          docLink.innerHTML = docLinkHtml;\n",
              "          element.appendChild(docLink);\n",
              "        }\n",
              "      </script>\n",
              "    </div>\n",
              "  </div>\n",
              "  "
            ]
          },
          "metadata": {},
          "execution_count": 26
        }
      ]
    },
    {
      "cell_type": "markdown",
      "source": [
        "# **Create four models and evaluate each using 3-fold cross-validation:**"
      ],
      "metadata": {
        "id": "x3QRYkWuPhkl"
      }
    },
    {
      "cell_type": "markdown",
      "source": [
        "**A linear regression model for disease_1 vs. age even though disease_1 is a categoric variable. Plot the regression line, and compute the MSE and r-squared values for the model.**"
      ],
      "metadata": {
        "id": "Rut_EA5vPnyL"
      }
    },
    {
      "cell_type": "code",
      "source": [
        "#import Linear Regression:\n",
        "from sklearn.linear_model import LinearRegression\n",
        "#import numpy\n",
        "import numpy as np\n",
        "#import pyplot\n",
        "import matplotlib.pyplot as plt  # To visualize\n",
        "#import MSE and R2 score\n",
        "from sklearn.metrics import mean_squared_error, r2_score"
      ],
      "metadata": {
        "id": "sP_IsqXF9sue"
      },
      "execution_count": 27,
      "outputs": []
    },
    {
      "cell_type": "code",
      "source": [
        "#calculate 3 folds of the data set\n",
        "print(len(df)/3)"
      ],
      "metadata": {
        "colab": {
          "base_uri": "https://localhost:8080/",
          "height": 0
        },
        "id": "du6el513-hJw",
        "outputId": "b0f044d3-bba6-48bf-f3ae-dc980c51a2d4"
      },
      "execution_count": 28,
      "outputs": [
        {
          "output_type": "stream",
          "name": "stdout",
          "text": [
            "122.0\n"
          ]
        }
      ]
    },
    {
      "cell_type": "code",
      "source": [
        "# shuffle the DataFrame rows\n",
        "df2 = df.sample(random_state = 56,frac = 1)"
      ],
      "metadata": {
        "id": "7E8UZQJVAvJo"
      },
      "execution_count": 29,
      "outputs": []
    },
    {
      "cell_type": "code",
      "source": [
        "#split data into 3 folds:\n",
        "split1 = df2.iloc[0:121, :]    # Select Rows by Index List\n",
        "split2 = df2.iloc[122:242, :]\n",
        "split3 = df2.iloc[243:366, :]"
      ],
      "metadata": {
        "id": "H_PeTroK_aGP"
      },
      "execution_count": 30,
      "outputs": []
    },
    {
      "cell_type": "markdown",
      "source": [
        "**perform linear regression on all three folds:**"
      ],
      "metadata": {
        "id": "Qr1HTCxiC6XI"
      }
    },
    {
      "cell_type": "code",
      "source": [
        "# Save the first column (all the rows) in X and reshape as an np array \n",
        "# Note that we have provided column as 1 but rows as unknown, hence, -1\n",
        "# Create the model\n",
        "LRmodel = LinearRegression()  \n",
        "\n",
        "X = split1['disease_1'].values.reshape(-1,1)\n",
        "\n",
        "# Save the second column (all the rows) in Y\n",
        "Y = split1['age'].values.reshape(-1,1)\n",
        "\n",
        "# Perform linear regression\n",
        "LRmodel.fit(X, Y)   \n",
        "\n",
        "Y_pred = LRmodel.predict(X)\n",
        "\n",
        "# Visualize the dataset and the regression line:\n",
        "plt.scatter(X, Y)\n",
        "plt.plot(X, Y_pred, color = 'red')\n",
        "plt.title('Disease 1 vs Age')\n",
        "plt.xlabel('disease1')\n",
        "plt.ylabel('Age')\n",
        "plt.show()\n",
        "\n",
        "print(\"The slope: \", LRmodel.coef_)\n",
        "print(\"The intercept: \", LRmodel.intercept_)\n",
        "mse1 = mean_squared_error(Y, Y_pred)\n",
        "print(\"MSE: \", mse1)\n",
        "rs1 = r2_score(Y, Y_pred)\n",
        "print(\"R2: \", rs1)"
      ],
      "metadata": {
        "colab": {
          "base_uri": "https://localhost:8080/",
          "height": 365
        },
        "id": "StwaKm1O9xOK",
        "outputId": "70c51022-1cca-4263-ddbd-735ef830f790"
      },
      "execution_count": 31,
      "outputs": [
        {
          "output_type": "display_data",
          "data": {
            "text/plain": [
              "<Figure size 432x288 with 1 Axes>"
            ],
            "image/png": "[encoded data removed]"
          },
          "metadata": {
            "needs_background": "light"
          }
        },
        {
          "output_type": "stream",
          "name": "stdout",
          "text": [
            "The slope:  [[2.55952381]]\n",
            "The intercept:  [34.44047619]\n",
            "MSE:  256.13803620621803\n",
            "R2:  0.00540011423081177\n"
          ]
        }
      ]
    },
    {
      "cell_type": "code",
      "source": [
        "X2 = split2['disease_1'].values.reshape(-1,1)\n",
        "\n",
        "# Save the second column (all the rows) in Y\n",
        "Y2 = split2['age'].values.reshape(-1,1)\n",
        "\n",
        "# Perform linear regression\n",
        "LRmodel.fit(X2, Y2)   \n",
        "\n",
        "Y_pred2 = LRmodel.predict(X2)\n",
        "\n",
        "# Visualize the dataset and the regression line:\n",
        "plt.scatter(X2, Y2)\n",
        "plt.plot(X2, Y_pred2, color = 'red')\n",
        "plt.title('Disease 1 vs Age')\n",
        "plt.xlabel('disease1')\n",
        "plt.ylabel('Age')\n",
        "plt.show()\n",
        "\n",
        "print(\"The slope: \", LRmodel.coef_)\n",
        "print(\"The intercept: \", LRmodel.intercept_)\n",
        "mse2 = mean_squared_error(Y2, Y_pred2)\n",
        "print(\"MSE: \", mse2)\n",
        "rs2 = r2_score(Y2, Y_pred2)\n",
        "print(\"R2: \", rs2)"
      ],
      "metadata": {
        "colab": {
          "base_uri": "https://localhost:8080/",
          "height": 365
        },
        "id": "AueWnov5DAFp",
        "outputId": "69957d0e-ca0a-4e07-f4f1-982a011bf519"
      },
      "execution_count": 32,
      "outputs": [
        {
          "output_type": "display_data",
          "data": {
            "text/plain": [
              "<Figure size 432x288 with 1 Axes>"
            ],
            "image/png": "[encoded data removed]"
          },
          "metadata": {
            "needs_background": "light"
          }
        },
        {
          "output_type": "stream",
          "name": "stdout",
          "text": [
            "The slope:  [[7.02872777]]\n",
            "The intercept:  [31.94186047]\n",
            "MSE:  239.89733242134062\n",
            "R2:  0.04013764279970056\n"
          ]
        }
      ]
    },
    {
      "cell_type": "code",
      "source": [
        "X3 = split3['disease_1'].values.reshape(-1,1)\n",
        "\n",
        "# Save the second column (all the rows) in Y\n",
        "Y3 = split3['age'].values.reshape(-1,1)\n",
        "\n",
        "# Perform linear regression\n",
        "LRmodel.fit(X3, Y3)   \n",
        "\n",
        "Y_pred3 = LRmodel.predict(X3)\n",
        "\n",
        "# Visualize the dataset and the regression line:\n",
        "plt.scatter(X3, Y3)\n",
        "plt.plot(X3, Y_pred3, color = 'red')\n",
        "plt.title('Disease 1 vs Age')\n",
        "plt.xlabel('disease1')\n",
        "plt.ylabel('Age')\n",
        "plt.show()\n",
        "\n",
        "print(\"The slope: \", LRmodel.coef_)\n",
        "print(\"The intercept: \", LRmodel.intercept_)\n",
        "mse3 = mean_squared_error(Y3, Y_pred3)\n",
        "print(\"MSE: \", mse1)\n",
        "rs3 = r2_score(Y3, Y_pred3)\n",
        "print(\"R2: \", rs3)"
      ],
      "metadata": {
        "colab": {
          "base_uri": "https://localhost:8080/",
          "height": 365
        },
        "id": "VYSh_dFWDY54",
        "outputId": "f572bbed-f8a5-4ad8-964c-1691548991bc"
      },
      "execution_count": 33,
      "outputs": [
        {
          "output_type": "display_data",
          "data": {
            "text/plain": [
              "<Figure size 432x288 with 1 Axes>"
            ],
            "image/png": "[encoded data removed]"
          },
          "metadata": {
            "needs_background": "light"
          }
        },
        {
          "output_type": "stream",
          "name": "stdout",
          "text": [
            "The slope:  [[5.53658537]]\n",
            "The intercept:  [35.36585366]\n",
            "MSE:  256.13803620621803\n",
            "R2:  0.026041424508220445\n"
          ]
        }
      ]
    },
    {
      "cell_type": "code",
      "source": [
        "#calculate average scores from all three splits:\n",
        "mse_avg = (mse1+mse2+mse3)/3\n",
        "rs_avg = (rs1+rs2+rs3)/3\n",
        "print(\"Average MSE = \", mse_avg)\n",
        "print(\"Average R-Squared = \", rs_avg)"
      ],
      "metadata": {
        "colab": {
          "base_uri": "https://localhost:8080/",
          "height": 0
        },
        "id": "XfIs6Fg0EFlU",
        "outputId": "d60be956-4754-477c-ea96-bf3e6c2769e9"
      },
      "execution_count": 34,
      "outputs": [
        {
          "output_type": "stream",
          "name": "stdout",
          "text": [
            "Average MSE =  250.26825064371596\n",
            "Average R-Squared =  0.02385972717957759\n"
          ]
        }
      ]
    },
    {
      "cell_type": "markdown",
      "source": [
        "**An NB classifier model for disease_1 vs. the top ranking (relevant) 5 attributes. Display the overall accuracy and the confusion matrix.**"
      ],
      "metadata": {
        "id": "FK63KotpP3uO"
      }
    },
    {
      "cell_type": "code",
      "source": [
        "# Generating the Gaussian Naive Bayes model\n",
        "from sklearn.naive_bayes import GaussianNB\n",
        "from sklearn import metrics\n",
        "from sklearn.model_selection import train_test_split\n",
        "from sklearn.metrics import confusion_matrix\n",
        "\n",
        "# create model\n",
        "NBmodel = GaussianNB()"
      ],
      "metadata": {
        "id": "QS6zRU-kE-92"
      },
      "execution_count": 35,
      "outputs": []
    },
    {
      "cell_type": "markdown",
      "source": [
        "**Perform NB classification on each of the 3 folds of data:**"
      ],
      "metadata": {
        "id": "CK3YnMcmItOj"
      }
    },
    {
      "cell_type": "code",
      "source": [
        "X = split1.filter(['erythema', 'parakeratosis', 'acanthosis', 'itching', 'scaling'], axis=1)\n",
        "\n",
        "# Save the second column (all the rows) in Y\n",
        "y = split1['disease_1']\n",
        "\n",
        "# In order to have the same proportion of 0 and 1 classes in a dataset to train, use 'stratify'\n",
        "X_train, X_test, y_train, y_test = train_test_split(X, y, test_size=0.20, stratify=y, shuffle=True, \n",
        "                                                    random_state=42)\n",
        "\n",
        "# Train the model \n",
        "NBmodel.fit(X_train, y_train)\n",
        "score1 = NBmodel.score(X_train, y_train)\n",
        "score2 = NBmodel.score(X_test, y_test)\n",
        "\n",
        "y_pred = NBmodel.predict(X_test)\n",
        "\n",
        "\n",
        "# Calculate model accuracy on both training and test data\n",
        "\n",
        "scores = [ score1, score2]\n",
        "\n",
        "print(scores)\n",
        "\n",
        "# Plot the accuracy claues\n",
        "labels = [\"Training\", \"Test\"]\n",
        "fig = plt.figure()\n",
        "ax = fig.add_axes([0,0,1,1])\n",
        "ax.set_title('Model Classification Accuary on Training vs. Test Data, 80-20 ratio')\n",
        "ax.bar(labels, scores, color=\"orange\")\n",
        "ax.set_ylim(0, 1)\n",
        "plt.show()\n",
        "\n",
        "#Generate the confusion matrix\n",
        "cf_matrix = confusion_matrix(y_test, y_pred)\n",
        "print(\"Confusion Matrix:\")\n",
        "print(cf_matrix)"
      ],
      "metadata": {
        "colab": {
          "base_uri": "https://localhost:8080/",
          "height": 421
        },
        "id": "3R6qZvkiFaVH",
        "outputId": "906d5a98-7b89-472c-ef33-dae30e4ca521"
      },
      "execution_count": 36,
      "outputs": [
        {
          "output_type": "stream",
          "name": "stdout",
          "text": [
            "[0.84375, 0.68]\n"
          ]
        },
        {
          "output_type": "display_data",
          "data": {
            "text/plain": [
              "<Figure size 432x288 with 1 Axes>"
            ],
            "image/png": "[encoded data removed]"
          },
          "metadata": {
            "needs_background": "light"
          }
        },
        {
          "output_type": "stream",
          "name": "stdout",
          "text": [
            "Confusion Matrix:\n",
            "[[12  5]\n",
            " [ 3  5]]\n"
          ]
        }
      ]
    },
    {
      "cell_type": "code",
      "source": [
        "X2 = split2.filter(['erythema', 'parakeratosis', 'acanthosis', 'itching', 'scaling'], axis=1)\n",
        "\n",
        "# Save the second column (all the rows) in Y\n",
        "y2 = split2['disease_1']\n",
        "\n",
        "# In order to have the same proportion of 0 and 1 classes in a dataset to train, use 'stratify'\n",
        "X_train, X_test, y_train, y_test = train_test_split(X2, y2, test_size=0.20, stratify=y2, shuffle=True, \n",
        "                                                    random_state=42)\n",
        "\n",
        "# Train the model \n",
        "NBmodel.fit(X_train, y_train)\n",
        "score1 = NBmodel.score(X_train, y_train)\n",
        "score2 = NBmodel.score(X_test, y_test)\n",
        "\n",
        "y_pred = NBmodel.predict(X_test)\n",
        "\n",
        "\n",
        "# Calculate model accuracy on both training and test data\n",
        "\n",
        "scores = [ score1, score2]\n",
        "\n",
        "print(scores)\n",
        "\n",
        "# Plot the accuracy claues\n",
        "labels = [\"Training\", \"Test\"]\n",
        "fig = plt.figure()\n",
        "ax = fig.add_axes([0,0,1,1])\n",
        "ax.set_title('Model Classification Accuary on Training vs. Test Data, 80-20 ratio')\n",
        "ax.bar(labels, scores, color=\"orange\")\n",
        "ax.set_ylim(0, 1)\n",
        "plt.show()\n",
        "#Generate the confusion matrix\n",
        "cf_matrix = confusion_matrix(y_test, y_pred)\n",
        "print(\"Confusion Matrix:\")\n",
        "print(cf_matrix)"
      ],
      "metadata": {
        "colab": {
          "base_uri": "https://localhost:8080/",
          "height": 421
        },
        "id": "t96tD0p4IywW",
        "outputId": "ae4fcb28-3476-4305-87ef-a6dde1c32adc"
      },
      "execution_count": 37,
      "outputs": [
        {
          "output_type": "stream",
          "name": "stdout",
          "text": [
            "[0.8333333333333334, 0.875]\n"
          ]
        },
        {
          "output_type": "display_data",
          "data": {
            "text/plain": [
              "<Figure size 432x288 with 1 Axes>"
            ],
            "image/png": "[encoded data removed]"
          },
          "metadata": {
            "needs_background": "light"
          }
        },
        {
          "output_type": "stream",
          "name": "stdout",
          "text": [
            "Confusion Matrix:\n",
            "[[16  1]\n",
            " [ 2  5]]\n"
          ]
        }
      ]
    },
    {
      "cell_type": "code",
      "source": [
        "X3 = split3.filter(['erythema', 'parakeratosis', 'acanthosis', 'itching', 'scaling'], axis=1)\n",
        "\n",
        "# Save the second column (all the rows) in Y\n",
        "y3 = split3['disease_1']\n",
        "\n",
        "# In order to have the same proportion of 0 and 1 classes in a dataset to train, use 'stratify'\n",
        "X_train, X_test, y_train, y_test = train_test_split(X3, y3, test_size=0.20, stratify=y3, shuffle=True, \n",
        "                                                    random_state=42)\n",
        "\n",
        "# Train the model \n",
        "NBmodel.fit(X_train, y_train)\n",
        "score1 = NBmodel.score(X_train, y_train)\n",
        "score2 = NBmodel.score(X_test, y_test)\n",
        "\n",
        "y_pred = NBmodel.predict(X_test)\n",
        "\n",
        "\n",
        "# Calculate model accuracy on both training and test data\n",
        "\n",
        "scores = [ score1, score2]\n",
        "\n",
        "print(scores)\n",
        "\n",
        "# Plot the accuracy claues\n",
        "labels = [\"Training\", \"Test\"]\n",
        "fig = plt.figure()\n",
        "ax = fig.add_axes([0,0,1,1])\n",
        "ax.set_title('Model Classification Accuary on Training vs. Test Data, 80-20 ratio')\n",
        "ax.bar(labels, scores, color=\"orange\")\n",
        "ax.set_ylim(0, 1)\n",
        "plt.show()\n",
        "#Generate the confusion matrix\n",
        "cf_matrix = confusion_matrix(y_test, y_pred)\n",
        "print(\"Confusion Matrix:\")\n",
        "print(cf_matrix)"
      ],
      "metadata": {
        "colab": {
          "base_uri": "https://localhost:8080/",
          "height": 421
        },
        "id": "Rq0YNN1nJtEA",
        "outputId": "c610978a-7ac9-4499-eca9-796fcf795fc9"
      },
      "execution_count": 38,
      "outputs": [
        {
          "output_type": "stream",
          "name": "stdout",
          "text": [
            "[0.8163265306122449, 0.84]\n"
          ]
        },
        {
          "output_type": "display_data",
          "data": {
            "text/plain": [
              "<Figure size 432x288 with 1 Axes>"
            ],
            "image/png": "[encoded data removed]"
          },
          "metadata": {
            "needs_background": "light"
          }
        },
        {
          "output_type": "stream",
          "name": "stdout",
          "text": [
            "Confusion Matrix:\n",
            "[[15  2]\n",
            " [ 2  6]]\n"
          ]
        }
      ]
    },
    {
      "cell_type": "code",
      "source": [
        "#calculate overall accuracy after the 3 folds:\n",
        "fold1 = [0.7916666666666666, 0.84]\n",
        "fold2 = [0.7916666666666666, 0.7916666666666666]\n",
        "fold3 = [0.8469387755102041, 0.84]\n",
        "train_acc = (fold1[0]+fold2[0]+fold3[0])/3\n",
        "test_acc = (fold1[1]+fold2[1]+fold3[1])/3\n",
        "print(\"Overall training accuracy of the 3 folds = \", train_acc)\n",
        "print(\"Overall testing accuracy of the 3 folds = \", test_acc)"
      ],
      "metadata": {
        "colab": {
          "base_uri": "https://localhost:8080/",
          "height": 0
        },
        "id": "bSWpZsUYKKht",
        "outputId": "051a4ac8-06e2-48e7-f9e7-48009b6bcd71"
      },
      "execution_count": 39,
      "outputs": [
        {
          "output_type": "stream",
          "name": "stdout",
          "text": [
            "Overall training accuracy of the 3 folds =  0.8100907029478458\n",
            "Overall testing accuracy of the 3 folds =  0.8238888888888889\n"
          ]
        }
      ]
    },
    {
      "cell_type": "markdown",
      "source": [
        "**A decision tree model (Gini or Entropy) for the entire feature space vs. the disease column. Display the relevant information about the generated tree, and print the confusion matrix.**"
      ],
      "metadata": {
        "id": "E2xKGWs2P6XX"
      }
    },
    {
      "cell_type": "markdown",
      "source": [
        "**makeDTModel() function:**"
      ],
      "metadata": {
        "id": "lCklnHzT63Qx"
      }
    },
    {
      "cell_type": "code",
      "source": [
        "#arguemnts:\n",
        "#type is the type of model: either \"gini\" or \"entropy\"\n",
        "#spec is an int 1 or 2. \n",
        "#     if spec = 1 then numNodes indicates the max leaf nodes of the tree\n",
        "#     if spec = 2 then numNodes indicates the max depth of the tree\n",
        "#X_train is the predictor training values\n",
        "#y_train is the target training values\n",
        "def makeDTModel(type, numNodes, X_train, y_train, spec):\n",
        "  if spec == 1:\n",
        "    model = DecisionTreeClassifier(criterion = type, \n",
        "                                     max_leaf_nodes=numNodes,\n",
        "                                     random_state = 120).fit(X_train, y_train)\n",
        "  if spec == 2:\n",
        "    model = DecisionTreeClassifier(criterion = type, \n",
        "                                     max_depth=numNodes,\n",
        "                                     random_state = 120).fit(X_train, y_train)\n",
        "  return model"
      ],
      "metadata": {
        "id": "ZLGGxq1GS7Pw"
      },
      "execution_count": 40,
      "outputs": []
    },
    {
      "cell_type": "markdown",
      "source": [
        "**displayTree() function:**"
      ],
      "metadata": {
        "id": "AUT-h7VTS-oO"
      }
    },
    {
      "cell_type": "code",
      "source": [
        "#arguemnts:\n",
        "#classifier is the model that contains the decision tree classifier\n",
        "#X is the dataset containing the predictor values\n",
        "#cn is a group of labels for the predictors\n",
        "def displayTree(classifier, X, cn):\n",
        "  # Control the figure size\n",
        "  from matplotlib.pyplot import figure\n",
        "  figure(figsize=(12, 10), dpi=80)\n",
        "  # Plot the tree\n",
        "  tree.plot_tree(classifier, feature_names=X.columns.values.tolist(), class_names=cn, filled = True)"
      ],
      "metadata": {
        "id": "cDMMPeKjS_Di"
      },
      "execution_count": 41,
      "outputs": []
    },
    {
      "cell_type": "markdown",
      "source": [
        "**displayCM() function:**"
      ],
      "metadata": {
        "id": "Ziq8Eqvc6-m_"
      }
    },
    {
      "cell_type": "code",
      "source": [
        "#function to make and display the confusion matrix in text and heatmap\n",
        "#arguemnts:\n",
        "#classifier is the model that contains the decision tree classifier\n",
        "#X_train is the predictor training values\n",
        "#y_train is the target training values\n",
        "#X_test is the predictor testing values\n",
        "#y_test is the target testing values\n",
        "def displayCM(classifier, X_train, y_train, X_test, y_test):\n",
        "  predictions = classifier.predict(X_test)\n",
        "  cm = confusion_matrix(y_true = y_test, y_pred = predictions)\n",
        "  print(cm)\n",
        "  plt.figure(figsize=(8,8))  #control the size of the heatmap\n",
        "  #create the heatmap\n",
        "  sns.heatmap(cm, annot=True, \n",
        "            linewidths=.5, square = True, cmap = 'Oranges_r', fmt='0.4g');\n",
        "  plt.ylabel('Actual label')  #label y axis of heatmap\n",
        "  plt.xlabel('Predicted label')  #label x axis of heatmap"
      ],
      "metadata": {
        "id": "IcqkjqMeTGPD"
      },
      "execution_count": 42,
      "outputs": []
    },
    {
      "cell_type": "markdown",
      "source": [
        "**compareModels() function:**"
      ],
      "metadata": {
        "id": "y0b8xaIeTG2v"
      }
    },
    {
      "cell_type": "code",
      "source": [
        "#function to plot the side by side model comparisons\n",
        "#arguments:\n",
        "#label1 and label2 are strings to label each classifier\n",
        "#trainScore1 and testScore1 are scores for the classifer model in label1\n",
        "#trainScore2 and testScore2 are scores for the classifer model in label2\n",
        "def compareModels(label1, label2, label3, trainScore1, testScore1, trainScore2, testScore2, trainScore3, testScore3):\n",
        "  labels = [label1, label2, label3]\n",
        "  training_scores = [trainScore1, trainScore2, trainScore3]\n",
        "  testing_scores =  [testScore1, testScore2, testScore3]\n",
        "\n",
        "  x = np.arange(3)  # the label locations\n",
        "  width = 0.35  # the width of the bars\n",
        "\n",
        "  fig, ax = plt.subplots()\n",
        "  rects1 = ax.bar(x - width/2, training_scores, width, label='Training', color='navy')\n",
        "  rects2 = ax.bar(x + width/2, testing_scores, width, label='Testing', color='orange')\n",
        "\n",
        "  # Add some text for labels, title and custom x-axis tick labels, etc.\n",
        "  ax.set_ylabel('Model Accuracy')\n",
        "  ax.set_xticks(x)\n",
        "  ax.set_ylim(0,1)\n",
        "  ax.set_xticklabels(labels)\n",
        "  ax.legend(bbox_to_anchor = (1.3, 1.0), loc='upper right')\n",
        "\n",
        "  plt.title('Model Comparisons')\n",
        "  plt.show()"
      ],
      "metadata": {
        "id": "RmthYoUyTIyY"
      },
      "execution_count": 43,
      "outputs": []
    },
    {
      "cell_type": "code",
      "source": [
        "import seaborn as sns\n",
        "import matplotlib\n",
        "import matplotlib.pyplot as plt\n",
        "from sklearn.tree import DecisionTreeClassifier\n",
        "from sklearn import tree\n",
        "from sklearn import preprocessing\n",
        "from matplotlib.pyplot import figure\n",
        "from sklearn.metrics import confusion_matrix\n",
        "import seaborn as sns"
      ],
      "metadata": {
        "id": "lntUi0JqP8K9"
      },
      "execution_count": 44,
      "outputs": []
    },
    {
      "cell_type": "markdown",
      "source": [
        "**Generate tree for 1st fold:**"
      ],
      "metadata": {
        "id": "MFRz0gwzWjvv"
      }
    },
    {
      "cell_type": "code",
      "source": [
        "#prepare data:\n",
        "y = split1['class']  #target values\n",
        "X = split1  #predictors\n",
        "X = X.drop(columns=['class', 'disease_1'])  #get rid of target\n",
        "#80-20 split:\n",
        "X_train, X_test, y_train, y_test = \\\n",
        "    train_test_split(X, y, random_state=42, shuffle=True, train_size=0.80, stratify=y)\n",
        "\n",
        "#call to make the decision tree model:\n",
        "cart_classifier1 = makeDTModel(\"gini\", 6, X_train, y_train, 1)  #model for cart\n",
        "\n",
        "cn = ['1: psoriasis', '2: seboreic dermatitis', '3: lichen planus', '4: pityriasis', '5: cronic dermatitis', '6: pityriasis rubra pilaris']  # labels to be passed to displayTree()\n",
        "displayTree(cart_classifier1, X, cn)  #call to print the cart decision tree\n",
        "#call the confusion matrix function for the cart model\n",
        "displayCM(cart_classifier1, X_train, y_train, X_test, y_test)"
      ],
      "metadata": {
        "colab": {
          "base_uri": "https://localhost:8080/",
          "height": 1000
        },
        "id": "3YgwzKqBTcX6",
        "outputId": "b71a68c8-486a-402e-bdb0-15e5d7455ef2"
      },
      "execution_count": 45,
      "outputs": [
        {
          "output_type": "stream",
          "name": "stdout",
          "text": [
            "[[8 0 0 0 0 0]\n",
            " [0 4 0 0 0 0]\n",
            " [0 0 3 1 0 0]\n",
            " [0 0 0 2 0 0]\n",
            " [0 0 0 0 5 0]\n",
            " [1 0 0 0 0 1]]\n"
          ]
        },
        {
          "output_type": "display_data",
          "data": {
            "text/plain": [
              "<Figure size 960x800 with 1 Axes>"
            ],
            "image/png": "[encoded data removed]"
          },
          "metadata": {
            "needs_background": "light"
          }
        },
        {
          "output_type": "display_data",
          "data": {
            "text/plain": [
              "<Figure size 576x576 with 2 Axes>"
            ],
            "image/png": "[encoded data removed]"
          },
          "metadata": {
            "needs_background": "light"
          }
        }
      ]
    },
    {
      "cell_type": "code",
      "source": [
        "#calculate classification accuracy scores for cart model:\n",
        "trainScore1 = round(cart_classifier1.score(X_train, y_train), 2) # training score\n",
        "testScore1 = round(cart_classifier1.score(X_test, y_test), 2)   # testing score"
      ],
      "metadata": {
        "id": "hiiqS_k7Xy2b"
      },
      "execution_count": 46,
      "outputs": []
    },
    {
      "cell_type": "markdown",
      "source": [
        "**Generate tree for 2nd fold:**"
      ],
      "metadata": {
        "id": "Kj5mDwhDWo08"
      }
    },
    {
      "cell_type": "code",
      "source": [
        "#prepare data:\n",
        "y = split2['class']  #target values\n",
        "X = split2  #predictors\n",
        "X = X.drop(columns=['class', 'disease_1'])  #get rid of target\n",
        "#80-20 split:\n",
        "X_train, X_test, y_train, y_test = \\\n",
        "    train_test_split(X, y, random_state=42, shuffle=True, train_size=0.80, stratify=y)\n",
        "\n",
        "#call to make the decision tree model:\n",
        "cart_classifier2 = makeDTModel(\"gini\", 6, X_train, y_train, 1)  #model for cart\n",
        "\n",
        "cn = ['1: psoriasis', '2: seboreic dermatitis', '3: lichen planus', '4: pityriasis', '5: cronic dermatitis', '6: pityriasis rubra pilaris']  # labels to be passed to displayTree()\n",
        "displayTree(cart_classifier2, X, cn)  #call to print the cart decision tree\n",
        "#call the confusion matrix function for the cart model\n",
        "displayCM(cart_classifier2, X_train, y_train, X_test, y_test)"
      ],
      "metadata": {
        "colab": {
          "base_uri": "https://localhost:8080/",
          "height": 1000
        },
        "id": "ECOPgUnOWOfV",
        "outputId": "c4702053-4c2d-4b60-880c-6290166248a8"
      },
      "execution_count": 47,
      "outputs": [
        {
          "output_type": "stream",
          "name": "stdout",
          "text": [
            "[[6 1 0 0 0 0]\n",
            " [0 4 0 0 0 0]\n",
            " [0 0 4 0 1 0]\n",
            " [0 0 0 4 0 0]\n",
            " [0 0 0 0 3 0]\n",
            " [0 0 0 0 0 1]]\n"
          ]
        },
        {
          "output_type": "display_data",
          "data": {
            "text/plain": [
              "<Figure size 960x800 with 1 Axes>"
            ],
            "image/png": "[encoded data removed]"
          },
          "metadata": {
            "needs_background": "light"
          }
        },
        {
          "output_type": "display_data",
          "data": {
            "text/plain": [
              "<Figure size 576x576 with 2 Axes>"
            ],
            "image/png": "[encoded data removed]"
          },
          "metadata": {
            "needs_background": "light"
          }
        }
      ]
    },
    {
      "cell_type": "code",
      "source": [
        "#calculate classification accuracy scores for cart model:\n",
        "trainScore2 = round(cart_classifier2.score(X_train, y_train), 2) # training score\n",
        "testScore2 = round(cart_classifier2.score(X_test, y_test), 2)   # testing score"
      ],
      "metadata": {
        "id": "bfha9o8GYE96"
      },
      "execution_count": 48,
      "outputs": []
    },
    {
      "cell_type": "markdown",
      "source": [
        "**Generate tree for 3rd fold:**"
      ],
      "metadata": {
        "id": "FaNmRI9bWqtv"
      }
    },
    {
      "cell_type": "code",
      "source": [
        "#prepare data:\n",
        "y = split3['class']  #target values\n",
        "X = split3  #predictors\n",
        "X = X.drop(columns=['class', 'disease_1'])  #get rid of target\n",
        "#80-20 split:\n",
        "X_train, X_test, y_train, y_test = \\\n",
        "    train_test_split(X, y, random_state=42, shuffle=True, train_size=0.80, stratify=y)\n",
        "\n",
        "#call to make the decision tree model:\n",
        "cart_classifier3 = makeDTModel(\"gini\", 5, X_train, y_train, 1)  #model for cart\n",
        "\n",
        "cn = ['1: psoriasis', '2: seboreic dermatitis', '3: lichen planus', '4: pityriasis', '5: cronic dermatitis', '6: pityriasis rubra pilaris']  # labels to be passed to displayTree()\n",
        "displayTree(cart_classifier3, X, cn)  #call to print the cart decision tree\n",
        "#call the confusion matrix function for the cart model\n",
        "displayCM(cart_classifier3, X_train, y_train, X_test, y_test)"
      ],
      "metadata": {
        "colab": {
          "base_uri": "https://localhost:8080/",
          "height": 1000
        },
        "id": "FGi-uLAGWTq7",
        "outputId": "a7e09db8-6062-4fee-f4e3-44ebaadb4777"
      },
      "execution_count": 49,
      "outputs": [
        {
          "output_type": "stream",
          "name": "stdout",
          "text": [
            "[[8 0 0 0 0 0]\n",
            " [0 0 0 3 0 0]\n",
            " [0 0 6 0 0 0]\n",
            " [0 0 0 4 0 0]\n",
            " [0 0 0 0 3 0]\n",
            " [0 0 0 1 0 0]]\n"
          ]
        },
        {
          "output_type": "display_data",
          "data": {
            "text/plain": [
              "<Figure size 960x800 with 1 Axes>"
            ],
            "image/png": "[encoded data removed]"
          },
          "metadata": {
            "needs_background": "light"
          }
        },
        {
          "output_type": "display_data",
          "data": {
            "text/plain": [
              "<Figure size 576x576 with 2 Axes>"
            ],
            "image/png": "[encoded data removed]"
          },
          "metadata": {
            "needs_background": "light"
          }
        }
      ]
    },
    {
      "cell_type": "code",
      "source": [
        "#calculate classification accuracy scores for cart model:\n",
        "trainScore3 = round(cart_classifier3.score(X_train, y_train), 2) # training score\n",
        "testScore3 = round(cart_classifier3.score(X_test, y_test), 2)   # testing score"
      ],
      "metadata": {
        "id": "GWWnqg7_YL3G"
      },
      "execution_count": 50,
      "outputs": []
    },
    {
      "cell_type": "code",
      "source": [
        "#call the function to compare models\n",
        "compareModels(\"1st Fold\", \"2nd Fold\", \"3rd Fold\", trainScore1, testScore1, trainScore2, testScore2, trainScore3, testScore3)"
      ],
      "metadata": {
        "colab": {
          "base_uri": "https://localhost:8080/",
          "height": 281
        },
        "id": "1CP8gTvRYPAF",
        "outputId": "c5c9fec5-ba07-4634-f405-08d0d9df223d"
      },
      "execution_count": 51,
      "outputs": [
        {
          "output_type": "display_data",
          "data": {
            "text/plain": [
              "<Figure size 432x288 with 1 Axes>"
            ],
            "image/png": "[encoded data removed]"
          },
          "metadata": {
            "needs_background": "light"
          }
        }
      ]
    },
    {
      "cell_type": "markdown",
      "source": [
        "**A random forest model for the entire feature space vs. the disease column. Display the relevant information about one of the generated trees, and print the confusion matrix. Plot the model's .feature_importances_ which is a measure of the accumulation of the impurity decrease within each tree.**"
      ],
      "metadata": {
        "id": "YB11m3rZP8iN"
      }
    },
    {
      "cell_type": "markdown",
      "source": [
        "Reference: \n",
        "\n",
        "*   https://www.datacamp.com/community/tutorials/random-forests-classifier-python\n",
        "\n",
        "\n",
        "\n"
      ],
      "metadata": {
        "id": "w628LYmp-d10"
      }
    },
    {
      "cell_type": "code",
      "source": [
        "# Import train_test_split function\n",
        "from sklearn.model_selection import train_test_split\n",
        "X = df\n",
        "X = X.drop(columns=['class'])  #predictors\n",
        "y=df['class']  # target\n",
        "# Split dataset into training set and test set\n",
        "X_train, X_test, y_train, y_test = train_test_split(X, y, test_size=0.3) # 70% training and 30% test"
      ],
      "metadata": {
        "id": "6WikaplPQAgH"
      },
      "execution_count": 52,
      "outputs": []
    },
    {
      "cell_type": "code",
      "source": [
        "#Import Random Forest Model\n",
        "from sklearn.ensemble import RandomForestClassifier\n",
        "\n",
        "#Create a Gaussian Classifier\n",
        "clf=RandomForestClassifier(n_estimators=100)\n",
        "\n",
        "#Train the model using the training sets y_pred=clf.predict(X_test)\n",
        "clf.fit(X_train,y_train)\n",
        "\n",
        "y_pred=clf.predict(X_test)"
      ],
      "metadata": {
        "id": "9riw4a-equ1i"
      },
      "execution_count": 53,
      "outputs": []
    },
    {
      "cell_type": "code",
      "source": [
        "#Import scikit-learn metrics module for accuracy calculation\n",
        "from sklearn import metrics\n",
        "# Model Accuracy, how often is the classifier correct?\n",
        "print(\"Accuracy:\",metrics.accuracy_score(y_test, y_pred))"
      ],
      "metadata": {
        "colab": {
          "base_uri": "https://localhost:8080/",
          "height": 0
        },
        "id": "ph4_GSmrq2tI",
        "outputId": "55bc3216-e1bc-46d5-b651-f7e71868b8e3"
      },
      "execution_count": 54,
      "outputs": [
        {
          "output_type": "stream",
          "name": "stdout",
          "text": [
            "Accuracy: 0.9818181818181818\n"
          ]
        }
      ]
    },
    {
      "cell_type": "code",
      "source": [
        "# calculate feature importance:\n",
        "cn2 = X.columns.values.tolist()\n",
        "feature_imp = pd.Series(clf.feature_importances_, index = cn2).sort_values(ascending=False)\n",
        "feature_imp"
      ],
      "metadata": {
        "colab": {
          "base_uri": "https://localhost:8080/",
          "height": 0
        },
        "id": "XfAOBtTorL7K",
        "outputId": "f13bf8e2-ce8d-4a31-b274-6e89367c1340"
      },
      "execution_count": 55,
      "outputs": [
        {
          "output_type": "execute_result",
          "data": {
            "text/plain": [
              "fibrosis_of_the_papillary_dermis            0.081240\n",
              "thinning_of_the_suprapapillary_epidermis    0.080959\n",
              "koebner_phenomenon                          0.064198\n",
              "clubbing_of_the_rete_ridges                 0.063890\n",
              "spongiosis                                  0.058022\n",
              "elongation_of_the_rete_ridges               0.053256\n",
              "disease_1                                   0.052902\n",
              "band-like_infiltrate                        0.043291\n",
              "melanin_incontinence                        0.041728\n",
              "vacuolisation_and_damage_of_basal_layer     0.035630\n",
              "saw-tooth_appearance_of_retes               0.034682\n",
              "pnl_infiltrate                              0.032415\n",
              "oral_mucosal_involvement                    0.031476\n",
              "polygonal_papules                           0.029572\n",
              "scaling                                     0.026953\n",
              "itching                                     0.024435\n",
              "exocytosis                                  0.022606\n",
              "age                                         0.020858\n",
              "knee_and_elbow_involvement                  0.020694\n",
              "perifollicular_parakeratosis                0.019447\n",
              "munro_microabcess                           0.018033\n",
              "disappearance_of_the_granular_layer         0.016221\n",
              "follicular_papules                          0.016129\n",
              "focal_hypergranulosis                       0.015728\n",
              "follicular_horn_plug                        0.014868\n",
              "definite_borders                            0.014246\n",
              "scalp_involvement                           0.014067\n",
              "erythema                                    0.010623\n",
              "acanthosis                                  0.009283\n",
              "hyperkeratosis                              0.008633\n",
              "eosinophils_in_the_infiltrate               0.008614\n",
              "parakeratosis                               0.006452\n",
              "inflammatory_monoluclear_inflitrate         0.005217\n",
              "spongiform_pustule                          0.002229\n",
              "family_history                              0.001403\n",
              "dtype: float64"
            ]
          },
          "metadata": {},
          "execution_count": 55
        }
      ]
    },
    {
      "cell_type": "code",
      "source": [
        "#convert to df\n",
        "feature_imp = feature_imp.to_frame(name=\"importance\")"
      ],
      "metadata": {
        "id": "DIbtiFOJuduM"
      },
      "execution_count": 56,
      "outputs": []
    },
    {
      "cell_type": "code",
      "source": [
        "#Using drop() to delete rows based on column value < .025 because there were too many\n",
        "feature_imp.drop(feature_imp[feature_imp['importance'] < .025].index, inplace = True)\n",
        "feature_imp"
      ],
      "metadata": {
        "colab": {
          "base_uri": "https://localhost:8080/",
          "height": 520
        },
        "id": "eAJLqa3Lvmb5",
        "outputId": "1174d799-a705-4499-9d92-51ddb181ecf5"
      },
      "execution_count": 57,
      "outputs": [
        {
          "output_type": "execute_result",
          "data": {
            "text/plain": [
              "                                          importance\n",
              "fibrosis_of_the_papillary_dermis            0.081240\n",
              "thinning_of_the_suprapapillary_epidermis    0.080959\n",
              "koebner_phenomenon                          0.064198\n",
              "clubbing_of_the_rete_ridges                 0.063890\n",
              "spongiosis                                  0.058022\n",
              "elongation_of_the_rete_ridges               0.053256\n",
              "disease_1                                   0.052902\n",
              "band-like_infiltrate                        0.043291\n",
              "melanin_incontinence                        0.041728\n",
              "vacuolisation_and_damage_of_basal_layer     0.035630\n",
              "saw-tooth_appearance_of_retes               0.034682\n",
              "pnl_infiltrate                              0.032415\n",
              "oral_mucosal_involvement                    0.031476\n",
              "polygonal_papules                           0.029572\n",
              "scaling                                     0.026953"
            ],
            "text/html": [
              "\n",
              "  <div id=\"df-9b331ec4-d09a-4fb6-bef5-a3314791ab84\">\n",
              "    <div class=\"colab-df-container\">\n",
              "      <div>\n",
              "<style scoped>\n",
              "    .dataframe tbody tr th:only-of-type {\n",
              "        vertical-align: middle;\n",
              "    }\n",
              "\n",
              "    .dataframe tbody tr th {\n",
              "        vertical-align: top;\n",
              "    }\n",
              "\n",
              "    .dataframe thead th {\n",
              "        text-align: right;\n",
              "    }\n",
              "</style>\n",
              "<table border=\"1\" class=\"dataframe\">\n",
              "  <thead>\n",
              "    <tr style=\"text-align: right;\">\n",
              "      <th></th>\n",
              "      <th>importance</th>\n",
              "    </tr>\n",
              "  </thead>\n",
              "  <tbody>\n",
              "    <tr>\n",
              "      <th>fibrosis_of_the_papillary_dermis</th>\n",
              "      <td>0.081240</td>\n",
              "    </tr>\n",
              "    <tr>\n",
              "      <th>thinning_of_the_suprapapillary_epidermis</th>\n",
              "      <td>0.080959</td>\n",
              "    </tr>\n",
              "    <tr>\n",
              "      <th>koebner_phenomenon</th>\n",
              "      <td>0.064198</td>\n",
              "    </tr>\n",
              "    <tr>\n",
              "      <th>clubbing_of_the_rete_ridges</th>\n",
              "      <td>0.063890</td>\n",
              "    </tr>\n",
              "    <tr>\n",
              "      <th>spongiosis</th>\n",
              "      <td>0.058022</td>\n",
              "    </tr>\n",
              "    <tr>\n",
              "      <th>elongation_of_the_rete_ridges</th>\n",
              "      <td>0.053256</td>\n",
              "    </tr>\n",
              "    <tr>\n",
              "      <th>disease_1</th>\n",
              "      <td>0.052902</td>\n",
              "    </tr>\n",
              "    <tr>\n",
              "      <th>band-like_infiltrate</th>\n",
              "      <td>0.043291</td>\n",
              "    </tr>\n",
              "    <tr>\n",
              "      <th>melanin_incontinence</th>\n",
              "      <td>0.041728</td>\n",
              "    </tr>\n",
              "    <tr>\n",
              "      <th>vacuolisation_and_damage_of_basal_layer</th>\n",
              "      <td>0.035630</td>\n",
              "    </tr>\n",
              "    <tr>\n",
              "      <th>saw-tooth_appearance_of_retes</th>\n",
              "      <td>0.034682</td>\n",
              "    </tr>\n",
              "    <tr>\n",
              "      <th>pnl_infiltrate</th>\n",
              "      <td>0.032415</td>\n",
              "    </tr>\n",
              "    <tr>\n",
              "      <th>oral_mucosal_involvement</th>\n",
              "      <td>0.031476</td>\n",
              "    </tr>\n",
              "    <tr>\n",
              "      <th>polygonal_papules</th>\n",
              "      <td>0.029572</td>\n",
              "    </tr>\n",
              "    <tr>\n",
              "      <th>scaling</th>\n",
              "      <td>0.026953</td>\n",
              "    </tr>\n",
              "  </tbody>\n",
              "</table>\n",
              "</div>\n",
              "      <button class=\"colab-df-convert\" onclick=\"convertToInteractive('df-9b331ec4-d09a-4fb6-bef5-a3314791ab84')\"\n",
              "              title=\"Convert this dataframe to an interactive table.\"\n",
              "              style=\"display:none;\">\n",
              "        \n",
              "  <svg xmlns=\"http://www.w3.org/2000/svg\" height=\"24px\"viewBox=\"0 0 24 24\"\n",
              "       width=\"24px\">\n",
              "    <path d=\"M0 0h24v24H0V0z\" fill=\"none\"/>\n",
              "    <path d=\"M18.56 5.44l.94 2.06.94-2.06 2.06-.94-2.06-.94-.94-2.06-.94 2.06-2.06.94zm-11 1L8.5 8.5l.94-2.06 2.06-.94-2.06-.94L8.5 2.5l-.94 2.06-2.06.94zm10 10l.94 2.06.94-2.06 2.06-.94-2.06-.94-.94-2.06-.94 2.06-2.06.94z\"/><path d=\"M17.41 7.96l-1.37-1.37c-.4-.4-.92-.59-1.43-.59-.52 0-1.04.2-1.43.59L10.3 9.45l-7.72 7.72c-.78.78-.78 2.05 0 2.83L4 21.41c.39.39.9.59 1.41.59.51 0 1.02-.2 1.41-.59l7.78-7.78 2.81-2.81c.8-.78.8-2.07 0-2.86zM5.41 20L4 18.59l7.72-7.72 1.47 1.35L5.41 20z\"/>\n",
              "  </svg>\n",
              "      </button>\n",
              "      \n",
              "  <style>\n",
              "    .colab-df-container {\n",
              "      display:flex;\n",
              "      flex-wrap:wrap;\n",
              "      gap: 12px;\n",
              "    }\n",
              "\n",
              "    .colab-df-convert {\n",
              "      background-color: #E8F0FE;\n",
              "      border: none;\n",
              "      border-radius: 50%;\n",
              "      cursor: pointer;\n",
              "      display: none;\n",
              "      fill: #1967D2;\n",
              "      height: 32px;\n",
              "      padding: 0 0 0 0;\n",
              "      width: 32px;\n",
              "    }\n",
              "\n",
              "    .colab-df-convert:hover {\n",
              "      background-color: #E2EBFA;\n",
              "      box-shadow: 0px 1px 2px rgba(60, 64, 67, 0.3), 0px 1px 3px 1px rgba(60, 64, 67, 0.15);\n",
              "      fill: #174EA6;\n",
              "    }\n",
              "\n",
              "    [theme=dark] .colab-df-convert {\n",
              "      background-color: #3B4455;\n",
              "      fill: #D2E3FC;\n",
              "    }\n",
              "\n",
              "    [theme=dark] .colab-df-convert:hover {\n",
              "      background-color: #434B5C;\n",
              "      box-shadow: 0px 1px 3px 1px rgba(0, 0, 0, 0.15);\n",
              "      filter: drop-shadow(0px 1px 2px rgba(0, 0, 0, 0.3));\n",
              "      fill: #FFFFFF;\n",
              "    }\n",
              "  </style>\n",
              "\n",
              "      <script>\n",
              "        const buttonEl =\n",
              "          document.querySelector('#df-9b331ec4-d09a-4fb6-bef5-a3314791ab84 button.colab-df-convert');\n",
              "        buttonEl.style.display =\n",
              "          google.colab.kernel.accessAllowed ? 'block' : 'none';\n",
              "\n",
              "        async function convertToInteractive(key) {\n",
              "          const element = document.querySelector('#df-9b331ec4-d09a-4fb6-bef5-a3314791ab84');\n",
              "          const dataTable =\n",
              "            await google.colab.kernel.invokeFunction('convertToInteractive',\n",
              "                                                     [key], {});\n",
              "          if (!dataTable) return;\n",
              "\n",
              "          const docLinkHtml = 'Like what you see? Visit the ' +\n",
              "            '<a target=\"_blank\" href=https://colab.research.google.com/notebooks/data_table.ipynb>data table notebook</a>'\n",
              "            + ' to learn more about interactive tables.';\n",
              "          element.innerHTML = '';\n",
              "          dataTable['output_type'] = 'display_data';\n",
              "          await google.colab.output.renderOutput(dataTable, element);\n",
              "          const docLink = document.createElement('div');\n",
              "          docLink.innerHTML = docLinkHtml;\n",
              "          element.appendChild(docLink);\n",
              "        }\n",
              "      </script>\n",
              "    </div>\n",
              "  </div>\n",
              "  "
            ]
          },
          "metadata": {},
          "execution_count": 57
        }
      ]
    },
    {
      "cell_type": "code",
      "source": [
        "#turn it back into a pd series\n",
        "feature_imp = feature_imp.squeeze()"
      ],
      "metadata": {
        "id": "PgVI5ibkwGrb"
      },
      "execution_count": 58,
      "outputs": []
    },
    {
      "cell_type": "code",
      "source": [
        "#plot results:\n",
        "import matplotlib.pyplot as plt\n",
        "import seaborn as sns\n",
        "%matplotlib inline\n",
        "# Creating a bar plot\n",
        "sns.barplot(x=feature_imp, y=feature_imp.index)\n",
        "# Add labels to your graph\n",
        "plt.xlabel('Feature Importance Score')\n",
        "plt.ylabel('Features')\n",
        "plt.title(\"Visualizing Important Features\")\n",
        "plt.legend()\n",
        "plt.show()"
      ],
      "metadata": {
        "colab": {
          "base_uri": "https://localhost:8080/",
          "height": 312
        },
        "id": "NyoY42AYuO7B",
        "outputId": "28dd4b02-5df7-4b3a-b34b-224925886205"
      },
      "execution_count": 59,
      "outputs": [
        {
          "output_type": "stream",
          "name": "stderr",
          "text": [
            "No handles with labels found to put in legend.\n"
          ]
        },
        {
          "output_type": "display_data",
          "data": {
            "text/plain": [
              "<Figure size 432x288 with 1 Axes>"
            ],
            "image/png": "[encoded data removed]"
          },
          "metadata": {
            "needs_background": "light"
          }
        }
      ]
    },
    {
      "cell_type": "markdown",
      "source": [
        "**Carefully compare the models and summarize your findings.**"
      ],
      "metadata": {
        "id": "maqOPc7QQAyc"
      }
    },
    {
      "cell_type": "markdown",
      "source": [
        "**Linear Regression Results:**\n",
        "\n",
        "*   Average MSE =  250.26825064371596\n",
        "*   Average R-Squared =  0.02385972717957759\n",
        "\n",
        "**NB Classifier Results:**\n",
        "\n",
        "*   Average training accuracy of the 3 folds =  0.81\n",
        "*   Average testing accuracy of the 3 folds =  0.823\n",
        "\n",
        "**Decision Tree (gini) Results:**\n",
        "\n",
        "![image.png](data:image/png;base64,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)\n",
        "\n",
        "**Random Forest Results:**\n",
        "\n",
        "![image.png](data:image/png;base64,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)"
      ],
      "metadata": {
        "id": "b6iF-MOxwqAZ"
      }
    },
    {
      "cell_type": "markdown",
      "source": [
        "**Summary:**\n",
        "\n",
        "- Based on my results I would say that the Random Forest model has the best results because it gives meaningful insight on the features that have the most importance when regarding the disease class. Although it says that the disease_1 column has the highest level of importance, it is important to note that that column is not a feature, it is just a column with 1 (meaning disease = 1: psoriasis) and 0 (meaning disease is not 1: psoriasis).  Therefore when deciding which feature has the most impact on disease class I would disregard that column and would say it is fibrosis of the papillary dermis because it has the next highest level of importance.  \n",
        "- The linear regression models had a very poor average R score of 0.02.  It is important to note that the data used for this was disease_1 vs age so this doesn't tell us much in terms of which features have the most leverage on disease class.\n",
        "- The NB classifier models had a good average accuracy score on the testing and training data (around 0.80).  This makes sense because I used the 5 predictors ('erythema', 'parakeratosis', 'acanthosis', 'itching', 'scaling')  that I thought had the most leverage on disease.  I chose these based on the cross tabulations of predictors that had the most present features in multiple disease classes.  This could tell us that the 5 predictor features that I chose may have good leverage when trying to classify disease classes.\n",
        "- In my decision tree models I also had pretty decent accuracy scores.  I noticed that in all 3 folds the trees started by classifying by disease class 1 (psoriasis).  I also notied that two of the trees made that first decision based on the predictor: Thinning of the suprapapillary epidermis.  This might tell us that present features of Thinning of the suprapapillary epidermis may be a good indicator for disease class 1. "
      ],
      "metadata": {
        "id": "S08YUOZFyonS"
      }
    }
  ]
}