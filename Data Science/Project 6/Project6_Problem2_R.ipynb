{
  "nbformat": 4,
  "nbformat_minor": 0,
  "metadata": {
    "colab": {
      "name": "Project6-Problem2-R",
      "provenance": []
    },
    "kernelspec": {
      "name": "ir",
      "display_name": "R"
    },
    "language_info": {
      "name": "R"
    }
  },
  "cells": [
    {
      "cell_type": "markdown",
      "source": [
        "# **Read in the Data Set:**"
      ],
      "metadata": {
        "id": "RFuzgFStensZ"
      }
    },
    {
      "cell_type": "code",
      "execution_count": null,
      "metadata": {
        "colab": {
          "base_uri": "https://localhost:8080/",
          "height": 654
        },
        "id": "RGMdpSlKdZDp",
        "outputId": "2a7f2d98-c01e-40b5-e455-3771f80376a4"
      },
      "outputs": [
        {
          "output_type": "display_data",
          "data": {
            "text/plain": [
              "  Approval       Debt.to.Income.Ratio   FICO.Score  Request.Amount \n",
              " Mode :logical   Min.   :0.0000       Min.   :371   Min.   :  500  \n",
              " FALSE:75066     1st Qu.:0.0900       1st Qu.:647   1st Qu.: 6000  \n",
              " TRUE :75236     Median :0.1600       Median :684   Median :11000  \n",
              "                 Mean   :0.1835       Mean   :672   Mean   :13427  \n",
              "                 3rd Qu.:0.2400       3rd Qu.:714   3rd Qu.:19000  \n",
              "                 Max.   :1.0300       Max.   :869   Max.   :44000  \n",
              "    Interest    \n",
              " Min.   :  225  \n",
              " 1st Qu.: 2700  \n",
              " Median : 4950  \n",
              " Mean   : 6042  \n",
              " 3rd Qu.: 8550  \n",
              " Max.   :19800  "
            ]
          },
          "metadata": {}
        },
        {
          "output_type": "display_data",
          "data": {
            "text/html": [
              "<table class=\"dataframe\">\n",
              "<caption>A data.frame: 10 × 5</caption>\n",
              "<thead>\n",
              "\t<tr><th></th><th scope=col>Approval</th><th scope=col>Debt.to.Income.Ratio</th><th scope=col>FICO.Score</th><th scope=col>Request.Amount</th><th scope=col>Interest</th></tr>\n",
              "\t<tr><th></th><th scope=col>&lt;lgl&gt;</th><th scope=col>&lt;dbl&gt;</th><th scope=col>&lt;int&gt;</th><th scope=col>&lt;int&gt;</th><th scope=col>&lt;dbl&gt;</th></tr>\n",
              "</thead>\n",
              "<tbody>\n",
              "\t<tr><th scope=row>1</th><td>FALSE</td><td>0</td><td>397</td><td> 1000</td><td> 450</td></tr>\n",
              "\t<tr><th scope=row>2</th><td>FALSE</td><td>0</td><td>403</td><td>  500</td><td> 225</td></tr>\n",
              "\t<tr><th scope=row>3</th><td>FALSE</td><td>0</td><td>408</td><td> 1000</td><td> 450</td></tr>\n",
              "\t<tr><th scope=row>4</th><td>FALSE</td><td>0</td><td>408</td><td> 2000</td><td> 900</td></tr>\n",
              "\t<tr><th scope=row>5</th><td>FALSE</td><td>0</td><td>411</td><td> 5000</td><td>2250</td></tr>\n",
              "\t<tr><th scope=row>6</th><td>FALSE</td><td>0</td><td>413</td><td> 5000</td><td>2250</td></tr>\n",
              "\t<tr><th scope=row>7</th><td>FALSE</td><td>0</td><td>416</td><td> 6000</td><td>2700</td></tr>\n",
              "\t<tr><th scope=row>8</th><td>FALSE</td><td>0</td><td>421</td><td> 2000</td><td> 900</td></tr>\n",
              "\t<tr><th scope=row>9</th><td>FALSE</td><td>0</td><td>422</td><td>12000</td><td>5400</td></tr>\n",
              "\t<tr><th scope=row>10</th><td>FALSE</td><td>0</td><td>432</td><td>10000</td><td>4500</td></tr>\n",
              "</tbody>\n",
              "</table>\n"
            ],
            "text/markdown": "\nA data.frame: 10 × 5\n\n| <!--/--> | Approval &lt;lgl&gt; | Debt.to.Income.Ratio &lt;dbl&gt; | FICO.Score &lt;int&gt; | Request.Amount &lt;int&gt; | Interest &lt;dbl&gt; |\n|---|---|---|---|---|---|\n| 1 | FALSE | 0 | 397 |  1000 |  450 |\n| 2 | FALSE | 0 | 403 |   500 |  225 |\n| 3 | FALSE | 0 | 408 |  1000 |  450 |\n| 4 | FALSE | 0 | 408 |  2000 |  900 |\n| 5 | FALSE | 0 | 411 |  5000 | 2250 |\n| 6 | FALSE | 0 | 413 |  5000 | 2250 |\n| 7 | FALSE | 0 | 416 |  6000 | 2700 |\n| 8 | FALSE | 0 | 421 |  2000 |  900 |\n| 9 | FALSE | 0 | 422 | 12000 | 5400 |\n| 10 | FALSE | 0 | 432 | 10000 | 4500 |\n\n",
            "text/latex": "A data.frame: 10 × 5\n\\begin{tabular}{r|lllll}\n  & Approval & Debt.to.Income.Ratio & FICO.Score & Request.Amount & Interest\\\\\n  & <lgl> & <dbl> & <int> & <int> & <dbl>\\\\\n\\hline\n\t1 & FALSE & 0 & 397 &  1000 &  450\\\\\n\t2 & FALSE & 0 & 403 &   500 &  225\\\\\n\t3 & FALSE & 0 & 408 &  1000 &  450\\\\\n\t4 & FALSE & 0 & 408 &  2000 &  900\\\\\n\t5 & FALSE & 0 & 411 &  5000 & 2250\\\\\n\t6 & FALSE & 0 & 413 &  5000 & 2250\\\\\n\t7 & FALSE & 0 & 416 &  6000 & 2700\\\\\n\t8 & FALSE & 0 & 421 &  2000 &  900\\\\\n\t9 & FALSE & 0 & 422 & 12000 & 5400\\\\\n\t10 & FALSE & 0 & 432 & 10000 & 4500\\\\\n\\end{tabular}\n",
            "text/plain": [
              "   Approval Debt.to.Income.Ratio FICO.Score Request.Amount Interest\n",
              "1  FALSE    0                    397         1000           450    \n",
              "2  FALSE    0                    403          500           225    \n",
              "3  FALSE    0                    408         1000           450    \n",
              "4  FALSE    0                    408         2000           900    \n",
              "5  FALSE    0                    411         5000          2250    \n",
              "6  FALSE    0                    413         5000          2250    \n",
              "7  FALSE    0                    416         6000          2700    \n",
              "8  FALSE    0                    421         2000           900    \n",
              "9  FALSE    0                    422        12000          5400    \n",
              "10 FALSE    0                    432        10000          4500    "
            ]
          },
          "metadata": {}
        }
      ],
      "source": [
        "library(readr)\n",
        "trainingDF <- read.csv(\"https://raw.githubusercontent.com/CalColistra/IDS/main/Project6/problem2/Loans_Training.csv\")\n",
        "testDF <- read.csv(\"https://raw.githubusercontent.com/CalColistra/IDS/main/Project6/problem2/Loans_Test.csv\")\n",
        "\n",
        "summary(trainingDF)\n",
        "head(trainingDF, 10)"
      ]
    },
    {
      "cell_type": "code",
      "source": [
        "#imports:\n",
        "library(tidyverse)\n",
        "install.packages(\"caret\")\n",
        "library(caret)\n",
        "library(rpart)"
      ],
      "metadata": {
        "colab": {
          "base_uri": "https://localhost:8080/"
        },
        "id": "Pur2zFELhSA4",
        "outputId": "dfbe8482-23da-4087-8dfa-47d5263de103"
      },
      "execution_count": null,
      "outputs": [
        {
          "output_type": "stream",
          "name": "stderr",
          "text": [
            "Warning message in system(\"timedatectl\", intern = TRUE):\n",
            "“running command 'timedatectl' had status 1”\n",
            "── \u001b[1mAttaching packages\u001b[22m ─────────────────────────────────────── tidyverse 1.3.1 ──\n",
            "\n",
            "\u001b[32m✔\u001b[39m \u001b[34mggplot2\u001b[39m 3.3.5     \u001b[32m✔\u001b[39m \u001b[34mdplyr  \u001b[39m 1.0.8\n",
            "\u001b[32m✔\u001b[39m \u001b[34mtibble \u001b[39m 3.1.6     \u001b[32m✔\u001b[39m \u001b[34mstringr\u001b[39m 1.4.0\n",
            "\u001b[32m✔\u001b[39m \u001b[34mtidyr  \u001b[39m 1.2.0     \u001b[32m✔\u001b[39m \u001b[34mforcats\u001b[39m 0.5.1\n",
            "\u001b[32m✔\u001b[39m \u001b[34mpurrr  \u001b[39m 0.3.4     \n",
            "\n",
            "── \u001b[1mConflicts\u001b[22m ────────────────────────────────────────── tidyverse_conflicts() ──\n",
            "\u001b[31m✖\u001b[39m \u001b[34mdplyr\u001b[39m::\u001b[32mfilter()\u001b[39m masks \u001b[34mstats\u001b[39m::filter()\n",
            "\u001b[31m✖\u001b[39m \u001b[34mdplyr\u001b[39m::\u001b[32mlag()\u001b[39m    masks \u001b[34mstats\u001b[39m::lag()\n",
            "\n",
            "Installing package into ‘/usr/local/lib/R/site-library’\n",
            "(as ‘lib’ is unspecified)\n",
            "\n",
            "also installing the dependencies ‘listenv’, ‘parallelly’, ‘future’, ‘globals’, ‘future.apply’, ‘progressr’, ‘numDeriv’, ‘SQUAREM’, ‘lava’, ‘prodlim’, ‘proxy’, ‘iterators’, ‘Rcpp’, ‘gower’, ‘hardhat’, ‘ipred’, ‘timeDate’, ‘e1071’, ‘foreach’, ‘ModelMetrics’, ‘plyr’, ‘pROC’, ‘recipes’, ‘reshape2’\n",
            "\n",
            "\n",
            "Loading required package: lattice\n",
            "\n",
            "\n",
            "Attaching package: ‘caret’\n",
            "\n",
            "\n",
            "The following object is masked from ‘package:purrr’:\n",
            "\n",
            "    lift\n",
            "\n",
            "\n"
          ]
        }
      ]
    },
    {
      "cell_type": "markdown",
      "source": [
        "# **Examine Training Set:**"
      ],
      "metadata": {
        "id": "o5DEQ1RYbXJB"
      }
    },
    {
      "cell_type": "code",
      "source": [
        "#describe the company dataframe:\n",
        "dim(trainingDF)"
      ],
      "metadata": {
        "colab": {
          "base_uri": "https://localhost:8080/",
          "height": 34
        },
        "id": "mL7aSPmS7n4a",
        "outputId": "611484aa-fdb4-43d0-c449-0cf03de4ef62"
      },
      "execution_count": null,
      "outputs": [
        {
          "output_type": "display_data",
          "data": {
            "text/html": [
              "<style>\n",
              ".list-inline {list-style: none; margin:0; padding: 0}\n",
              ".list-inline>li {display: inline-block}\n",
              ".list-inline>li:not(:last-child)::after {content: \"\\00b7\"; padding: 0 .5ex}\n",
              "</style>\n",
              "<ol class=list-inline><li>150302</li><li>5</li></ol>\n"
            ],
            "text/markdown": "1. 150302\n2. 5\n\n\n",
            "text/latex": "\\begin{enumerate*}\n\\item 150302\n\\item 5\n\\end{enumerate*}\n",
            "text/plain": [
              "[1] 150302      5"
            ]
          },
          "metadata": {}
        }
      ]
    },
    {
      "cell_type": "code",
      "source": [
        "#examine correlations\n",
        "correlations <- cor(trainingDF)\n",
        "correlations"
      ],
      "metadata": {
        "colab": {
          "base_uri": "https://localhost:8080/",
          "height": 223
        },
        "id": "46v1g_VQbbdz",
        "outputId": "9cd81d04-681c-4f51-a0ca-b1e86592be54"
      },
      "execution_count": null,
      "outputs": [
        {
          "output_type": "display_data",
          "data": {
            "text/html": [
              "<table class=\"dataframe\">\n",
              "<caption>A matrix: 5 × 5 of type dbl</caption>\n",
              "<thead>\n",
              "\t<tr><th></th><th scope=col>Approval</th><th scope=col>Debt.to.Income.Ratio</th><th scope=col>FICO.Score</th><th scope=col>Request.Amount</th><th scope=col>Interest</th></tr>\n",
              "</thead>\n",
              "<tbody>\n",
              "\t<tr><th scope=row>Approval</th><td> 1.00000000</td><td>-0.26792095</td><td> 0.54430463</td><td>-0.04590285</td><td>-0.04590285</td></tr>\n",
              "\t<tr><th scope=row>Debt.to.Income.Ratio</th><td>-0.26792095</td><td> 1.00000000</td><td>-0.07058592</td><td> 0.12920700</td><td> 0.12920700</td></tr>\n",
              "\t<tr><th scope=row>FICO.Score</th><td> 0.54430463</td><td>-0.07058592</td><td> 1.00000000</td><td> 0.15391976</td><td> 0.15391976</td></tr>\n",
              "\t<tr><th scope=row>Request.Amount</th><td>-0.04590285</td><td> 0.12920700</td><td> 0.15391976</td><td> 1.00000000</td><td> 1.00000000</td></tr>\n",
              "\t<tr><th scope=row>Interest</th><td>-0.04590285</td><td> 0.12920700</td><td> 0.15391976</td><td> 1.00000000</td><td> 1.00000000</td></tr>\n",
              "</tbody>\n",
              "</table>\n"
            ],
            "text/markdown": "\nA matrix: 5 × 5 of type dbl\n\n| <!--/--> | Approval | Debt.to.Income.Ratio | FICO.Score | Request.Amount | Interest |\n|---|---|---|---|---|---|\n| Approval |  1.00000000 | -0.26792095 |  0.54430463 | -0.04590285 | -0.04590285 |\n| Debt.to.Income.Ratio | -0.26792095 |  1.00000000 | -0.07058592 |  0.12920700 |  0.12920700 |\n| FICO.Score |  0.54430463 | -0.07058592 |  1.00000000 |  0.15391976 |  0.15391976 |\n| Request.Amount | -0.04590285 |  0.12920700 |  0.15391976 |  1.00000000 |  1.00000000 |\n| Interest | -0.04590285 |  0.12920700 |  0.15391976 |  1.00000000 |  1.00000000 |\n\n",
            "text/latex": "A matrix: 5 × 5 of type dbl\n\\begin{tabular}{r|lllll}\n  & Approval & Debt.to.Income.Ratio & FICO.Score & Request.Amount & Interest\\\\\n\\hline\n\tApproval &  1.00000000 & -0.26792095 &  0.54430463 & -0.04590285 & -0.04590285\\\\\n\tDebt.to.Income.Ratio & -0.26792095 &  1.00000000 & -0.07058592 &  0.12920700 &  0.12920700\\\\\n\tFICO.Score &  0.54430463 & -0.07058592 &  1.00000000 &  0.15391976 &  0.15391976\\\\\n\tRequest.Amount & -0.04590285 &  0.12920700 &  0.15391976 &  1.00000000 &  1.00000000\\\\\n\tInterest & -0.04590285 &  0.12920700 &  0.15391976 &  1.00000000 &  1.00000000\\\\\n\\end{tabular}\n",
            "text/plain": [
              "                     Approval    Debt.to.Income.Ratio FICO.Score \n",
              "Approval              1.00000000 -0.26792095           0.54430463\n",
              "Debt.to.Income.Ratio -0.26792095  1.00000000          -0.07058592\n",
              "FICO.Score            0.54430463 -0.07058592           1.00000000\n",
              "Request.Amount       -0.04590285  0.12920700           0.15391976\n",
              "Interest             -0.04590285  0.12920700           0.15391976\n",
              "                     Request.Amount Interest   \n",
              "Approval             -0.04590285    -0.04590285\n",
              "Debt.to.Income.Ratio  0.12920700     0.12920700\n",
              "FICO.Score            0.15391976     0.15391976\n",
              "Request.Amount        1.00000000     1.00000000\n",
              "Interest              1.00000000     1.00000000"
            ]
          },
          "metadata": {}
        }
      ]
    },
    {
      "cell_type": "code",
      "source": [
        "#check for missing values\n",
        "cbind(\n",
        "   lapply(lapply(trainingDF, is.na),sum)\n",
        "     )"
      ],
      "metadata": {
        "colab": {
          "base_uri": "https://localhost:8080/",
          "height": 191
        },
        "id": "cAgDiwV_8uFe",
        "outputId": "93b446de-a9b2-4113-e072-d18e26c6d96a"
      },
      "execution_count": null,
      "outputs": [
        {
          "output_type": "display_data",
          "data": {
            "text/html": [
              "<table class=\"dataframe\">\n",
              "<caption>A matrix: 5 × 1</caption>\n",
              "<tbody>\n",
              "\t<tr><th scope=row>Approval</th><td>0</td></tr>\n",
              "\t<tr><th scope=row>Debt.to.Income.Ratio</th><td>0</td></tr>\n",
              "\t<tr><th scope=row>FICO.Score</th><td>0</td></tr>\n",
              "\t<tr><th scope=row>Request.Amount</th><td>0</td></tr>\n",
              "\t<tr><th scope=row>Interest</th><td>0</td></tr>\n",
              "</tbody>\n",
              "</table>\n"
            ],
            "text/markdown": "\nA matrix: 5 × 1\n\n| Approval | 0 |\n| Debt.to.Income.Ratio | 0 |\n| FICO.Score | 0 |\n| Request.Amount | 0 |\n| Interest | 0 |\n\n",
            "text/latex": "A matrix: 5 × 1\n\\begin{tabular}{r|l}\n\tApproval & 0\\\\\n\tDebt.to.Income.Ratio & 0\\\\\n\tFICO.Score & 0\\\\\n\tRequest.Amount & 0\\\\\n\tInterest & 0\\\\\n\\end{tabular}\n",
            "text/plain": [
              "                     [,1]\n",
              "Approval             0   \n",
              "Debt.to.Income.Ratio 0   \n",
              "FICO.Score           0   \n",
              "Request.Amount       0   \n",
              "Interest             0   "
            ]
          },
          "metadata": {}
        }
      ]
    },
    {
      "cell_type": "markdown",
      "source": [
        "# **Create a CART model using the training data set that predicts Approval using Debt-to-Income Ratio, FICO Score, etc. Visualize the decision tree and Describe the first few splits in the decision tree**"
      ],
      "metadata": {
        "id": "L2foSuijilXa"
      }
    },
    {
      "cell_type": "code",
      "source": [
        "# grow tree\n",
        "cart <- rpart(Approval ~ Debt.to.Income.Ratio + FICO.Score + Request.Amount + Interest,\n",
        "   method=\"class\", data=trainingDF)\n",
        "\n",
        "par(xpd = NA) # otherwise on some devices the text is clipped\n",
        "plot(cart)\n",
        "text(cart, digits = 3)\n"
      ],
      "metadata": {
        "colab": {
          "base_uri": "https://localhost:8080/",
          "height": 437
        },
        "id": "CbyWH05Oik2J",
        "outputId": "e771017d-01e7-4f1c-85d7-fb4b3a992e06"
      },
      "execution_count": null,
      "outputs": [
        {
          "output_type": "display_data",
          "data": {
            "text/plain": [
              "plot without title"
            ],
            "image/png": "[encoded data removed]"
          },
          "metadata": {
            "image/png": {
              "width": 420,
              "height": 420
            }
          }
        }
      ]
    },
    {
      "cell_type": "code",
      "source": [
        "print(cart)"
      ],
      "metadata": {
        "colab": {
          "base_uri": "https://localhost:8080/"
        },
        "id": "ezQ5WZ7duyVc",
        "outputId": "a0a37ec0-982a-4665-97ff-d167b5f32b8b"
      },
      "execution_count": null,
      "outputs": [
        {
          "output_type": "stream",
          "name": "stdout",
          "text": [
            "n= 150302 \n",
            "\n",
            "node), split, n, loss, yval, (yprob)\n",
            "      * denotes terminal node\n",
            "\n",
            "1) root 150302 75066 TRUE (0.49943447 0.50056553)  \n",
            "  2) FICO.Score< 659.5 46002  1808 FALSE (0.96069736 0.03930264) *\n",
            "  3) FICO.Score>=659.5 104300 30872 TRUE (0.29599233 0.70400767)  \n",
            "    6) Debt.to.Income.Ratio>=0.305 12873  1679 FALSE (0.86957197 0.13042803) *\n",
            "    7) Debt.to.Income.Ratio< 0.305 91427 19678 TRUE (0.21523182 0.78476818) *\n"
          ]
        }
      ]
    },
    {
      "cell_type": "code",
      "source": [
        "summary(cart)"
      ],
      "metadata": {
        "colab": {
          "base_uri": "https://localhost:8080/"
        },
        "id": "kEHJL9jiBFhO",
        "outputId": "40159b51-f856-4790-9e55-eaf1a8a18481"
      },
      "execution_count": null,
      "outputs": [
        {
          "output_type": "stream",
          "name": "stdout",
          "text": [
            "Call:\n",
            "rpart(formula = Approval ~ Debt.to.Income.Ratio + FICO.Score + \n",
            "    Request.Amount + Interest, data = trainingDF, method = \"class\")\n",
            "  n= 150302 \n",
            "\n",
            "         CP nsplit rel error    xerror        xstd\n",
            "1 0.5646498      0 1.0000000 1.0000000 0.002582313\n",
            "2 0.1267551      1 0.4353502 0.4353635 0.002130416\n",
            "3 0.0100000      2 0.3085951 0.3099406 0.001868094\n",
            "\n",
            "Variable importance\n",
            "          FICO.Score Debt.to.Income.Ratio \n",
            "                  74                   25 \n",
            "\n",
            "Node number 1: 150302 observations,    complexity param=0.5646498\n",
            "  predicted class=TRUE   expected loss=0.4994345  P(node) =1\n",
            "    class counts: 75066 75236\n",
            "   probabilities: 0.499 0.501 \n",
            "  left son=2 (46002 obs) right son=3 (104300 obs)\n",
            "  Primary splits:\n",
            "      FICO.Score           < 659.5 to the left,  improve=28208.770, (0 missing)\n",
            "      Debt.to.Income.Ratio < 0.305 to the right, improve= 8986.886, (0 missing)\n",
            "      Request.Amount       < 25500 to the right, improve= 1191.854, (0 missing)\n",
            "      Interest             < 11475 to the right, improve= 1191.854, (0 missing)\n",
            "  Surrogate splits:\n",
            "      Request.Amount       < 1500  to the left,  agree=0.696, adj=0.006, (0 split)\n",
            "      Interest             < 675   to the left,  agree=0.696, adj=0.006, (0 split)\n",
            "      Debt.to.Income.Ratio < 1.005 to the right, agree=0.694, adj=0.000, (0 split)\n",
            "\n",
            "Node number 2: 46002 observations\n",
            "  predicted class=FALSE  expected loss=0.03930264  P(node) =0.3060638\n",
            "    class counts: 44194  1808\n",
            "   probabilities: 0.961 0.039 \n",
            "\n",
            "Node number 3: 104300 observations,    complexity param=0.1267551\n",
            "  predicted class=TRUE   expected loss=0.2959923  P(node) =0.6939362\n",
            "    class counts: 30872 73428\n",
            "   probabilities: 0.296 0.704 \n",
            "  left son=6 (12873 obs) right son=7 (91427 obs)\n",
            "  Primary splits:\n",
            "      Debt.to.Income.Ratio < 0.305 to the right, improve=9662.8910, (0 missing)\n",
            "      Request.Amount       < 24500 to the right, improve=1893.6700, (0 missing)\n",
            "      Interest             < 11025 to the right, improve=1893.6700, (0 missing)\n",
            "      FICO.Score           < 671.5 to the left,  improve= 829.7591, (0 missing)\n",
            "\n",
            "Node number 6: 12873 observations\n",
            "  predicted class=FALSE  expected loss=0.130428  P(node) =0.08564756\n",
            "    class counts: 11194  1679\n",
            "   probabilities: 0.870 0.130 \n",
            "\n",
            "Node number 7: 91427 observations\n",
            "  predicted class=TRUE   expected loss=0.2152318  P(node) =0.6082886\n",
            "    class counts: 19678 71749\n",
            "   probabilities: 0.215 0.785 \n",
            "\n"
          ]
        }
      ]
    },
    {
      "cell_type": "markdown",
      "source": [
        "The cart model made 150302 obversations.\n",
        "\n",
        "The model has predicted that those with FICO.Score less than 659.5 will not get approved.  Those who has FICO.Score greater than 659.5 AND Debt.to.Income.Ratio greater than or equal to 0.305 will get approved."
      ],
      "metadata": {
        "id": "vHtVPShzzpWc"
      }
    },
    {
      "cell_type": "markdown",
      "source": [
        "# **Build a C5.0 model using the same predictors and target as in part 1.  This time, specify a minimum of 1000 cases per terminal node. Visualize the decision tree. Describe the first few splits in the decision tree.**"
      ],
      "metadata": {
        "id": "ZRzKe2iCiueG"
      }
    },
    {
      "cell_type": "code",
      "source": [
        "install.packages(\"C50\")\n",
        "library(C50)"
      ],
      "metadata": {
        "colab": {
          "base_uri": "https://localhost:8080/"
        },
        "id": "1ljRO7oIlZ5e",
        "outputId": "e03ccc23-8b4c-4619-9bc7-a240ba3d0a21"
      },
      "execution_count": null,
      "outputs": [
        {
          "output_type": "stream",
          "name": "stderr",
          "text": [
            "Installing package into ‘/usr/local/lib/R/site-library’\n",
            "(as ‘lib’ is unspecified)\n",
            "\n",
            "also installing the dependencies ‘libcoin’, ‘mvtnorm’, ‘Formula’, ‘inum’, ‘partykit’, ‘Cubist’\n",
            "\n",
            "\n"
          ]
        }
      ]
    },
    {
      "cell_type": "code",
      "source": [
        "#factorize the target data:\n",
        "trainingDF$Approval2 <- factor(trainingDF$Approval)\n",
        "#build the tree:\n",
        "c50 <- C5.0(trainingDF[,2:5], trainingDF$Approval2, control = C5.0Control(noGlobalPruning = FALSE))\n",
        "plot(c50)  #plot tree"
      ],
      "metadata": {
        "colab": {
          "base_uri": "https://localhost:8080/",
          "height": 437
        },
        "id": "0oTKrtz89toW",
        "outputId": "880f6c7c-7fa1-44b5-a1dc-a23a0ddc1e24"
      },
      "execution_count": null,
      "outputs": [
        {
          "output_type": "display_data",
          "data": {
            "text/plain": [
              "plot without title"
            ],
            "image/png": "[encoded data removed]"
          },
          "metadata": {
            "image/png": {
              "width": 420,
              "height": 420
            }
          }
        }
      ]
    },
    {
      "cell_type": "code",
      "source": [
        "print(c50)"
      ],
      "metadata": {
        "colab": {
          "base_uri": "https://localhost:8080/"
        },
        "id": "1wiSsp3wuWT0",
        "outputId": "787428b8-b7c5-496e-b098-b0e7e3134288"
      },
      "execution_count": null,
      "outputs": [
        {
          "output_type": "stream",
          "name": "stdout",
          "text": [
            "\n",
            "Call:\n",
            "C5.0.default(x = trainingDF[, 2:5], y = trainingDF$Approval2, control\n",
            " = C5.0Control(noGlobalPruning = FALSE))\n",
            "\n",
            "Classification Tree\n",
            "Number of samples: 150302 \n",
            "Number of predictors: 4 \n",
            "\n",
            "Tree size: 32 \n",
            "\n",
            "Non-standard options: attempt to group attributes\n",
            "\n"
          ]
        }
      ]
    },
    {
      "cell_type": "code",
      "source": [
        "summary(c50)"
      ],
      "metadata": {
        "colab": {
          "base_uri": "https://localhost:8080/",
          "height": 1000
        },
        "id": "xtcVMmtL_5uu",
        "outputId": "4a42e371-1afa-4f69-e475-1b72d968f89d"
      },
      "execution_count": null,
      "outputs": [
        {
          "output_type": "display_data",
          "data": {
            "text/plain": [
              "\n",
              "Call:\n",
              "C5.0.default(x = trainingDF[, 2:5], y = trainingDF$Approval2, control\n",
              " = C5.0Control(noGlobalPruning = FALSE))\n",
              "\n",
              "\n",
              "C5.0 [Release 2.07 GPL Edition]  \tMon Apr 18 17:27:32 2022\n",
              "-------------------------------\n",
              "\n",
              "Class specified by attribute `outcome'\n",
              "\n",
              "Read 150302 cases (5 attributes) from undefined.data\n",
              "\n",
              "Decision tree:\n",
              "\n",
              "FICO.Score <= 656: FALSE (43749/1090)\n",
              "FICO.Score > 656:\n",
              ":...Debt.to.Income.Ratio > 0.31: FALSE (12077/1147)\n",
              "    Debt.to.Income.Ratio <= 0.31:\n",
              "    :...Debt.to.Income.Ratio > 0.25:\n",
              "        :...Request.Amount > 25000: FALSE (1629/488)\n",
              "        :   Request.Amount <= 25000:\n",
              "        :   :...FICO.Score > 672:\n",
              "        :       :...Request.Amount <= 19000: TRUE (5523/1925)\n",
              "        :       :   Request.Amount > 19000:\n",
              "        :       :   :...Debt.to.Income.Ratio <= 0.3: TRUE (1084/466)\n",
              "        :       :       Debt.to.Income.Ratio > 0.3: FALSE (172/65)\n",
              "        :       FICO.Score <= 672:\n",
              "        :       :...Request.Amount > 22000: FALSE (93/22)\n",
              "        :           Request.Amount <= 22000:\n",
              "        :           :...FICO.Score <= 661: FALSE (307/109)\n",
              "        :               FICO.Score > 661:\n",
              "        :               :...Debt.to.Income.Ratio <= 0.28: TRUE (540/246)\n",
              "        :                   Debt.to.Income.Ratio > 0.28: FALSE (434/201)\n",
              "        Debt.to.Income.Ratio <= 0.25:\n",
              "        :...FICO.Score <= 669:\n",
              "            :...Request.Amount > 23000:\n",
              "            :   :...Debt.to.Income.Ratio <= 0.03: FALSE (84/11)\n",
              "            :   :   Debt.to.Income.Ratio > 0.03:\n",
              "            :   :   :...FICO.Score <= 663: FALSE (549/158)\n",
              "            :   :       FICO.Score > 663:\n",
              "            :   :       :...Request.Amount <= 35000: TRUE (501/228)\n",
              "            :   :           Request.Amount > 35000: FALSE (86/27)\n",
              "            :   Request.Amount <= 23000:\n",
              "            :   :...FICO.Score > 661:\n",
              "            :       :...Debt.to.Income.Ratio > 0.05: TRUE (4430/1305)\n",
              "            :       :   Debt.to.Income.Ratio <= 0.05:\n",
              "            :       :   :...Debt.to.Income.Ratio <= 0.02: FALSE (314/130)\n",
              "            :       :       Debt.to.Income.Ratio > 0.02:\n",
              "            :       :       :...FICO.Score <= 664: FALSE (162/72)\n",
              "            :       :           FICO.Score > 664: TRUE (306/131)\n",
              "            :       FICO.Score <= 661:\n",
              "            :       :...FICO.Score <= 658: FALSE (921/384)\n",
              "            :           FICO.Score > 658:\n",
              "            :           :...Debt.to.Income.Ratio <= 0.04: FALSE (190/61)\n",
              "            :               Debt.to.Income.Ratio > 0.04:\n",
              "            :               :...Debt.to.Income.Ratio > 0.24: FALSE (40/13)\n",
              "            :                   Debt.to.Income.Ratio <= 0.24:\n",
              "            :                   :...Debt.to.Income.Ratio <= 0.08: FALSE (206/93)\n",
              "            :                       Debt.to.Income.Ratio > 0.08: TRUE (1059/467)\n",
              "            FICO.Score > 669:\n",
              "            :...Request.Amount <= 25000: TRUE (67186/10395)\n",
              "                Request.Amount > 25000:\n",
              "                :...Request.Amount <= 34000:\n",
              "                    :...Debt.to.Income.Ratio > 0.03: TRUE (5965/1724)\n",
              "                    :   Debt.to.Income.Ratio <= 0.03:\n",
              "                    :   :...FICO.Score <= 706: FALSE (174/58)\n",
              "                    :       FICO.Score > 706: TRUE (375/122)\n",
              "                    Request.Amount > 34000:\n",
              "                    :...FICO.Score > 742: TRUE (470/138)\n",
              "                        FICO.Score <= 742:\n",
              "                        :...Debt.to.Income.Ratio <= 0.07: FALSE (320/99)\n",
              "                            Debt.to.Income.Ratio > 0.07:\n",
              "                            :...Debt.to.Income.Ratio > 0.22: FALSE (207/79)\n",
              "                                Debt.to.Income.Ratio <= 0.22:\n",
              "                                :...Request.Amount <= 38000: TRUE (1054/457)\n",
              "                                    Request.Amount > 38000: FALSE (95/40)\n",
              "\n",
              "\n",
              "Evaluation on training data (150302 cases):\n",
              "\n",
              "\t    Decision Tree   \n",
              "\t  ----------------  \n",
              "\t  Size      Errors  \n",
              "\n",
              "\t    32 21951(14.6%)   <<\n",
              "\n",
              "\n",
              "\t   (a)   (b)    <-classified as\n",
              "\t  ----  ----\n",
              "\t 57462 17604    (a): class FALSE\n",
              "\t  4347 70889    (b): class TRUE\n",
              "\n",
              "\n",
              "\tAttribute usage:\n",
              "\n",
              "\t100.00%\tFICO.Score\n",
              "\t 70.89%\tDebt.to.Income.Ratio\n",
              "\t 62.86%\tRequest.Amount\n",
              "\n",
              "\n",
              "Time: 0.4 secs\n"
            ]
          },
          "metadata": {}
        }
      ]
    },
    {
      "cell_type": "markdown",
      "source": [
        "The c5.0 model made 150302 observations. \n",
        "\n",
        "The first node decides that those who have FICO.Score <= 656 will not get approved.  Those who have (FICO.Score > 656) AND (Debt.to.Income.Ratio <= 0.31) will get approved.  But, those who have (FICO.Score > 656) AND (Debt.to.Income.Ratio > 0.31) will not get approved. "
      ],
      "metadata": {
        "id": "MmJLSeZtB3Sx"
      }
    },
    {
      "cell_type": "markdown",
      "source": [
        "# **How does your C5.0 model compare to your CART model for the loans_training data? Describe the similarities and differences.**"
      ],
      "metadata": {
        "id": "aa1Zl4iHivru"
      }
    },
    {
      "cell_type": "markdown",
      "source": [
        "The root node for both trees are similar because they used FICO.Score to determine the first decision.  Both used a similar value too ((CART used FICO.Score < 659.5) and (C5.0 used  FICO.Score < 656).  \n",
        "\n",
        "The second node is also very similar between the two trees.  They both decide based on Debt.to.Income.Ratio at around .3.\n",
        "\n",
        "Both decision trees made the same amount of observations: 150302."
      ],
      "metadata": {
        "id": "5WbFLQB04FZ6"
      }
    },
    {
      "cell_type": "markdown",
      "source": [
        "# References:\n",
        "- http://www.sthda.com/english/articles/35-statistical-machine-learning-essentials/141-cart-model-decision-tree-essentials/\n",
        "- https://rpubs.com/genedalusong/507534\n"
      ],
      "metadata": {
        "id": "9Ui8Wx49lhVE"
      }
    }
  ]
}