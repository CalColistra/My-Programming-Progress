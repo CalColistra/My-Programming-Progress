{
  "nbformat": 4,
  "nbformat_minor": 0,
  "metadata": {
    "colab": {
      "name": "problem2_r.ipynp",
      "provenance": [],
      "collapsed_sections": []
    },
    "kernelspec": {
      "name": "ir",
      "display_name": "R"
    },
    "language_info": {
      "name": "R"
    }
  },
  "cells": [
    {
      "cell_type": "markdown",
      "source": [
        "# **Use the following nutrition dataset:**"
      ],
      "metadata": {
        "id": "CiLsJWQIu_Dn"
      }
    },
    {
      "cell_type": "code",
      "execution_count": null,
      "metadata": {
        "colab": {
          "base_uri": "https://localhost:8080/",
          "height": 1000
        },
        "id": "nhR81Y11uN1U",
        "outputId": "aedc4bff-4c4c-4712-953a-aac0609497ab"
      },
      "outputs": [
        {
          "output_type": "display_data",
          "data": {
            "text/html": [
              "<table class=\"dataframe\">\n",
              "<caption>A spec_tbl_df: 961 × 4</caption>\n",
              "<thead>\n",
              "\t<tr><th scope=col>foodItem</th><th scope=col>weightInGrams</th><th scope=col>saturatedFat</th><th scope=col>cholesterol</th></tr>\n",
              "\t<tr><th scope=col>&lt;chr&gt;</th><th scope=col>&lt;dbl&gt;</th><th scope=col>&lt;dbl&gt;</th><th scope=col>&lt;dbl&gt;</th></tr>\n",
              "</thead>\n",
              "<tbody>\n",
              "\t<tr><td>GELATIN; DRY                  1 ENVELP</td><td>  7.00</td><td> 0.0</td><td>  0</td></tr>\n",
              "\t<tr><td>SEAWEED; SPIRULINA; DRIED     1 OZ    </td><td> 28.35</td><td> 0.8</td><td>  0</td></tr>\n",
              "\t<tr><td>YEAST; BAKERS; DRY; ACTIVE    1 PKG   </td><td>  7.00</td><td> 0.0</td><td>  0</td></tr>\n",
              "\t<tr><td>PARMESAN CHEESE; GRATED       1 OZ    </td><td> 28.35</td><td> 5.4</td><td> 22</td></tr>\n",
              "\t<tr><td>PARMESAN CHEESE; GRATED       1 CUP   </td><td>100.00</td><td>19.1</td><td> 79</td></tr>\n",
              "\t<tr><td>PARMESAN CHEESE; GRATED       1 TBSP  </td><td>  5.00</td><td> 1.0</td><td>  4</td></tr>\n",
              "\t<tr><td>YEAST; BREWERS; DRY           1 TBSP  </td><td>  8.00</td><td> 0.0</td><td>  0</td></tr>\n",
              "\t<tr><td>LAMB;CHOPS;ARM;BRAISED;LEAN   1.7 OZ  </td><td> 48.00</td><td> 2.9</td><td> 59</td></tr>\n",
              "\t<tr><td>TUNA; CANND; DRND;WATR; WHITE 3 OZ    </td><td> 85.00</td><td> 0.3</td><td> 48</td></tr>\n",
              "\t<tr><td>NONFAT DRY MILK; INSTANTIZED  1 CUP   </td><td> 68.00</td><td> 0.3</td><td> 12</td></tr>\n",
              "\t<tr><td>NONFAT DRY MILK; INSTANTIZED  1 ENVLPE</td><td> 91.00</td><td> 0.4</td><td> 17</td></tr>\n",
              "\t<tr><td>BUTTERMILK; DRIED             1 CUP   </td><td>120.00</td><td> 4.3</td><td> 83</td></tr>\n",
              "\t<tr><td>BEEF; DRIED; CHIPPED          2.5 OZ  </td><td> 72.00</td><td> 1.8</td><td> 46</td></tr>\n",
              "\t<tr><td>PORK SHOULDER; BRAISD; LEAN   2.4 OZ  </td><td> 67.00</td><td> 2.8</td><td> 76</td></tr>\n",
              "\t<tr><td>BEEF; CKD;BTTM ROUND;LEAN ONLY2.8 OZ  </td><td> 78.00</td><td> 2.7</td><td> 75</td></tr>\n",
              "\t<tr><td>PORK CHOP; LOIN; BROIL; LEAN  2.5 OZ  </td><td> 72.00</td><td> 2.6</td><td> 71</td></tr>\n",
              "\t<tr><td>LAMB;CHOPS;ARM;BRAISED;LEAN+FT2.2 OZ  </td><td> 63.00</td><td> 6.9</td><td> 77</td></tr>\n",
              "\t<tr><td>CHICKEN; FRIED; FLOUR; BREAST 3.5 OZ  </td><td> 98.00</td><td> 2.4</td><td> 87</td></tr>\n",
              "\t<tr><td>PORK; CURED; BACON; REGUL;CKED3 SLICE </td><td> 19.00</td><td> 3.3</td><td> 16</td></tr>\n",
              "\t<tr><td>CHICKEN; ROASTED; BREAST      3.0 OZ  </td><td> 86.00</td><td> 0.9</td><td> 73</td></tr>\n",
              "\t<tr><td>PEANUT BUTTER                 1 TBSP  </td><td> 16.00</td><td> 1.4</td><td>  0</td></tr>\n",
              "\t<tr><td>BEEF; CKD;CHUCK BLADE;LEANONLY2.2 OZ  </td><td> 62.00</td><td> 3.9</td><td> 66</td></tr>\n",
              "\t<tr><td>BEEF STEAK;SIRLOIN;BROIL;LEAN 2.5 OZ  </td><td> 72.00</td><td> 2.6</td><td> 64</td></tr>\n",
              "\t<tr><td>LAMB;CHOPS;LOIN;BROIL;LEAN    2.3 OZ  </td><td> 64.00</td><td> 2.6</td><td> 60</td></tr>\n",
              "\t<tr><td>BEEF; CKD;BTTM ROUND;LEAN+ FAT3 OZ    </td><td> 85.00</td><td> 4.8</td><td> 81</td></tr>\n",
              "\t<tr><td>TURKEY; ROASTED; LIGHT + DARK 3 PIECES</td><td> 85.00</td><td> 1.4</td><td> 65</td></tr>\n",
              "\t<tr><td>TURKEY; ROASTED; LIGHT MEAT   2 PIECES</td><td> 85.00</td><td> 0.9</td><td> 59</td></tr>\n",
              "\t<tr><td>BEEF ROAST; EYE O RND; LEAN   2.6 OZ  </td><td> 75.00</td><td> 1.9</td><td> 52</td></tr>\n",
              "\t<tr><td>TURKEY; ROASTED; LIGHT + DARK 1 CUP   </td><td>140.00</td><td> 2.3</td><td>106</td></tr>\n",
              "\t<tr><td>PORK CHOP; LOIN;PANFRY; LEAN  2.4 OZ  </td><td> 67.00</td><td> 3.7</td><td> 72</td></tr>\n",
              "\t<tr><td>⋮</td><td>⋮</td><td>⋮</td><td>⋮</td></tr>\n",
              "\t<tr><td>TABLE SYRUP (CORN AND MAPLE)  2 TBSP  </td><td> 42.0</td><td>0.0</td><td> 0</td></tr>\n",
              "\t<tr><td>JELLIES                       1 PKT   </td><td> 14.0</td><td>0.0</td><td> 0</td></tr>\n",
              "\t<tr><td>GIN;RUM;VODKA;WHISKY 90-PROOF 1.5 F OZ</td><td> 42.0</td><td>0.0</td><td> 0</td></tr>\n",
              "\t<tr><td>GIN;RUM;VODKA;WHISKY 86-PROOF 1.5 F OZ</td><td> 42.0</td><td>0.0</td><td> 0</td></tr>\n",
              "\t<tr><td>IMITATN WHIPD TOPING;PWDRD;PRP1 TBSP  </td><td>  4.0</td><td>0.4</td><td> 0</td></tr>\n",
              "\t<tr><td>IMITATN WHIPD TOPING;PRESSRZD 1 TBSP  </td><td>  4.0</td><td>0.8</td><td> 0</td></tr>\n",
              "\t<tr><td>MAYONNAISE; IMITATION         1 TBSP  </td><td> 15.0</td><td>0.5</td><td> 4</td></tr>\n",
              "\t<tr><td>GIN;RUM;VODKA;WHISKY 80-PROOF 1.5 F OZ</td><td> 42.0</td><td>0.0</td><td> 0</td></tr>\n",
              "\t<tr><td>SOUR CREAM                    1 TBSP  </td><td> 12.0</td><td>1.6</td><td> 5</td></tr>\n",
              "\t<tr><td>LIGHT; COFFEE OR TABLE CREAM  1 TBSP  </td><td> 15.0</td><td>1.8</td><td>10</td></tr>\n",
              "\t<tr><td>BAKING POWDER;SAS;CAPO4+CASO4 1 TSP   </td><td>  2.9</td><td>0.0</td><td> 0</td></tr>\n",
              "\t<tr><td>IMITATN SOUR DRESSING         1 TBSP  </td><td> 12.0</td><td>1.6</td><td> 1</td></tr>\n",
              "\t<tr><td>BAKING POWDER;SAS; CA PO4     1 TSP   </td><td>  3.0</td><td>0.0</td><td> 0</td></tr>\n",
              "\t<tr><td>FRENCH SALAD DRESSING; LOCALOR1 TBSP  </td><td> 16.0</td><td>0.2</td><td> 0</td></tr>\n",
              "\t<tr><td>HALF AND HALF; CREAM          1 TBSP  </td><td> 15.0</td><td>1.1</td><td> 6</td></tr>\n",
              "\t<tr><td>IMITATION CREAMERS; LIQUID FRZ1 TBSP  </td><td> 15.0</td><td>1.4</td><td> 0</td></tr>\n",
              "\t<tr><td>BAKING POWDER; STRGHT PHOSPHAT1 TSP   </td><td>  3.8</td><td>0.0</td><td> 0</td></tr>\n",
              "\t<tr><td>BAKING POWDER; LOW SODIUM     1 TSP   </td><td>  4.3</td><td>0.0</td><td> 0</td></tr>\n",
              "\t<tr><td>POPSICLE                      1 POPCLE</td><td> 95.0</td><td>0.0</td><td> 0</td></tr>\n",
              "\t<tr><td>PLUMS; RAW; 1-1/2-IN DIAM     1 PLUM  </td><td> 28.0</td><td>0.0</td><td> 0</td></tr>\n",
              "\t<tr><td>LIMEADE;CONCEN;FROZEN;DILUTED 6 FL OZ </td><td>185.0</td><td>0.0</td><td> 0</td></tr>\n",
              "\t<tr><td>ITALIAN SALAD DRESSING;LOCALOR1 TBSP  </td><td> 15.0</td><td>0.0</td><td> 0</td></tr>\n",
              "\t<tr><td>LEMON JUICE; CANNED           1 TBSP  </td><td> 15.0</td><td>0.0</td><td> 0</td></tr>\n",
              "\t<tr><td>TEA;INSTANT;PREPARD;SWEETENED 8 FL OZ </td><td>262.0</td><td>0.0</td><td> 0</td></tr>\n",
              "\t<tr><td>CLUB SODA                     12 FL OZ</td><td>355.0</td><td>0.0</td><td> 0</td></tr>\n",
              "\t<tr><td>COFFEE; BREWED                6 FL OZ </td><td>180.0</td><td>0.0</td><td> 0</td></tr>\n",
              "\t<tr><td>TEA; BREWED                   8 FL OZ </td><td>240.0</td><td>0.0</td><td> 0</td></tr>\n",
              "\t<tr><td>TEA; INSTANT;PREPRD;UNSWEETEND8 FL OZ </td><td>241.0</td><td>0.0</td><td> 0</td></tr>\n",
              "\t<tr><td>LETTUCE; BUTTERHEAD; RAW;LEAVE1 LEAF  </td><td> 15.0</td><td>0.0</td><td> 0</td></tr>\n",
              "\t<tr><td>SALT                          1 TSP   </td><td>  5.5</td><td>0.0</td><td> 0</td></tr>\n",
              "</tbody>\n",
              "</table>\n"
            ],
            "text/markdown": "\nA spec_tbl_df: 961 × 4\n\n| foodItem &lt;chr&gt; | weightInGrams &lt;dbl&gt; | saturatedFat &lt;dbl&gt; | cholesterol &lt;dbl&gt; |\n|---|---|---|---|\n| GELATIN; DRY                  1 ENVELP |   7.00 |  0.0 |   0 |\n| SEAWEED; SPIRULINA; DRIED     1 OZ     |  28.35 |  0.8 |   0 |\n| YEAST; BAKERS; DRY; ACTIVE    1 PKG    |   7.00 |  0.0 |   0 |\n| PARMESAN CHEESE; GRATED       1 OZ     |  28.35 |  5.4 |  22 |\n| PARMESAN CHEESE; GRATED       1 CUP    | 100.00 | 19.1 |  79 |\n| PARMESAN CHEESE; GRATED       1 TBSP   |   5.00 |  1.0 |   4 |\n| YEAST; BREWERS; DRY           1 TBSP   |   8.00 |  0.0 |   0 |\n| LAMB;CHOPS;ARM;BRAISED;LEAN   1.7 OZ   |  48.00 |  2.9 |  59 |\n| TUNA; CANND; DRND;WATR; WHITE 3 OZ     |  85.00 |  0.3 |  48 |\n| NONFAT DRY MILK; INSTANTIZED  1 CUP    |  68.00 |  0.3 |  12 |\n| NONFAT DRY MILK; INSTANTIZED  1 ENVLPE |  91.00 |  0.4 |  17 |\n| BUTTERMILK; DRIED             1 CUP    | 120.00 |  4.3 |  83 |\n| BEEF; DRIED; CHIPPED          2.5 OZ   |  72.00 |  1.8 |  46 |\n| PORK SHOULDER; BRAISD; LEAN   2.4 OZ   |  67.00 |  2.8 |  76 |\n| BEEF; CKD;BTTM ROUND;LEAN ONLY2.8 OZ   |  78.00 |  2.7 |  75 |\n| PORK CHOP; LOIN; BROIL; LEAN  2.5 OZ   |  72.00 |  2.6 |  71 |\n| LAMB;CHOPS;ARM;BRAISED;LEAN+FT2.2 OZ   |  63.00 |  6.9 |  77 |\n| CHICKEN; FRIED; FLOUR; BREAST 3.5 OZ   |  98.00 |  2.4 |  87 |\n| PORK; CURED; BACON; REGUL;CKED3 SLICE  |  19.00 |  3.3 |  16 |\n| CHICKEN; ROASTED; BREAST      3.0 OZ   |  86.00 |  0.9 |  73 |\n| PEANUT BUTTER                 1 TBSP   |  16.00 |  1.4 |   0 |\n| BEEF; CKD;CHUCK BLADE;LEANONLY2.2 OZ   |  62.00 |  3.9 |  66 |\n| BEEF STEAK;SIRLOIN;BROIL;LEAN 2.5 OZ   |  72.00 |  2.6 |  64 |\n| LAMB;CHOPS;LOIN;BROIL;LEAN    2.3 OZ   |  64.00 |  2.6 |  60 |\n| BEEF; CKD;BTTM ROUND;LEAN+ FAT3 OZ     |  85.00 |  4.8 |  81 |\n| TURKEY; ROASTED; LIGHT + DARK 3 PIECES |  85.00 |  1.4 |  65 |\n| TURKEY; ROASTED; LIGHT MEAT   2 PIECES |  85.00 |  0.9 |  59 |\n| BEEF ROAST; EYE O RND; LEAN   2.6 OZ   |  75.00 |  1.9 |  52 |\n| TURKEY; ROASTED; LIGHT + DARK 1 CUP    | 140.00 |  2.3 | 106 |\n| PORK CHOP; LOIN;PANFRY; LEAN  2.4 OZ   |  67.00 |  3.7 |  72 |\n| ⋮ | ⋮ | ⋮ | ⋮ |\n| TABLE SYRUP (CORN AND MAPLE)  2 TBSP   |  42.0 | 0.0 |  0 |\n| JELLIES                       1 PKT    |  14.0 | 0.0 |  0 |\n| GIN;RUM;VODKA;WHISKY 90-PROOF 1.5 F OZ |  42.0 | 0.0 |  0 |\n| GIN;RUM;VODKA;WHISKY 86-PROOF 1.5 F OZ |  42.0 | 0.0 |  0 |\n| IMITATN WHIPD TOPING;PWDRD;PRP1 TBSP   |   4.0 | 0.4 |  0 |\n| IMITATN WHIPD TOPING;PRESSRZD 1 TBSP   |   4.0 | 0.8 |  0 |\n| MAYONNAISE; IMITATION         1 TBSP   |  15.0 | 0.5 |  4 |\n| GIN;RUM;VODKA;WHISKY 80-PROOF 1.5 F OZ |  42.0 | 0.0 |  0 |\n| SOUR CREAM                    1 TBSP   |  12.0 | 1.6 |  5 |\n| LIGHT; COFFEE OR TABLE CREAM  1 TBSP   |  15.0 | 1.8 | 10 |\n| BAKING POWDER;SAS;CAPO4+CASO4 1 TSP    |   2.9 | 0.0 |  0 |\n| IMITATN SOUR DRESSING         1 TBSP   |  12.0 | 1.6 |  1 |\n| BAKING POWDER;SAS; CA PO4     1 TSP    |   3.0 | 0.0 |  0 |\n| FRENCH SALAD DRESSING; LOCALOR1 TBSP   |  16.0 | 0.2 |  0 |\n| HALF AND HALF; CREAM          1 TBSP   |  15.0 | 1.1 |  6 |\n| IMITATION CREAMERS; LIQUID FRZ1 TBSP   |  15.0 | 1.4 |  0 |\n| BAKING POWDER; STRGHT PHOSPHAT1 TSP    |   3.8 | 0.0 |  0 |\n| BAKING POWDER; LOW SODIUM     1 TSP    |   4.3 | 0.0 |  0 |\n| POPSICLE                      1 POPCLE |  95.0 | 0.0 |  0 |\n| PLUMS; RAW; 1-1/2-IN DIAM     1 PLUM   |  28.0 | 0.0 |  0 |\n| LIMEADE;CONCEN;FROZEN;DILUTED 6 FL OZ  | 185.0 | 0.0 |  0 |\n| ITALIAN SALAD DRESSING;LOCALOR1 TBSP   |  15.0 | 0.0 |  0 |\n| LEMON JUICE; CANNED           1 TBSP   |  15.0 | 0.0 |  0 |\n| TEA;INSTANT;PREPARD;SWEETENED 8 FL OZ  | 262.0 | 0.0 |  0 |\n| CLUB SODA                     12 FL OZ | 355.0 | 0.0 |  0 |\n| COFFEE; BREWED                6 FL OZ  | 180.0 | 0.0 |  0 |\n| TEA; BREWED                   8 FL OZ  | 240.0 | 0.0 |  0 |\n| TEA; INSTANT;PREPRD;UNSWEETEND8 FL OZ  | 241.0 | 0.0 |  0 |\n| LETTUCE; BUTTERHEAD; RAW;LEAVE1 LEAF   |  15.0 | 0.0 |  0 |\n| SALT                          1 TSP    |   5.5 | 0.0 |  0 |\n\n",
            "text/latex": "A spec\\_tbl\\_df: 961 × 4\n\\begin{tabular}{llll}\n foodItem & weightInGrams & saturatedFat & cholesterol\\\\\n <chr> & <dbl> & <dbl> & <dbl>\\\\\n\\hline\n\t GELATIN; DRY                  1 ENVELP &   7.00 &  0.0 &   0\\\\\n\t SEAWEED; SPIRULINA; DRIED     1 OZ     &  28.35 &  0.8 &   0\\\\\n\t YEAST; BAKERS; DRY; ACTIVE    1 PKG    &   7.00 &  0.0 &   0\\\\\n\t PARMESAN CHEESE; GRATED       1 OZ     &  28.35 &  5.4 &  22\\\\\n\t PARMESAN CHEESE; GRATED       1 CUP    & 100.00 & 19.1 &  79\\\\\n\t PARMESAN CHEESE; GRATED       1 TBSP   &   5.00 &  1.0 &   4\\\\\n\t YEAST; BREWERS; DRY           1 TBSP   &   8.00 &  0.0 &   0\\\\\n\t LAMB;CHOPS;ARM;BRAISED;LEAN   1.7 OZ   &  48.00 &  2.9 &  59\\\\\n\t TUNA; CANND; DRND;WATR; WHITE 3 OZ     &  85.00 &  0.3 &  48\\\\\n\t NONFAT DRY MILK; INSTANTIZED  1 CUP    &  68.00 &  0.3 &  12\\\\\n\t NONFAT DRY MILK; INSTANTIZED  1 ENVLPE &  91.00 &  0.4 &  17\\\\\n\t BUTTERMILK; DRIED             1 CUP    & 120.00 &  4.3 &  83\\\\\n\t BEEF; DRIED; CHIPPED          2.5 OZ   &  72.00 &  1.8 &  46\\\\\n\t PORK SHOULDER; BRAISD; LEAN   2.4 OZ   &  67.00 &  2.8 &  76\\\\\n\t BEEF; CKD;BTTM ROUND;LEAN ONLY2.8 OZ   &  78.00 &  2.7 &  75\\\\\n\t PORK CHOP; LOIN; BROIL; LEAN  2.5 OZ   &  72.00 &  2.6 &  71\\\\\n\t LAMB;CHOPS;ARM;BRAISED;LEAN+FT2.2 OZ   &  63.00 &  6.9 &  77\\\\\n\t CHICKEN; FRIED; FLOUR; BREAST 3.5 OZ   &  98.00 &  2.4 &  87\\\\\n\t PORK; CURED; BACON; REGUL;CKED3 SLICE  &  19.00 &  3.3 &  16\\\\\n\t CHICKEN; ROASTED; BREAST      3.0 OZ   &  86.00 &  0.9 &  73\\\\\n\t PEANUT BUTTER                 1 TBSP   &  16.00 &  1.4 &   0\\\\\n\t BEEF; CKD;CHUCK BLADE;LEANONLY2.2 OZ   &  62.00 &  3.9 &  66\\\\\n\t BEEF STEAK;SIRLOIN;BROIL;LEAN 2.5 OZ   &  72.00 &  2.6 &  64\\\\\n\t LAMB;CHOPS;LOIN;BROIL;LEAN    2.3 OZ   &  64.00 &  2.6 &  60\\\\\n\t BEEF; CKD;BTTM ROUND;LEAN+ FAT3 OZ     &  85.00 &  4.8 &  81\\\\\n\t TURKEY; ROASTED; LIGHT + DARK 3 PIECES &  85.00 &  1.4 &  65\\\\\n\t TURKEY; ROASTED; LIGHT MEAT   2 PIECES &  85.00 &  0.9 &  59\\\\\n\t BEEF ROAST; EYE O RND; LEAN   2.6 OZ   &  75.00 &  1.9 &  52\\\\\n\t TURKEY; ROASTED; LIGHT + DARK 1 CUP    & 140.00 &  2.3 & 106\\\\\n\t PORK CHOP; LOIN;PANFRY; LEAN  2.4 OZ   &  67.00 &  3.7 &  72\\\\\n\t ⋮ & ⋮ & ⋮ & ⋮\\\\\n\t TABLE SYRUP (CORN AND MAPLE)  2 TBSP   &  42.0 & 0.0 &  0\\\\\n\t JELLIES                       1 PKT    &  14.0 & 0.0 &  0\\\\\n\t GIN;RUM;VODKA;WHISKY 90-PROOF 1.5 F OZ &  42.0 & 0.0 &  0\\\\\n\t GIN;RUM;VODKA;WHISKY 86-PROOF 1.5 F OZ &  42.0 & 0.0 &  0\\\\\n\t IMITATN WHIPD TOPING;PWDRD;PRP1 TBSP   &   4.0 & 0.4 &  0\\\\\n\t IMITATN WHIPD TOPING;PRESSRZD 1 TBSP   &   4.0 & 0.8 &  0\\\\\n\t MAYONNAISE; IMITATION         1 TBSP   &  15.0 & 0.5 &  4\\\\\n\t GIN;RUM;VODKA;WHISKY 80-PROOF 1.5 F OZ &  42.0 & 0.0 &  0\\\\\n\t SOUR CREAM                    1 TBSP   &  12.0 & 1.6 &  5\\\\\n\t LIGHT; COFFEE OR TABLE CREAM  1 TBSP   &  15.0 & 1.8 & 10\\\\\n\t BAKING POWDER;SAS;CAPO4+CASO4 1 TSP    &   2.9 & 0.0 &  0\\\\\n\t IMITATN SOUR DRESSING         1 TBSP   &  12.0 & 1.6 &  1\\\\\n\t BAKING POWDER;SAS; CA PO4     1 TSP    &   3.0 & 0.0 &  0\\\\\n\t FRENCH SALAD DRESSING; LOCALOR1 TBSP   &  16.0 & 0.2 &  0\\\\\n\t HALF AND HALF; CREAM          1 TBSP   &  15.0 & 1.1 &  6\\\\\n\t IMITATION CREAMERS; LIQUID FRZ1 TBSP   &  15.0 & 1.4 &  0\\\\\n\t BAKING POWDER; STRGHT PHOSPHAT1 TSP    &   3.8 & 0.0 &  0\\\\\n\t BAKING POWDER; LOW SODIUM     1 TSP    &   4.3 & 0.0 &  0\\\\\n\t POPSICLE                      1 POPCLE &  95.0 & 0.0 &  0\\\\\n\t PLUMS; RAW; 1-1/2-IN DIAM     1 PLUM   &  28.0 & 0.0 &  0\\\\\n\t LIMEADE;CONCEN;FROZEN;DILUTED 6 FL OZ  & 185.0 & 0.0 &  0\\\\\n\t ITALIAN SALAD DRESSING;LOCALOR1 TBSP   &  15.0 & 0.0 &  0\\\\\n\t LEMON JUICE; CANNED           1 TBSP   &  15.0 & 0.0 &  0\\\\\n\t TEA;INSTANT;PREPARD;SWEETENED 8 FL OZ  & 262.0 & 0.0 &  0\\\\\n\t CLUB SODA                     12 FL OZ & 355.0 & 0.0 &  0\\\\\n\t COFFEE; BREWED                6 FL OZ  & 180.0 & 0.0 &  0\\\\\n\t TEA; BREWED                   8 FL OZ  & 240.0 & 0.0 &  0\\\\\n\t TEA; INSTANT;PREPRD;UNSWEETEND8 FL OZ  & 241.0 & 0.0 &  0\\\\\n\t LETTUCE; BUTTERHEAD; RAW;LEAVE1 LEAF   &  15.0 & 0.0 &  0\\\\\n\t SALT                          1 TSP    &   5.5 & 0.0 &  0\\\\\n\\end{tabular}\n",
            "text/plain": [
              "    foodItem                               weightInGrams saturatedFat\n",
              "1   GELATIN; DRY                  1 ENVELP   7.00         0.0        \n",
              "2   SEAWEED; SPIRULINA; DRIED     1 OZ      28.35         0.8        \n",
              "3   YEAST; BAKERS; DRY; ACTIVE    1 PKG      7.00         0.0        \n",
              "4   PARMESAN CHEESE; GRATED       1 OZ      28.35         5.4        \n",
              "5   PARMESAN CHEESE; GRATED       1 CUP    100.00        19.1        \n",
              "6   PARMESAN CHEESE; GRATED       1 TBSP     5.00         1.0        \n",
              "7   YEAST; BREWERS; DRY           1 TBSP     8.00         0.0        \n",
              "8   LAMB;CHOPS;ARM;BRAISED;LEAN   1.7 OZ    48.00         2.9        \n",
              "9   TUNA; CANND; DRND;WATR; WHITE 3 OZ      85.00         0.3        \n",
              "10  NONFAT DRY MILK; INSTANTIZED  1 CUP     68.00         0.3        \n",
              "11  NONFAT DRY MILK; INSTANTIZED  1 ENVLPE  91.00         0.4        \n",
              "12  BUTTERMILK; DRIED             1 CUP    120.00         4.3        \n",
              "13  BEEF; DRIED; CHIPPED          2.5 OZ    72.00         1.8        \n",
              "14  PORK SHOULDER; BRAISD; LEAN   2.4 OZ    67.00         2.8        \n",
              "15  BEEF; CKD;BTTM ROUND;LEAN ONLY2.8 OZ    78.00         2.7        \n",
              "16  PORK CHOP; LOIN; BROIL; LEAN  2.5 OZ    72.00         2.6        \n",
              "17  LAMB;CHOPS;ARM;BRAISED;LEAN+FT2.2 OZ    63.00         6.9        \n",
              "18  CHICKEN; FRIED; FLOUR; BREAST 3.5 OZ    98.00         2.4        \n",
              "19  PORK; CURED; BACON; REGUL;CKED3 SLICE   19.00         3.3        \n",
              "20  CHICKEN; ROASTED; BREAST      3.0 OZ    86.00         0.9        \n",
              "21  PEANUT BUTTER                 1 TBSP    16.00         1.4        \n",
              "22  BEEF; CKD;CHUCK BLADE;LEANONLY2.2 OZ    62.00         3.9        \n",
              "23  BEEF STEAK;SIRLOIN;BROIL;LEAN 2.5 OZ    72.00         2.6        \n",
              "24  LAMB;CHOPS;LOIN;BROIL;LEAN    2.3 OZ    64.00         2.6        \n",
              "25  BEEF; CKD;BTTM ROUND;LEAN+ FAT3 OZ      85.00         4.8        \n",
              "26  TURKEY; ROASTED; LIGHT + DARK 3 PIECES  85.00         1.4        \n",
              "27  TURKEY; ROASTED; LIGHT MEAT   2 PIECES  85.00         0.9        \n",
              "28  BEEF ROAST; EYE O RND; LEAN   2.6 OZ    75.00         1.9        \n",
              "29  TURKEY; ROASTED; LIGHT + DARK 1 CUP    140.00         2.3        \n",
              "30  PORK CHOP; LOIN;PANFRY; LEAN  2.4 OZ    67.00         3.7        \n",
              "⋮   ⋮                                      ⋮             ⋮           \n",
              "932 TABLE SYRUP (CORN AND MAPLE)  2 TBSP    42.0         0.0         \n",
              "933 JELLIES                       1 PKT     14.0         0.0         \n",
              "934 GIN;RUM;VODKA;WHISKY 90-PROOF 1.5 F OZ  42.0         0.0         \n",
              "935 GIN;RUM;VODKA;WHISKY 86-PROOF 1.5 F OZ  42.0         0.0         \n",
              "936 IMITATN WHIPD TOPING;PWDRD;PRP1 TBSP     4.0         0.4         \n",
              "937 IMITATN WHIPD TOPING;PRESSRZD 1 TBSP     4.0         0.8         \n",
              "938 MAYONNAISE; IMITATION         1 TBSP    15.0         0.5         \n",
              "939 GIN;RUM;VODKA;WHISKY 80-PROOF 1.5 F OZ  42.0         0.0         \n",
              "940 SOUR CREAM                    1 TBSP    12.0         1.6         \n",
              "941 LIGHT; COFFEE OR TABLE CREAM  1 TBSP    15.0         1.8         \n",
              "942 BAKING POWDER;SAS;CAPO4+CASO4 1 TSP      2.9         0.0         \n",
              "943 IMITATN SOUR DRESSING         1 TBSP    12.0         1.6         \n",
              "944 BAKING POWDER;SAS; CA PO4     1 TSP      3.0         0.0         \n",
              "945 FRENCH SALAD DRESSING; LOCALOR1 TBSP    16.0         0.2         \n",
              "946 HALF AND HALF; CREAM          1 TBSP    15.0         1.1         \n",
              "947 IMITATION CREAMERS; LIQUID FRZ1 TBSP    15.0         1.4         \n",
              "948 BAKING POWDER; STRGHT PHOSPHAT1 TSP      3.8         0.0         \n",
              "949 BAKING POWDER; LOW SODIUM     1 TSP      4.3         0.0         \n",
              "950 POPSICLE                      1 POPCLE  95.0         0.0         \n",
              "951 PLUMS; RAW; 1-1/2-IN DIAM     1 PLUM    28.0         0.0         \n",
              "952 LIMEADE;CONCEN;FROZEN;DILUTED 6 FL OZ  185.0         0.0         \n",
              "953 ITALIAN SALAD DRESSING;LOCALOR1 TBSP    15.0         0.0         \n",
              "954 LEMON JUICE; CANNED           1 TBSP    15.0         0.0         \n",
              "955 TEA;INSTANT;PREPARD;SWEETENED 8 FL OZ  262.0         0.0         \n",
              "956 CLUB SODA                     12 FL OZ 355.0         0.0         \n",
              "957 COFFEE; BREWED                6 FL OZ  180.0         0.0         \n",
              "958 TEA; BREWED                   8 FL OZ  240.0         0.0         \n",
              "959 TEA; INSTANT;PREPRD;UNSWEETEND8 FL OZ  241.0         0.0         \n",
              "960 LETTUCE; BUTTERHEAD; RAW;LEAVE1 LEAF    15.0         0.0         \n",
              "961 SALT                          1 TSP      5.5         0.0         \n",
              "    cholesterol\n",
              "1     0        \n",
              "2     0        \n",
              "3     0        \n",
              "4    22        \n",
              "5    79        \n",
              "6     4        \n",
              "7     0        \n",
              "8    59        \n",
              "9    48        \n",
              "10   12        \n",
              "11   17        \n",
              "12   83        \n",
              "13   46        \n",
              "14   76        \n",
              "15   75        \n",
              "16   71        \n",
              "17   77        \n",
              "18   87        \n",
              "19   16        \n",
              "20   73        \n",
              "21    0        \n",
              "22   66        \n",
              "23   64        \n",
              "24   60        \n",
              "25   81        \n",
              "26   65        \n",
              "27   59        \n",
              "28   52        \n",
              "29  106        \n",
              "30   72        \n",
              "⋮   ⋮          \n",
              "932  0         \n",
              "933  0         \n",
              "934  0         \n",
              "935  0         \n",
              "936  0         \n",
              "937  0         \n",
              "938  4         \n",
              "939  0         \n",
              "940  5         \n",
              "941 10         \n",
              "942  0         \n",
              "943  1         \n",
              "944  0         \n",
              "945  0         \n",
              "946  6         \n",
              "947  0         \n",
              "948  0         \n",
              "949  0         \n",
              "950  0         \n",
              "951  0         \n",
              "952  0         \n",
              "953  0         \n",
              "954  0         \n",
              "955  0         \n",
              "956  0         \n",
              "957  0         \n",
              "958  0         \n",
              "959  0         \n",
              "960  0         \n",
              "961  0         "
            ]
          },
          "metadata": {}
        }
      ],
      "source": [
        "#read in data set\n",
        "library(readr)\n",
        "nutrition <- read_csv(\"https://raw.githubusercontent.com/CalColistra/IDS/main/Project4/problem2/nutritionSubset.csv\", show_col_types = FALSE)\n",
        "nutrition"
      ]
    },
    {
      "cell_type": "markdown",
      "source": [
        "# **Sort the data set by saturated_ fat and produce a listing of the five food items highest in saturated fat. Comment on the validity of comparing food items of different sizes.**"
      ],
      "metadata": {
        "id": "QGCXWdv-vERu"
      }
    },
    {
      "cell_type": "code",
      "source": [
        "nutrition[order(-nutrition$saturatedFat),][1:5,]"
      ],
      "metadata": {
        "colab": {
          "base_uri": "https://localhost:8080/",
          "height": 255
        },
        "id": "OMYGtfLTvhQK",
        "outputId": "97a64d67-c956-47fd-bf04-63aa031c09bf"
      },
      "execution_count": null,
      "outputs": [
        {
          "output_type": "display_data",
          "data": {
            "text/html": [
              "<table class=\"dataframe\">\n",
              "<caption>A tibble: 5 × 4</caption>\n",
              "<thead>\n",
              "\t<tr><th scope=col>foodItem</th><th scope=col>weightInGrams</th><th scope=col>saturatedFat</th><th scope=col>cholesterol</th></tr>\n",
              "\t<tr><th scope=col>&lt;chr&gt;</th><th scope=col>&lt;dbl&gt;</th><th scope=col>&lt;dbl&gt;</th><th scope=col>&lt;dbl&gt;</th></tr>\n",
              "</thead>\n",
              "<tbody>\n",
              "\t<tr><td>CHEESECAKE                    1 CAKE </td><td>1110</td><td>119.9</td><td>2053</td></tr>\n",
              "\t<tr><td>ICE CREAM; VANLLA; RICH 16% FT1/2 GAL</td><td>1188</td><td>118.3</td><td> 703</td></tr>\n",
              "\t<tr><td>YELLOWCAKE W/ CHOCFRSTNG;COMML1 CAKE </td><td>1108</td><td> 92.0</td><td> 609</td></tr>\n",
              "\t<tr><td>CREME PIE                     1 PIE  </td><td> 910</td><td> 90.1</td><td>  46</td></tr>\n",
              "\t<tr><td>LARD                          1 CUP  </td><td> 205</td><td> 80.4</td><td> 195</td></tr>\n",
              "</tbody>\n",
              "</table>\n"
            ],
            "text/markdown": "\nA tibble: 5 × 4\n\n| foodItem &lt;chr&gt; | weightInGrams &lt;dbl&gt; | saturatedFat &lt;dbl&gt; | cholesterol &lt;dbl&gt; |\n|---|---|---|---|\n| CHEESECAKE                    1 CAKE  | 1110 | 119.9 | 2053 |\n| ICE CREAM; VANLLA; RICH 16% FT1/2 GAL | 1188 | 118.3 |  703 |\n| YELLOWCAKE W/ CHOCFRSTNG;COMML1 CAKE  | 1108 |  92.0 |  609 |\n| CREME PIE                     1 PIE   |  910 |  90.1 |   46 |\n| LARD                          1 CUP   |  205 |  80.4 |  195 |\n\n",
            "text/latex": "A tibble: 5 × 4\n\\begin{tabular}{llll}\n foodItem & weightInGrams & saturatedFat & cholesterol\\\\\n <chr> & <dbl> & <dbl> & <dbl>\\\\\n\\hline\n\t CHEESECAKE                    1 CAKE  & 1110 & 119.9 & 2053\\\\\n\t ICE CREAM; VANLLA; RICH 16\\% FT1/2 GAL & 1188 & 118.3 &  703\\\\\n\t YELLOWCAKE W/ CHOCFRSTNG;COMML1 CAKE  & 1108 &  92.0 &  609\\\\\n\t CREME PIE                     1 PIE   &  910 &  90.1 &   46\\\\\n\t LARD                          1 CUP   &  205 &  80.4 &  195\\\\\n\\end{tabular}\n",
            "text/plain": [
              "  foodItem                              weightInGrams saturatedFat cholesterol\n",
              "1 CHEESECAKE                    1 CAKE  1110          119.9        2053       \n",
              "2 ICE CREAM; VANLLA; RICH 16% FT1/2 GAL 1188          118.3         703       \n",
              "3 YELLOWCAKE W/ CHOCFRSTNG;COMML1 CAKE  1108           92.0         609       \n",
              "4 CREME PIE                     1 PIE    910           90.1          46       \n",
              "5 LARD                          1 CUP    205           80.4         195       "
            ]
          },
          "metadata": {}
        }
      ]
    },
    {
      "cell_type": "markdown",
      "source": [
        "Comparing food items of different sizes means that the larger items will most likely have larger amounts of saturatedFat and cholesterol.  It is important to keep this in mind because if a small item is compared to a large item there will be a big difference in the results."
      ],
      "metadata": {
        "id": "p1oT2n30zPBQ"
      }
    },
    {
      "cell_type": "markdown",
      "source": [
        "# **Create a new variable, saturated_ fat_ per_gram, by dividing the amount of saturated fat  by the weight in grams. Sort the data set by saturated_ fat_ per_gram and produce a listing of the five food  items highest in saturated fat per gram. Which food has the most saturated fat per gram?**"
      ],
      "metadata": {
        "id": "py3LzpafvFy0"
      }
    },
    {
      "cell_type": "code",
      "source": [
        "#make a new column and put the saturated_fat_per_gram into it:\n",
        "nutrition$saturated_fat_per_gram <-((nutrition$saturatedFat)/(nutrition$weightInGrams))\n",
        "#print the first five in descending order:\n",
        "nutrition[order(-nutrition$saturated_fat_per_gram),][1:5,]"
      ],
      "metadata": {
        "colab": {
          "base_uri": "https://localhost:8080/",
          "height": 255
        },
        "id": "x1zv_eAovvJD",
        "outputId": "6bde5ad6-56d4-4ae3-e3f9-b095c896400c"
      },
      "execution_count": null,
      "outputs": [
        {
          "output_type": "display_data",
          "data": {
            "text/html": [
              "<table class=\"dataframe\">\n",
              "<caption>A tibble: 5 × 6</caption>\n",
              "<thead>\n",
              "\t<tr><th scope=col>foodItem</th><th scope=col>weightInGrams</th><th scope=col>saturatedFat</th><th scope=col>cholesterol</th><th scope=col>saturated_fat_per_gram</th><th scope=col>scaled_saturated_fat_per_gram</th></tr>\n",
              "\t<tr><th scope=col>&lt;chr&gt;</th><th scope=col>&lt;dbl&gt;</th><th scope=col>&lt;dbl&gt;</th><th scope=col>&lt;dbl&gt;</th><th scope=col>&lt;dbl&gt;</th><th scope=col>&lt;dbl[,1]&gt;</th></tr>\n",
              "</thead>\n",
              "<tbody>\n",
              "\t<tr><td>BUTTER; SALTED                1 TBSP </td><td> 14</td><td> 7.1</td><td> 31</td><td>0.5071429</td><td>7.106775</td></tr>\n",
              "\t<tr><td>BUTTER; UNSALTED              1 TBSP </td><td> 14</td><td> 7.1</td><td> 31</td><td>0.5071429</td><td>7.106775</td></tr>\n",
              "\t<tr><td>BUTTER; SALTED                1/2 CUP</td><td>113</td><td>57.1</td><td>247</td><td>0.5053097</td><td>7.079055</td></tr>\n",
              "\t<tr><td>BUTTER; UNSALTED              1/2 CUP</td><td>113</td><td>57.1</td><td>247</td><td>0.5053097</td><td>7.079055</td></tr>\n",
              "\t<tr><td>BUTTER; SALTED                1 PAT  </td><td>  5</td><td> 2.5</td><td> 11</td><td>0.5000000</td><td>6.998763</td></tr>\n",
              "</tbody>\n",
              "</table>\n"
            ],
            "text/markdown": "\nA tibble: 5 × 6\n\n| foodItem &lt;chr&gt; | weightInGrams &lt;dbl&gt; | saturatedFat &lt;dbl&gt; | cholesterol &lt;dbl&gt; | saturated_fat_per_gram &lt;dbl&gt; | scaled_saturated_fat_per_gram &lt;dbl[,1]&gt; |\n|---|---|---|---|---|---|\n| BUTTER; SALTED                1 TBSP  |  14 |  7.1 |  31 | 0.5071429 | 7.106775 |\n| BUTTER; UNSALTED              1 TBSP  |  14 |  7.1 |  31 | 0.5071429 | 7.106775 |\n| BUTTER; SALTED                1/2 CUP | 113 | 57.1 | 247 | 0.5053097 | 7.079055 |\n| BUTTER; UNSALTED              1/2 CUP | 113 | 57.1 | 247 | 0.5053097 | 7.079055 |\n| BUTTER; SALTED                1 PAT   |   5 |  2.5 |  11 | 0.5000000 | 6.998763 |\n\n",
            "text/latex": "A tibble: 5 × 6\n\\begin{tabular}{llllll}\n foodItem & weightInGrams & saturatedFat & cholesterol & saturated\\_fat\\_per\\_gram & scaled\\_saturated\\_fat\\_per\\_gram\\\\\n <chr> & <dbl> & <dbl> & <dbl> & <dbl> & <dbl{[},1{]}>\\\\\n\\hline\n\t BUTTER; SALTED                1 TBSP  &  14 &  7.1 &  31 & 0.5071429 & 7.106775\\\\\n\t BUTTER; UNSALTED              1 TBSP  &  14 &  7.1 &  31 & 0.5071429 & 7.106775\\\\\n\t BUTTER; SALTED                1/2 CUP & 113 & 57.1 & 247 & 0.5053097 & 7.079055\\\\\n\t BUTTER; UNSALTED              1/2 CUP & 113 & 57.1 & 247 & 0.5053097 & 7.079055\\\\\n\t BUTTER; SALTED                1 PAT   &   5 &  2.5 &  11 & 0.5000000 & 6.998763\\\\\n\\end{tabular}\n",
            "text/plain": [
              "  foodItem                              weightInGrams saturatedFat cholesterol\n",
              "1 BUTTER; SALTED                1 TBSP   14            7.1          31        \n",
              "2 BUTTER; UNSALTED              1 TBSP   14            7.1          31        \n",
              "3 BUTTER; SALTED                1/2 CUP 113           57.1         247        \n",
              "4 BUTTER; UNSALTED              1/2 CUP 113           57.1         247        \n",
              "5 BUTTER; SALTED                1 PAT     5            2.5          11        \n",
              "  saturated_fat_per_gram scaled_saturated_fat_per_gram\n",
              "1 0.5071429              7.106775                     \n",
              "2 0.5071429              7.106775                     \n",
              "3 0.5053097              7.079055                     \n",
              "4 0.5053097              7.079055                     \n",
              "5 0.5000000              6.998763                     "
            ]
          },
          "metadata": {}
        }
      ]
    },
    {
      "cell_type": "markdown",
      "source": [
        "Butter; Salted, 1 TBSP has the most saturated fat per gram"
      ],
      "metadata": {
        "id": "fRp8gSAT0B0v"
      }
    },
    {
      "cell_type": "markdown",
      "source": [
        "# **Standardize (zero mean) the field saturated_ fat_ per_gram, and produce a listing of all the food items that are outliers at the high end of the scale. How many food items are outliers at the low end of the scale?**"
      ],
      "metadata": {
        "id": "07ZGYkPfvKvY"
      }
    },
    {
      "cell_type": "code",
      "source": [
        "#make a new column and put the scaled saturated_fat_per_gram into it:\n",
        "nutrition$scaled_saturated_fat_per_gram <- scale(x = nutrition$saturated_fat_per_gram)\n",
        "#filter for most extreme outliers\n",
        "library(dplyr)\n",
        "outliers <- filter(nutrition, scaled_saturated_fat_per_gram > 3)\n",
        "outliers[order(-outliers$scaled_saturated_fat_per_gram),]"
      ],
      "metadata": {
        "colab": {
          "base_uri": "https://localhost:8080/",
          "height": 568
        },
        "id": "Wej_3_ng0DK9",
        "outputId": "5e6aaa03-d544-40ab-c9e1-93b392825f4d"
      },
      "execution_count": null,
      "outputs": [
        {
          "output_type": "display_data",
          "data": {
            "text/html": [
              "<table class=\"dataframe\">\n",
              "<caption>A tibble: 15 × 6</caption>\n",
              "<thead>\n",
              "\t<tr><th scope=col>foodItem</th><th scope=col>weightInGrams</th><th scope=col>saturatedFat</th><th scope=col>cholesterol</th><th scope=col>saturated_fat_per_gram</th><th scope=col>scaled_saturated_fat_per_gram</th></tr>\n",
              "\t<tr><th scope=col>&lt;chr&gt;</th><th scope=col>&lt;dbl&gt;</th><th scope=col>&lt;dbl&gt;</th><th scope=col>&lt;dbl&gt;</th><th scope=col>&lt;dbl&gt;</th><th scope=col>&lt;dbl[,1]&gt;</th></tr>\n",
              "</thead>\n",
              "<tbody>\n",
              "\t<tr><td>BUTTER; SALTED                1 TBSP </td><td> 14.00</td><td> 7.1</td><td> 31</td><td>0.5071429</td><td>7.106775</td></tr>\n",
              "\t<tr><td>BUTTER; UNSALTED              1 TBSP </td><td> 14.00</td><td> 7.1</td><td> 31</td><td>0.5071429</td><td>7.106775</td></tr>\n",
              "\t<tr><td>BUTTER; SALTED                1/2 CUP</td><td>113.00</td><td>57.1</td><td>247</td><td>0.5053097</td><td>7.079055</td></tr>\n",
              "\t<tr><td>BUTTER; UNSALTED              1/2 CUP</td><td>113.00</td><td>57.1</td><td>247</td><td>0.5053097</td><td>7.079055</td></tr>\n",
              "\t<tr><td>BUTTER; SALTED                1 PAT  </td><td>  5.00</td><td> 2.5</td><td> 11</td><td>0.5000000</td><td>6.998763</td></tr>\n",
              "\t<tr><td>BUTTER; UNSALTED              1 PAT  </td><td>  5.00</td><td> 2.5</td><td> 11</td><td>0.5000000</td><td>6.998763</td></tr>\n",
              "\t<tr><td>LARD                          1 TBSP </td><td> 13.00</td><td> 5.1</td><td> 12</td><td>0.3923077</td><td>5.370282</td></tr>\n",
              "\t<tr><td>LARD                          1 CUP  </td><td>205.00</td><td>80.4</td><td>195</td><td>0.3921951</td><td>5.368580</td></tr>\n",
              "\t<tr><td>IMITATION CREAMERS; POWDERED  1 TSP  </td><td>  2.00</td><td> 0.7</td><td>  0</td><td>0.3500000</td><td>4.730522</td></tr>\n",
              "\t<tr><td>CHOCOLATE; BITTER OT BAKING   1 OZ   </td><td> 28.35</td><td> 9.0</td><td>  0</td><td>0.3174603</td><td>4.238469</td></tr>\n",
              "\t<tr><td>COCONUT; DRIED; SWEETND;SHREDD1 CUP  </td><td> 93.00</td><td>29.3</td><td>  0</td><td>0.3150538</td><td>4.202078</td></tr>\n",
              "\t<tr><td>COCONUT; RAW; PIECE           1 PIECE</td><td> 45.00</td><td>13.4</td><td>  0</td><td>0.2977778</td><td>3.940837</td></tr>\n",
              "\t<tr><td>COCONUT; RAW; SHREDDED        1 CUP  </td><td> 80.00</td><td>23.8</td><td>  0</td><td>0.2975000</td><td>3.936637</td></tr>\n",
              "\t<tr><td>FATS; COOKING/VEGETBL SHORTENG1 TBSP </td><td> 13.00</td><td> 3.3</td><td>  0</td><td>0.2538462</td><td>3.276520</td></tr>\n",
              "\t<tr><td>FATS; COOKING/VEGETBL SHORTENG1 CUP  </td><td>205.00</td><td>51.3</td><td>  0</td><td>0.2502439</td><td>3.222049</td></tr>\n",
              "</tbody>\n",
              "</table>\n"
            ],
            "text/markdown": "\nA tibble: 15 × 6\n\n| foodItem &lt;chr&gt; | weightInGrams &lt;dbl&gt; | saturatedFat &lt;dbl&gt; | cholesterol &lt;dbl&gt; | saturated_fat_per_gram &lt;dbl&gt; | scaled_saturated_fat_per_gram &lt;dbl[,1]&gt; |\n|---|---|---|---|---|---|\n| BUTTER; SALTED                1 TBSP  |  14.00 |  7.1 |  31 | 0.5071429 | 7.106775 |\n| BUTTER; UNSALTED              1 TBSP  |  14.00 |  7.1 |  31 | 0.5071429 | 7.106775 |\n| BUTTER; SALTED                1/2 CUP | 113.00 | 57.1 | 247 | 0.5053097 | 7.079055 |\n| BUTTER; UNSALTED              1/2 CUP | 113.00 | 57.1 | 247 | 0.5053097 | 7.079055 |\n| BUTTER; SALTED                1 PAT   |   5.00 |  2.5 |  11 | 0.5000000 | 6.998763 |\n| BUTTER; UNSALTED              1 PAT   |   5.00 |  2.5 |  11 | 0.5000000 | 6.998763 |\n| LARD                          1 TBSP  |  13.00 |  5.1 |  12 | 0.3923077 | 5.370282 |\n| LARD                          1 CUP   | 205.00 | 80.4 | 195 | 0.3921951 | 5.368580 |\n| IMITATION CREAMERS; POWDERED  1 TSP   |   2.00 |  0.7 |   0 | 0.3500000 | 4.730522 |\n| CHOCOLATE; BITTER OT BAKING   1 OZ    |  28.35 |  9.0 |   0 | 0.3174603 | 4.238469 |\n| COCONUT; DRIED; SWEETND;SHREDD1 CUP   |  93.00 | 29.3 |   0 | 0.3150538 | 4.202078 |\n| COCONUT; RAW; PIECE           1 PIECE |  45.00 | 13.4 |   0 | 0.2977778 | 3.940837 |\n| COCONUT; RAW; SHREDDED        1 CUP   |  80.00 | 23.8 |   0 | 0.2975000 | 3.936637 |\n| FATS; COOKING/VEGETBL SHORTENG1 TBSP  |  13.00 |  3.3 |   0 | 0.2538462 | 3.276520 |\n| FATS; COOKING/VEGETBL SHORTENG1 CUP   | 205.00 | 51.3 |   0 | 0.2502439 | 3.222049 |\n\n",
            "text/latex": "A tibble: 15 × 6\n\\begin{tabular}{llllll}\n foodItem & weightInGrams & saturatedFat & cholesterol & saturated\\_fat\\_per\\_gram & scaled\\_saturated\\_fat\\_per\\_gram\\\\\n <chr> & <dbl> & <dbl> & <dbl> & <dbl> & <dbl{[},1{]}>\\\\\n\\hline\n\t BUTTER; SALTED                1 TBSP  &  14.00 &  7.1 &  31 & 0.5071429 & 7.106775\\\\\n\t BUTTER; UNSALTED              1 TBSP  &  14.00 &  7.1 &  31 & 0.5071429 & 7.106775\\\\\n\t BUTTER; SALTED                1/2 CUP & 113.00 & 57.1 & 247 & 0.5053097 & 7.079055\\\\\n\t BUTTER; UNSALTED              1/2 CUP & 113.00 & 57.1 & 247 & 0.5053097 & 7.079055\\\\\n\t BUTTER; SALTED                1 PAT   &   5.00 &  2.5 &  11 & 0.5000000 & 6.998763\\\\\n\t BUTTER; UNSALTED              1 PAT   &   5.00 &  2.5 &  11 & 0.5000000 & 6.998763\\\\\n\t LARD                          1 TBSP  &  13.00 &  5.1 &  12 & 0.3923077 & 5.370282\\\\\n\t LARD                          1 CUP   & 205.00 & 80.4 & 195 & 0.3921951 & 5.368580\\\\\n\t IMITATION CREAMERS; POWDERED  1 TSP   &   2.00 &  0.7 &   0 & 0.3500000 & 4.730522\\\\\n\t CHOCOLATE; BITTER OT BAKING   1 OZ    &  28.35 &  9.0 &   0 & 0.3174603 & 4.238469\\\\\n\t COCONUT; DRIED; SWEETND;SHREDD1 CUP   &  93.00 & 29.3 &   0 & 0.3150538 & 4.202078\\\\\n\t COCONUT; RAW; PIECE           1 PIECE &  45.00 & 13.4 &   0 & 0.2977778 & 3.940837\\\\\n\t COCONUT; RAW; SHREDDED        1 CUP   &  80.00 & 23.8 &   0 & 0.2975000 & 3.936637\\\\\n\t FATS; COOKING/VEGETBL SHORTENG1 TBSP  &  13.00 &  3.3 &   0 & 0.2538462 & 3.276520\\\\\n\t FATS; COOKING/VEGETBL SHORTENG1 CUP   & 205.00 & 51.3 &   0 & 0.2502439 & 3.222049\\\\\n\\end{tabular}\n",
            "text/plain": [
              "   foodItem                              weightInGrams saturatedFat cholesterol\n",
              "1  BUTTER; SALTED                1 TBSP   14.00         7.1          31        \n",
              "2  BUTTER; UNSALTED              1 TBSP   14.00         7.1          31        \n",
              "3  BUTTER; SALTED                1/2 CUP 113.00        57.1         247        \n",
              "4  BUTTER; UNSALTED              1/2 CUP 113.00        57.1         247        \n",
              "5  BUTTER; SALTED                1 PAT     5.00         2.5          11        \n",
              "6  BUTTER; UNSALTED              1 PAT     5.00         2.5          11        \n",
              "7  LARD                          1 TBSP   13.00         5.1          12        \n",
              "8  LARD                          1 CUP   205.00        80.4         195        \n",
              "9  IMITATION CREAMERS; POWDERED  1 TSP     2.00         0.7           0        \n",
              "10 CHOCOLATE; BITTER OT BAKING   1 OZ     28.35         9.0           0        \n",
              "11 COCONUT; DRIED; SWEETND;SHREDD1 CUP    93.00        29.3           0        \n",
              "12 COCONUT; RAW; PIECE           1 PIECE  45.00        13.4           0        \n",
              "13 COCONUT; RAW; SHREDDED        1 CUP    80.00        23.8           0        \n",
              "14 FATS; COOKING/VEGETBL SHORTENG1 TBSP   13.00         3.3           0        \n",
              "15 FATS; COOKING/VEGETBL SHORTENG1 CUP   205.00        51.3           0        \n",
              "   saturated_fat_per_gram scaled_saturated_fat_per_gram\n",
              "1  0.5071429              7.106775                     \n",
              "2  0.5071429              7.106775                     \n",
              "3  0.5053097              7.079055                     \n",
              "4  0.5053097              7.079055                     \n",
              "5  0.5000000              6.998763                     \n",
              "6  0.5000000              6.998763                     \n",
              "7  0.3923077              5.370282                     \n",
              "8  0.3921951              5.368580                     \n",
              "9  0.3500000              4.730522                     \n",
              "10 0.3174603              4.238469                     \n",
              "11 0.3150538              4.202078                     \n",
              "12 0.2977778              3.940837                     \n",
              "13 0.2975000              3.936637                     \n",
              "14 0.2538462              3.276520                     \n",
              "15 0.2502439              3.222049                     "
            ]
          },
          "metadata": {}
        }
      ]
    },
    {
      "cell_type": "code",
      "source": [
        "outliers_low <- filter(nutrition, scaled_saturated_fat_per_gram < -3)\n",
        "cat (\"There are\", sum(outliers_low), \"outliers in the saturated_fat_per_gram field \\n\\n\")"
      ],
      "metadata": {
        "colab": {
          "base_uri": "https://localhost:8080/"
        },
        "id": "8uvXcZN_3t7o",
        "outputId": "29f4991a-b40c-44b2-899c-2d747c56e2ee"
      },
      "execution_count": null,
      "outputs": [
        {
          "output_type": "stream",
          "name": "stdout",
          "text": [
            "There are 0 outliers in the saturated_fat_per_gram field \n",
            "\n"
          ]
        }
      ]
    },
    {
      "cell_type": "markdown",
      "source": [
        "# **Create a density plot for saturated_ fat_ per_gram.**"
      ],
      "metadata": {
        "id": "H2awntijvPbK"
      }
    },
    {
      "cell_type": "code",
      "source": [
        "# Kernel Density Plot\n",
        "d2 <- density(nutrition$scaled_saturated_fat_per_gram) \n",
        "# plots the results\n",
        "plot(d2, main=\"Kernel Density of Scaled Saturated Fat Per Gram\") \n",
        "# plots the results (filled)\n",
        "polygon(d2, col=\"orange\", border=\"blue\")"
      ],
      "metadata": {
        "colab": {
          "base_uri": "https://localhost:8080/",
          "height": 437
        },
        "id": "q8OUOtlC4ULP",
        "outputId": "9692e999-4d68-4f8a-e37e-4bceb0bdfb60"
      },
      "execution_count": null,
      "outputs": [
        {
          "output_type": "display_data",
          "data": {
            "text/plain": [
              "Plot with title “Kernel Density of Scaled Saturated Fat Per Gram”"
            ],
            "image/png": "[encoded data removed]"
          },
          "metadata": {
            "image/png": {
              "width": 420,
              "height": 420
            }
          }
        }
      ]
    }
  ]
}